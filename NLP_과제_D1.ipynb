{
  "nbformat": 4,
  "nbformat_minor": 0,
  "metadata": {
    "colab": {
      "provenance": [],
      "authorship_tag": "ABX9TyMFSoC7ZZ4tGjMexGSgAOVB",
      "include_colab_link": true
    },
    "kernelspec": {
      "name": "python3",
      "display_name": "Python 3"
    },
    "language_info": {
      "name": "python"
    }
  },
  "cells": [
    {
      "cell_type": "markdown",
      "metadata": {
        "id": "view-in-github",
        "colab_type": "text"
      },
      "source": [
        "<a href=\"https://colab.research.google.com/github/endnef2/big_leader/blob/main/NLP_%EA%B3%BC%EC%A0%9C_D1.ipynb\" target=\"_parent\"><img src=\"https://colab.research.google.com/assets/colab-badge.svg\" alt=\"Open In Colab\"/></a>"
      ]
    },
    {
      "cell_type": "markdown",
      "source": [
        "# 정규표현식"
      ],
      "metadata": {
        "id": "0W_9ids2gZrl"
      }
    },
    {
      "cell_type": "markdown",
      "source": [
        "## 43.1 문자열 판단하기"
      ],
      "metadata": {
        "id": "x7jScFYFg9V-"
      }
    },
    {
      "cell_type": "code",
      "execution_count": null,
      "metadata": {
        "colab": {
          "base_uri": "https://localhost:8080/"
        },
        "id": "pp7hOyIdbc9B",
        "outputId": "d95afa4d-87b8-4346-d8b3-cc0c80609548"
      },
      "outputs": [
        {
          "output_type": "execute_result",
          "data": {
            "text/plain": [
              "<re.Match object; span=(0, 5), match='Hello'>"
            ]
          },
          "metadata": {},
          "execution_count": 1
        }
      ],
      "source": [
        "# 과제\n",
        "import re\n",
        "re.match('Hello', 'Hello, world!') # 문자열이 있으므로 정규표현식 매치 객체가 반환됨"
      ]
    },
    {
      "cell_type": "code",
      "source": [
        "re.match('Python', 'Hello, world!')    # 문자열이 없으므로 아무것도 반환되지 않음"
      ],
      "metadata": {
        "id": "my-X9yYjgJ-j"
      },
      "execution_count": null,
      "outputs": []
    },
    {
      "cell_type": "markdown",
      "source": [
        "'^Hello'는 'Hello, world!'가 'Hello'로 시작하는지 판단하고,\n",
        "\n",
        "'world!$'는 'Hello, world!'가 'world!'로 끝나는지 판단합니다."
      ],
      "metadata": {
        "id": "tC8l7hU9goZb"
      }
    },
    {
      "cell_type": "code",
      "source": [
        "re.search('^Hello', 'Hello, world!')     # Hello로 시작하므로 패턴에 매칭됨"
      ],
      "metadata": {
        "colab": {
          "base_uri": "https://localhost:8080/"
        },
        "id": "_PYZE0cHgNI4",
        "outputId": "3e66e887-583c-452b-85a2-3ab3cb123401"
      },
      "execution_count": null,
      "outputs": [
        {
          "output_type": "execute_result",
          "data": {
            "text/plain": [
              "<re.Match object; span=(0, 5), match='Hello'>"
            ]
          },
          "metadata": {},
          "execution_count": 3
        }
      ]
    },
    {
      "cell_type": "code",
      "source": [
        "re.search('world!$', 'Hello, world!')"
      ],
      "metadata": {
        "colab": {
          "base_uri": "https://localhost:8080/"
        },
        "id": "w6qpMl50gf27",
        "outputId": "a6038ab9-2f62-4c7a-9427-b1e1d259b4da"
      },
      "execution_count": null,
      "outputs": [
        {
          "output_type": "execute_result",
          "data": {
            "text/plain": [
              "<re.Match object; span=(7, 13), match='world!'>"
            ]
          },
          "metadata": {},
          "execution_count": 4
        }
      ]
    },
    {
      "cell_type": "code",
      "source": [
        "re.match('hello|world', 'hello')"
      ],
      "metadata": {
        "colab": {
          "base_uri": "https://localhost:8080/"
        },
        "id": "k8TANuZYgwKd",
        "outputId": "2079f8db-cbf6-40e9-9d91-49796048f3bc"
      },
      "execution_count": null,
      "outputs": [
        {
          "output_type": "execute_result",
          "data": {
            "text/plain": [
              "<re.Match object; span=(0, 5), match='hello'>"
            ]
          },
          "metadata": {},
          "execution_count": 5
        }
      ]
    },
    {
      "cell_type": "markdown",
      "source": [
        "|는 특정 문자열에서 지정된 문자열(문자)이 하나라도 포함되는지 판단합니다. 기본 개념은 OR 연산자와 같습니다.\n",
        "\n",
        "문자열|문자열\n",
        "문자열|문자열|문자열|문자열\n",
        "'hello|world'는 문자열에서 'hello' 또는 'world'가 포함되는지 판단합니다."
      ],
      "metadata": {
        "id": "KfzhAI-Ig5a0"
      }
    },
    {
      "cell_type": "markdown",
      "source": [
        "## 43.2 범위 판단하기"
      ],
      "metadata": {
        "id": "5S5X2XMDhGWQ"
      }
    },
    {
      "cell_type": "markdown",
      "source": [
        "숫자 범위는 0-9처럼 표현하며 *는 문자(숫자)가 0개 이상 있는지, +는 1개 이상 있는지 판단합니다."
      ],
      "metadata": {
        "id": "uVs-zEWahylN"
      }
    },
    {
      "cell_type": "code",
      "source": [
        "re.match('[0-9]*', '1234') # 1234는 0부터 9까지 숫자가 0개 이상 있으므로 패턴에 매칭됨"
      ],
      "metadata": {
        "colab": {
          "base_uri": "https://localhost:8080/"
        },
        "id": "RqT4xbbzgzbH",
        "outputId": "2017de01-330d-4c88-bf58-436f4a9d7b91"
      },
      "execution_count": null,
      "outputs": [
        {
          "output_type": "execute_result",
          "data": {
            "text/plain": [
              "<re.Match object; span=(0, 4), match='1234'>"
            ]
          },
          "metadata": {},
          "execution_count": 7
        }
      ]
    },
    {
      "cell_type": "code",
      "source": [
        "re.match('[0-9]*', 'abcd')"
      ],
      "metadata": {
        "colab": {
          "base_uri": "https://localhost:8080/"
        },
        "id": "gbcub84NiEkY",
        "outputId": "9a7745a3-a64a-4195-d80d-ec65fc9d18e9"
      },
      "execution_count": null,
      "outputs": [
        {
          "output_type": "execute_result",
          "data": {
            "text/plain": [
              "<re.Match object; span=(0, 0), match=''>"
            ]
          },
          "metadata": {},
          "execution_count": 11
        }
      ]
    },
    {
      "cell_type": "code",
      "source": [
        "re.match('[0-9]+', '1234')    # 1234는 0부터 9까지 숫자가 1개 이상 있으므로 패턴에 매칭됨"
      ],
      "metadata": {
        "colab": {
          "base_uri": "https://localhost:8080/"
        },
        "id": "f6uUCAOChMY8",
        "outputId": "99bc8ee2-27eb-4f5b-a883-5bbeb70b1509"
      },
      "execution_count": null,
      "outputs": [
        {
          "output_type": "execute_result",
          "data": {
            "text/plain": [
              "<re.Match object; span=(0, 4), match='1234'>"
            ]
          },
          "metadata": {},
          "execution_count": 8
        }
      ]
    },
    {
      "cell_type": "code",
      "source": [
        "re.match('[0-9]+', 'abcd')    # abcd는 0부터 9까지 숫자가 1개 이상 없으므로 패턴에 매칭되지 않음"
      ],
      "metadata": {
        "id": "qfCcepHThQ8Y"
      },
      "execution_count": null,
      "outputs": []
    },
    {
      "cell_type": "code",
      "source": [
        "re.match('a*b', 'b')      # b에는 a가 0개 이상 있으므로 패턴에 매칭됨"
      ],
      "metadata": {
        "colab": {
          "base_uri": "https://localhost:8080/"
        },
        "id": "PGeiUauXhk8t",
        "outputId": "987b57f5-aa29-4b03-b30e-d06a3264149a"
      },
      "execution_count": null,
      "outputs": [
        {
          "output_type": "execute_result",
          "data": {
            "text/plain": [
              "<re.Match object; span=(0, 1), match='b'>"
            ]
          },
          "metadata": {},
          "execution_count": 12
        }
      ]
    },
    {
      "cell_type": "code",
      "source": [
        "re.match('a+b', 'b')      # b에는 a가 1개 이상 없으므로 패턴에 매칭되지 않음"
      ],
      "metadata": {
        "id": "w9RrUM3ridkn"
      },
      "execution_count": null,
      "outputs": []
    },
    {
      "cell_type": "code",
      "source": [
        "re.match('a*b', 'aab')    # aab에는 a가 0개 이상 있으므로 패턴에 매칭됨"
      ],
      "metadata": {
        "colab": {
          "base_uri": "https://localhost:8080/"
        },
        "id": "DYvzAKAjiid0",
        "outputId": "2bf83809-72fb-4c2c-ca59-b6d355123b87"
      },
      "execution_count": null,
      "outputs": [
        {
          "output_type": "execute_result",
          "data": {
            "text/plain": [
              "<re.Match object; span=(0, 3), match='aab'>"
            ]
          },
          "metadata": {},
          "execution_count": 14
        }
      ]
    },
    {
      "cell_type": "code",
      "source": [
        "re.match('a+b', 'aab')    # aab에는 a가 1개 이상 있으므로 패턴에 매칭됨"
      ],
      "metadata": {
        "colab": {
          "base_uri": "https://localhost:8080/"
        },
        "id": "_w3N8XdLixhq",
        "outputId": "8cbd698d-d0f2-4825-c99f-2aeea5ed7bf7"
      },
      "execution_count": null,
      "outputs": [
        {
          "output_type": "execute_result",
          "data": {
            "text/plain": [
              "<re.Match object; span=(0, 3), match='aab'>"
            ]
          },
          "metadata": {},
          "execution_count": 15
        }
      ]
    },
    {
      "cell_type": "markdown",
      "source": [
        "?와 .을 사용합니다. ?는 ? 앞의 문자(범위)가 0개 또는 1개인지 판단하고, .은 .이 있는 위치에 아무 문자(숫자)가 1개 있는지 판단합니다."
      ],
      "metadata": {
        "id": "Stf57vRfj9EV"
      }
    },
    {
      "cell_type": "code",
      "source": [
        "# 문자가 한 개만 있는지?\n",
        "re.match('abc?d', 'abd')         # abd에서 c 위치에 c가 0개 있으므로 패턴에 매칭됨"
      ],
      "metadata": {
        "colab": {
          "base_uri": "https://localhost:8080/"
        },
        "id": "UE_DZAK5i1Ll",
        "outputId": "9cd30b14-5edf-4e23-aa9f-dfcea2409ef1"
      },
      "execution_count": null,
      "outputs": [
        {
          "output_type": "execute_result",
          "data": {
            "text/plain": [
              "<re.Match object; span=(0, 3), match='abd'>"
            ]
          },
          "metadata": {},
          "execution_count": 16
        }
      ]
    },
    {
      "cell_type": "code",
      "source": [
        "re.match('ab[0-9]?c', 'ab3c')    # [0-9] 위치에 숫자가 1개 있으므로 패턴에 매칭됨"
      ],
      "metadata": {
        "colab": {
          "base_uri": "https://localhost:8080/"
        },
        "id": "O_PlVuf0jEo3",
        "outputId": "cd860961-ed33-4bfb-d7cb-52d300edbdc4"
      },
      "execution_count": null,
      "outputs": [
        {
          "output_type": "execute_result",
          "data": {
            "text/plain": [
              "<re.Match object; span=(0, 4), match='ab3c'>"
            ]
          },
          "metadata": {},
          "execution_count": 17
        }
      ]
    },
    {
      "cell_type": "code",
      "source": [
        "re.match('ab.d', 'abxd')         # .이 있는 위치에 문자가 1개 있으므로 패턴에 매칭됨"
      ],
      "metadata": {
        "colab": {
          "base_uri": "https://localhost:8080/"
        },
        "id": "e-6ejs9rjHA9",
        "outputId": "3d1d5542-1111-4e6d-9148-b5fac3aa0e48"
      },
      "execution_count": null,
      "outputs": [
        {
          "output_type": "execute_result",
          "data": {
            "text/plain": [
              "<re.Match object; span=(0, 4), match='abxd'>"
            ]
          },
          "metadata": {},
          "execution_count": 18
        }
      ]
    },
    {
      "cell_type": "markdown",
      "source": [
        "문자{개수}\n",
        "\n",
        "(문자열){개수}"
      ],
      "metadata": {
        "id": "cOfTcZFdkF6V"
      }
    },
    {
      "cell_type": "code",
      "source": [
        "# 문자 개수 판단하기\n",
        "re.match('h{3}', 'hhhello')"
      ],
      "metadata": {
        "colab": {
          "base_uri": "https://localhost:8080/"
        },
        "id": "cA4h1CKwjITW",
        "outputId": "caa8603f-6ed6-4070-d15d-c374c818dfde"
      },
      "execution_count": null,
      "outputs": [
        {
          "output_type": "execute_result",
          "data": {
            "text/plain": [
              "<re.Match object; span=(0, 3), match='hhh'>"
            ]
          },
          "metadata": {},
          "execution_count": 19
        }
      ]
    },
    {
      "cell_type": "code",
      "source": [
        "re.match('(hello){3}', 'hellohellohelloworld')"
      ],
      "metadata": {
        "colab": {
          "base_uri": "https://localhost:8080/"
        },
        "id": "zF7O0ogyjpXl",
        "outputId": "0a600e08-b35a-4c2a-ca5e-c4ff7985bc10"
      },
      "execution_count": null,
      "outputs": [
        {
          "output_type": "execute_result",
          "data": {
            "text/plain": [
              "<re.Match object; span=(0, 15), match='hellohellohello'>"
            ]
          },
          "metadata": {},
          "execution_count": 20
        }
      ]
    },
    {
      "cell_type": "markdown",
      "source": [
        "(문자){시작개수,끝개수}\n",
        "\n",
        "(문자열){시작개수,끝개수}\n",
        "\n",
        "[0-9]{시작개수,끝개수}"
      ],
      "metadata": {
        "id": "nMsiiDbVkPTh"
      }
    },
    {
      "cell_type": "code",
      "source": [
        "re.match('[0-9]{3}-[0-9]{4}-[0-9]{4}', '010-1000-1000')    # 숫자 3개-4개-4개 패턴에 매칭됨"
      ],
      "metadata": {
        "colab": {
          "base_uri": "https://localhost:8080/"
        },
        "id": "25Lp4vU8jrHS",
        "outputId": "699a0bf2-18ab-46f8-cc0d-d0e04a7410fd"
      },
      "execution_count": null,
      "outputs": [
        {
          "output_type": "execute_result",
          "data": {
            "text/plain": [
              "<re.Match object; span=(0, 13), match='010-1000-1000'>"
            ]
          },
          "metadata": {},
          "execution_count": 21
        }
      ]
    },
    {
      "cell_type": "code",
      "source": [
        "re.match('[0-9]{3}-[0-9]{4}-[0-9]{4}', '010-1000-100')   # 숫자 3개-4개-4개 패턴에 매칭되지 않음"
      ],
      "metadata": {
        "id": "k60Ld7Y0jzRa"
      },
      "execution_count": null,
      "outputs": []
    },
    {
      "cell_type": "code",
      "source": [
        "re.match('[0-9]{2,3}-[0-9]{3,4}-[0-9]{4}', '02-100-1000') # 2~3개-3~4개-4개 패턴에 매칭됨"
      ],
      "metadata": {
        "colab": {
          "base_uri": "https://localhost:8080/"
        },
        "id": "cHK9O-KYj1Ew",
        "outputId": "2e54571c-0a5d-4ab8-bf2b-06fc26c40951"
      },
      "execution_count": null,
      "outputs": [
        {
          "output_type": "execute_result",
          "data": {
            "text/plain": [
              "<re.Match object; span=(0, 11), match='02-100-1000'>"
            ]
          },
          "metadata": {},
          "execution_count": 23
        }
      ]
    },
    {
      "cell_type": "code",
      "source": [
        "re.match('[0-9]{2,3}-[0-9]{3,4}-[0-9]{4}', '02-10-1000')  # 2~3개-3~4개-4개 패턴에 매칭되지 않음"
      ],
      "metadata": {
        "id": "_ATv0DKokfew"
      },
      "execution_count": null,
      "outputs": []
    },
    {
      "cell_type": "markdown",
      "source": [
        "a-z\n",
        "\n",
        "A-Z"
      ],
      "metadata": {
        "id": "XhBUw-O4ktQ_"
      }
    },
    {
      "cell_type": "code",
      "source": [
        "re.match('[a-zA-Z0-9]+', 'Hello1234') # a부터 z, A부터 Z, 0부터 9까지 1개 이상 있으므로"
      ],
      "metadata": {
        "colab": {
          "base_uri": "https://localhost:8080/"
        },
        "id": "eo-4VTcgkrSr",
        "outputId": "f2b2406b-6378-4cd8-e904-73c62c502700"
      },
      "execution_count": null,
      "outputs": [
        {
          "output_type": "execute_result",
          "data": {
            "text/plain": [
              "<re.Match object; span=(0, 9), match='Hello1234'>"
            ]
          },
          "metadata": {},
          "execution_count": 26
        }
      ]
    },
    {
      "cell_type": "code",
      "source": [
        "re.match('[A-Z0-9]+', 'hello')    # 대문자, 숫자는 없고 소문자만 있으므로 패턴에 매칭되지 않음"
      ],
      "metadata": {
        "id": "2ehFF0Pqk5o9"
      },
      "execution_count": null,
      "outputs": []
    },
    {
      "cell_type": "code",
      "source": [
        "re.match('[가-힣]+', '홍길동')    # 가부터 힣까지 1개 이상 있으므로 패턴에 매칭됨"
      ],
      "metadata": {
        "colab": {
          "base_uri": "https://localhost:8080/"
        },
        "id": "g3Ne2MZjk9U0",
        "outputId": "78d2b7fb-4a0f-4ded-b553-8c680004e0c1"
      },
      "execution_count": null,
      "outputs": [
        {
          "output_type": "execute_result",
          "data": {
            "text/plain": [
              "<re.Match object; span=(0, 3), match='홍길동'>"
            ]
          },
          "metadata": {},
          "execution_count": 28
        }
      ]
    },
    {
      "cell_type": "code",
      "source": [
        "re.match('[가-힣]+', '오오호호hi')    # 가부터 힣까지 1개 이상 있으므로 패턴에 매칭됨"
      ],
      "metadata": {
        "colab": {
          "base_uri": "https://localhost:8080/"
        },
        "id": "MOPKBuDxlDZC",
        "outputId": "8eaf43ab-c1e6-4c74-a53e-ee91a38a8807"
      },
      "execution_count": null,
      "outputs": [
        {
          "output_type": "execute_result",
          "data": {
            "text/plain": [
              "<re.Match object; span=(0, 4), match='오오호호'>"
            ]
          },
          "metadata": {},
          "execution_count": 32
        }
      ]
    },
    {
      "cell_type": "code",
      "source": [
        "re.match('[가-힣]+', 'hi오오호호hi')    # 가부터 힣까지 1개 이상 있으므로 패턴에 매칭됨"
      ],
      "metadata": {
        "id": "Ng_1Jhr5lHvw"
      },
      "execution_count": null,
      "outputs": []
    },
    {
      "cell_type": "code",
      "source": [
        "re.match('[가-힣]+', 'hi오오호호')    # 가부터 힣까지 1개 이상 있으므로 패턴에 매칭됨"
      ],
      "metadata": {
        "id": "lRONM2BFlT93"
      },
      "execution_count": null,
      "outputs": []
    },
    {
      "cell_type": "markdown",
      "source": [
        "특정 문자 범위에 포함 유무\n",
        "\n",
        "[^범위]*\n",
        "\n",
        "[^범위]+"
      ],
      "metadata": {
        "id": "TVtML9ezlrhX"
      }
    },
    {
      "cell_type": "code",
      "source": [
        "re.match('[^A-Z]+', 'Hello')    # 대문자를 제외. 대문자가 있으므로 패턴에 매칭되지 않음"
      ],
      "metadata": {
        "id": "dnJPlo-WlVoe"
      },
      "execution_count": null,
      "outputs": []
    },
    {
      "cell_type": "code",
      "source": [
        "re.match('[^A-Z]+', 'hello')    # 대문자를 제외. 대문자가 없으므로 패턴에 매칭됨"
      ],
      "metadata": {
        "colab": {
          "base_uri": "https://localhost:8080/"
        },
        "id": "EStoNzVelvVS",
        "outputId": "b6be961c-7d39-4de0-d697-e084685763f9"
      },
      "execution_count": null,
      "outputs": [
        {
          "output_type": "execute_result",
          "data": {
            "text/plain": [
              "<re.Match object; span=(0, 5), match='hello'>"
            ]
          },
          "metadata": {},
          "execution_count": 36
        }
      ]
    },
    {
      "cell_type": "code",
      "source": [
        "re.search('^[A-Z]+', 'Hello')        # 대문자로 시작하므로 패턴에 매칭됨"
      ],
      "metadata": {
        "colab": {
          "base_uri": "https://localhost:8080/"
        },
        "id": "Q-hiMYjelytr",
        "outputId": "0047f2c4-fb52-4ecd-aed1-122f16ca5a51"
      },
      "execution_count": null,
      "outputs": [
        {
          "output_type": "execute_result",
          "data": {
            "text/plain": [
              "<re.Match object; span=(0, 1), match='H'>"
            ]
          },
          "metadata": {},
          "execution_count": 37
        }
      ]
    },
    {
      "cell_type": "markdown",
      "source": [
        "[범위]*$\n",
        "\n",
        "[범위]+$"
      ],
      "metadata": {
        "id": "rosMXtrGl79o"
      }
    },
    {
      "cell_type": "code",
      "source": [
        "re.search('[0-9]+$', 'Hello1234')    # 숫자로 끝나므로 패턴에 매칭됨"
      ],
      "metadata": {
        "colab": {
          "base_uri": "https://localhost:8080/"
        },
        "id": "EWMb1uynl5xl",
        "outputId": "4aca9cb6-70af-455f-8d96-b8c377559d6a"
      },
      "execution_count": null,
      "outputs": [
        {
          "output_type": "execute_result",
          "data": {
            "text/plain": [
              "<re.Match object; span=(5, 9), match='1234'>"
            ]
          },
          "metadata": {},
          "execution_count": 38
        }
      ]
    },
    {
      "cell_type": "code",
      "source": [
        "re.search('\\*+', '1 ** 2')                    # *이 들어있는지 판단"
      ],
      "metadata": {
        "colab": {
          "base_uri": "https://localhost:8080/"
        },
        "id": "BN6yVZJTl-GZ",
        "outputId": "d6e21388-5171-4046-acf9-535d91176460"
      },
      "execution_count": null,
      "outputs": [
        {
          "output_type": "execute_result",
          "data": {
            "text/plain": [
              "<re.Match object; span=(2, 4), match='**'>"
            ]
          },
          "metadata": {},
          "execution_count": 39
        }
      ]
    },
    {
      "cell_type": "code",
      "source": [
        "re.match('[$()a-zA-Z0-9]+', '$(document)')    # $, (, )와 문자, 숫자가 들어있는지 판단"
      ],
      "metadata": {
        "colab": {
          "base_uri": "https://localhost:8080/"
        },
        "id": "YTWnuU4WmACI",
        "outputId": "0352527a-9c57-494b-cfc9-8e072d8d07c7"
      },
      "execution_count": null,
      "outputs": [
        {
          "output_type": "execute_result",
          "data": {
            "text/plain": [
              "<re.Match object; span=(0, 11), match='$(document)'>"
            ]
          },
          "metadata": {},
          "execution_count": 40
        }
      ]
    },
    {
      "cell_type": "markdown",
      "source": [
        "\\d: [0-9]와 같음. 모든 숫자\n",
        "\n",
        "\\D: [^0-9]와 같음. 숫자를 제외한 모든 문자\n",
        "\n",
        "\\w: [a-zA-Z0-9_]와 같음. 영문 대소문자, 숫자, 밑줄 문자\n",
        "\n",
        "\\W: [^a-zA-Z0-9_]와 같음. 영문 대소문자, 숫자, 밑줄 문자를 제외한 모든 문자"
      ],
      "metadata": {
        "id": "IGMJKHQlmNDz"
      }
    },
    {
      "cell_type": "code",
      "source": [
        "re.match('\\d+', '1234')          # 모든 숫자이므로 패턴에 매칭됨"
      ],
      "metadata": {
        "colab": {
          "base_uri": "https://localhost:8080/"
        },
        "id": "sKRhEIjKmBXq",
        "outputId": "5c6bb4b7-2706-4bd3-b42b-e0250527b955"
      },
      "execution_count": null,
      "outputs": [
        {
          "output_type": "execute_result",
          "data": {
            "text/plain": [
              "<re.Match object; span=(0, 4), match='1234'>"
            ]
          },
          "metadata": {},
          "execution_count": 41
        }
      ]
    },
    {
      "cell_type": "code",
      "source": [
        "re.match('\\D+', 'Hello')         # 숫자를 제외한 모든 문자이므로 패턴에 매칭됨"
      ],
      "metadata": {
        "colab": {
          "base_uri": "https://localhost:8080/"
        },
        "id": "Jq68ij9ymTFN",
        "outputId": "88c1a774-4dd2-4982-8338-39ffee1c5707"
      },
      "execution_count": null,
      "outputs": [
        {
          "output_type": "execute_result",
          "data": {
            "text/plain": [
              "<re.Match object; span=(0, 5), match='Hello'>"
            ]
          },
          "metadata": {},
          "execution_count": 42
        }
      ]
    },
    {
      "cell_type": "code",
      "source": [
        "re.match('\\w+', 'Hello_1234')    # 영문 대소문자, 숫자, 밑줄 문자이므로 패턴에 매칭됨"
      ],
      "metadata": {
        "colab": {
          "base_uri": "https://localhost:8080/"
        },
        "id": "KjShkMEsmUWy",
        "outputId": "e8027882-29db-4554-fdea-f00bbd8f1c6b"
      },
      "execution_count": null,
      "outputs": [
        {
          "output_type": "execute_result",
          "data": {
            "text/plain": [
              "<re.Match object; span=(0, 10), match='Hello_1234'>"
            ]
          },
          "metadata": {},
          "execution_count": 43
        }
      ]
    },
    {
      "cell_type": "code",
      "source": [
        "re.match('\\W+', '(:)')    # 영문 대소문자, 숫자, 밑줄문자를 제외한 모든 문자이므로 패턴에 매칭됨"
      ],
      "metadata": {
        "colab": {
          "base_uri": "https://localhost:8080/"
        },
        "id": "b5Q1Ghf2mVpj",
        "outputId": "90a0d7c2-b6a0-4f1b-efa0-4933dada41cb"
      },
      "execution_count": null,
      "outputs": [
        {
          "output_type": "execute_result",
          "data": {
            "text/plain": [
              "<re.Match object; span=(0, 3), match='(:)'>"
            ]
          },
          "metadata": {},
          "execution_count": 44
        }
      ]
    },
    {
      "cell_type": "markdown",
      "source": [
        "공백 처리하기\n",
        "\n",
        "\\s: [ \\t\\n\\r\\f\\v]와 같음. 공백(스페이스), \\t(탭) \\n(새 줄, 라인 피드), \\r(캐리지 리턴), \\f(폼피드), \\v(수직 탭)을 포\n",
        "\n",
        "\\S: [^ \\t\\n\\r\\f\\v]와 같음. 공백을 제외하고 \\t, \\n, \\r, \\f, \\v만 포함"
      ],
      "metadata": {
        "id": "Y6uqydYrmYlB"
      }
    },
    {
      "cell_type": "code",
      "source": [
        "re.match('[a-zA-Z0-9 ]+', 'Hello 1234')     # ' '로 공백 표현"
      ],
      "metadata": {
        "colab": {
          "base_uri": "https://localhost:8080/"
        },
        "id": "uTixDIl6mW5g",
        "outputId": "62ee647b-b545-4055-b9d3-1cf9c4be1cb7"
      },
      "execution_count": null,
      "outputs": [
        {
          "output_type": "execute_result",
          "data": {
            "text/plain": [
              "<re.Match object; span=(0, 10), match='Hello 1234'>"
            ]
          },
          "metadata": {},
          "execution_count": 45
        }
      ]
    },
    {
      "cell_type": "code",
      "source": [
        "re.match('[a-zA-Z0-9\\s]+', 'Hello 1234')    # \\s로 공백 표현"
      ],
      "metadata": {
        "colab": {
          "base_uri": "https://localhost:8080/"
        },
        "id": "XDV1I93tm2dx",
        "outputId": "939713b4-8450-40b3-bcd4-d1a5362c13ac"
      },
      "execution_count": null,
      "outputs": [
        {
          "output_type": "execute_result",
          "data": {
            "text/plain": [
              "<re.Match object; span=(0, 10), match='Hello 1234'>"
            ]
          },
          "metadata": {},
          "execution_count": 46
        }
      ]
    },
    {
      "cell_type": "code",
      "source": [
        "p = re.compile('[0-9]+') # 정규표현식 패턴을 객체로 만듦\n",
        "p.match('1234') # 정규표현식 패턴 객체에서 match 메서드 사용\n",
        "\n",
        "p.search('hello') # 정규표현식 패턴 객체에서 search 메서드 사용"
      ],
      "metadata": {
        "id": "Jy1YduAWm3kH"
      },
      "execution_count": null,
      "outputs": []
    },
    {
      "cell_type": "code",
      "source": [
        "print(p.search('mm111as'))"
      ],
      "metadata": {
        "colab": {
          "base_uri": "https://localhost:8080/"
        },
        "id": "Z0QpF3binC7Q",
        "outputId": "0f8d43a9-d8e6-49c8-90a8-11c0f18a59f0"
      },
      "execution_count": null,
      "outputs": [
        {
          "output_type": "stream",
          "name": "stdout",
          "text": [
            "<re.Match object; span=(2, 5), match='111'>\n"
          ]
        }
      ]
    },
    {
      "cell_type": "markdown",
      "source": [
        "## 43.3 그룹 사용하기"
      ],
      "metadata": {
        "id": "Wf7dkxoGnaSu"
      }
    },
    {
      "cell_type": "code",
      "source": [
        "m = re.match('([0-9]+) ([0-9]+)', '10 295')\n",
        "m.group(1)  # 첫 번째 그룹(그룹 1)에 매칭된 문자열을 반환"
      ],
      "metadata": {
        "colab": {
          "base_uri": "https://localhost:8080/",
          "height": 35
        },
        "id": "NukghUEtnJy7",
        "outputId": "2b9d1990-8aec-4b22-c018-5850a3288de2"
      },
      "execution_count": null,
      "outputs": [
        {
          "output_type": "execute_result",
          "data": {
            "text/plain": [
              "'10'"
            ],
            "application/vnd.google.colaboratory.intrinsic+json": {
              "type": "string"
            }
          },
          "metadata": {},
          "execution_count": 54
        }
      ]
    },
    {
      "cell_type": "code",
      "source": [
        "m.group(2)  # 두 번째 그룹(그룹 2)에 매칭된 문자열을 반환"
      ],
      "metadata": {
        "colab": {
          "base_uri": "https://localhost:8080/",
          "height": 35
        },
        "id": "pAjOMYHVni5z",
        "outputId": "44d580c7-adb8-425b-b9fa-e8d6ff67feef"
      },
      "execution_count": null,
      "outputs": [
        {
          "output_type": "execute_result",
          "data": {
            "text/plain": [
              "'295'"
            ],
            "application/vnd.google.colaboratory.intrinsic+json": {
              "type": "string"
            }
          },
          "metadata": {},
          "execution_count": 55
        }
      ]
    },
    {
      "cell_type": "code",
      "source": [
        "m.group()  # 매칭된 문자열을 한꺼번에 반환"
      ],
      "metadata": {
        "colab": {
          "base_uri": "https://localhost:8080/",
          "height": 35
        },
        "id": "0XfV8J2ZnlcD",
        "outputId": "57e020cb-aac7-4c08-b331-be34c986995a"
      },
      "execution_count": null,
      "outputs": [
        {
          "output_type": "execute_result",
          "data": {
            "text/plain": [
              "'10 295'"
            ],
            "application/vnd.google.colaboratory.intrinsic+json": {
              "type": "string"
            }
          },
          "metadata": {},
          "execution_count": 57
        }
      ]
    },
    {
      "cell_type": "code",
      "source": [
        "m.group(0)  # 매칭된 문자열을 한꺼번에 반환"
      ],
      "metadata": {
        "colab": {
          "base_uri": "https://localhost:8080/",
          "height": 35
        },
        "id": "N5bNxHAsnmYp",
        "outputId": "d15d8dfb-d690-49a5-a491-258a4a50c3f4"
      },
      "execution_count": null,
      "outputs": [
        {
          "output_type": "execute_result",
          "data": {
            "text/plain": [
              "'10 295'"
            ],
            "application/vnd.google.colaboratory.intrinsic+json": {
              "type": "string"
            }
          },
          "metadata": {},
          "execution_count": 58
        }
      ]
    },
    {
      "cell_type": "code",
      "source": [
        "# m.groups() : 각 그룹에 해당하는 문자열을 튜플 형태로 반환\n",
        "m.groups()"
      ],
      "metadata": {
        "colab": {
          "base_uri": "https://localhost:8080/"
        },
        "id": "wdL5r74Qnpow",
        "outputId": "afac04f0-bd69-4176-8091-b586f3fa2cd6"
      },
      "execution_count": null,
      "outputs": [
        {
          "output_type": "execute_result",
          "data": {
            "text/plain": [
              "('10', '295')"
            ]
          },
          "metadata": {},
          "execution_count": 59
        }
      ]
    },
    {
      "cell_type": "code",
      "source": [
        "# fun는 a부터 z, A부터 Z, _ 문자\n",
        "# args는 \\w+ : 숫자와 알파벳 문자(대소문자 모두)와 밑줄 문자(_) 중 하나 이상이 반복되는 것을 의미\n",
        "m = re.match('(?P<func>[a-zA-Z_][a-zA-Z0-9_]+)\\((?P<arg>\\w+)\\)', 'print(1234)')\n",
        "\n",
        "# (?P<func>[a-zA-Z_][a-zA-Z0-9_]+ : 함수 이름을 매칭합니다."
      ],
      "metadata": {
        "id": "G4uzGY1Pn6E9"
      },
      "execution_count": null,
      "outputs": []
    },
    {
      "cell_type": "code",
      "source": [
        "m.group('func')    # 그룹 이름으로 매칭된 문자열 출력"
      ],
      "metadata": {
        "colab": {
          "base_uri": "https://localhost:8080/",
          "height": 35
        },
        "id": "_xcaPZh6n_2u",
        "outputId": "510e0c37-0dab-4cc3-99ca-8eb61f78022a"
      },
      "execution_count": null,
      "outputs": [
        {
          "output_type": "execute_result",
          "data": {
            "text/plain": [
              "'print'"
            ],
            "application/vnd.google.colaboratory.intrinsic+json": {
              "type": "string"
            }
          },
          "metadata": {},
          "execution_count": 61
        }
      ]
    },
    {
      "cell_type": "code",
      "source": [
        "m.group('arg')     # 그룹 이름으로 매칭된 문자열 출력"
      ],
      "metadata": {
        "colab": {
          "base_uri": "https://localhost:8080/",
          "height": 35
        },
        "id": "cbVmrFbLoGFP",
        "outputId": "ac2e48ca-8649-4119-856a-c7309d8b71c6"
      },
      "execution_count": null,
      "outputs": [
        {
          "output_type": "execute_result",
          "data": {
            "text/plain": [
              "'1234'"
            ],
            "application/vnd.google.colaboratory.intrinsic+json": {
              "type": "string"
            }
          },
          "metadata": {},
          "execution_count": 62
        }
      ]
    },
    {
      "cell_type": "code",
      "source": [
        "m.group()"
      ],
      "metadata": {
        "colab": {
          "base_uri": "https://localhost:8080/",
          "height": 35
        },
        "id": "-wWVLF_WqiiN",
        "outputId": "ba4af176-fe2e-4bfa-f13c-81d2538cce3c"
      },
      "execution_count": null,
      "outputs": [
        {
          "output_type": "execute_result",
          "data": {
            "text/plain": [
              "'print(1234)'"
            ],
            "application/vnd.google.colaboratory.intrinsic+json": {
              "type": "string"
            }
          },
          "metadata": {},
          "execution_count": 67
        }
      ]
    },
    {
      "cell_type": "code",
      "source": [
        "m"
      ],
      "metadata": {
        "colab": {
          "base_uri": "https://localhost:8080/"
        },
        "id": "lh-3YXk-oHMc",
        "outputId": "3b898d76-5cbb-4c76-e547-d6baffaf4d8f"
      },
      "execution_count": null,
      "outputs": [
        {
          "output_type": "execute_result",
          "data": {
            "text/plain": [
              "<re.Match object; span=(0, 11), match='print(1234)'>"
            ]
          },
          "metadata": {},
          "execution_count": 64
        }
      ]
    },
    {
      "cell_type": "code",
      "source": [
        "# import re\n",
        "\n",
        "# pattern = r'(?P<name>[a-zA-Z]+) is (?P<age>\\d+) years old'\n",
        "# text = \"Alice is 25 years old\"\n",
        "\n",
        "# match = re.match(pattern, text)\n",
        "# if match:\n",
        "#     name = match.group('name')  # 'Alice'\n",
        "#     age = match.group('age')    # '25'\n",
        "#     print(f\"Name: {name}, Age: {age}\")"
      ],
      "metadata": {
        "colab": {
          "base_uri": "https://localhost:8080/"
        },
        "id": "TXZyf96EoH8Y",
        "outputId": "72684872-9a0b-4899-95e7-323f4d31eb9b"
      },
      "execution_count": null,
      "outputs": [
        {
          "output_type": "stream",
          "name": "stdout",
          "text": [
            "Name: Alice, Age: 25\n"
          ]
        }
      ]
    },
    {
      "cell_type": "code",
      "source": [
        "# Fizz : 3의 배수, Buzz : 5의 배수, FizzBuzz : 3과 5의 공배수 이긴 하나...\n",
        "# 해당 '~~' 안에서 숫자만 찾는거임...\n",
        "re.findall('[0-9]+', '1 2 Fizz 4 Buzz Fizz 7 8')"
      ],
      "metadata": {
        "colab": {
          "base_uri": "https://localhost:8080/"
        },
        "id": "dH0MSA5mqrft",
        "outputId": "da8e7684-f93d-4d58-9d3d-1e1a13e0d06e"
      },
      "execution_count": null,
      "outputs": [
        {
          "output_type": "execute_result",
          "data": {
            "text/plain": [
              "['1', '2', '4', '7', '8']"
            ]
          },
          "metadata": {},
          "execution_count": 69
        }
      ]
    },
    {
      "cell_type": "markdown",
      "source": [
        "(.[a-z]+)*는 점과 영문 소문자가 1개 이상 있는지 판단하고,\n",
        "\n",
        "이것 자체가 0개 이상인지 판단합니다. 즉, 규칙은 반드시 지켜야\n",
        "\n",
        "하지만 있어도 되고 없어도 되는 상황에 사용합니다."
      ],
      "metadata": {
        "id": "M8wHNEdDr3At"
      }
    },
    {
      "cell_type": "code",
      "source": [
        " re.match('[a-z]+(.[a-z]+)*$', 'hello.world')    # .world는 문자열이므로 패턴에 매칭됨"
      ],
      "metadata": {
        "colab": {
          "base_uri": "https://localhost:8080/"
        },
        "id": "Kddx2TYfpQKA",
        "outputId": "424ca541-1a16-4df4-d310-7b9c9dad1ac1"
      },
      "execution_count": null,
      "outputs": [
        {
          "output_type": "execute_result",
          "data": {
            "text/plain": [
              "<re.Match object; span=(0, 11), match='hello.world'>"
            ]
          },
          "metadata": {},
          "execution_count": 70
        }
      ]
    },
    {
      "cell_type": "code",
      "source": [
        "re.match('[a-z]+(.[a-z]+)*$', 'hello.1234')     # .1234는 숫자이므로 패턴에 매칭되지 않음"
      ],
      "metadata": {
        "id": "gGLjXbcmrpqg"
      },
      "execution_count": null,
      "outputs": []
    },
    {
      "cell_type": "code",
      "source": [
        "re.match('[a-z]+(.[a-z]+)*$', 'hello')          # .뒤에 문자열이 없어도 패턴에 매칭됨"
      ],
      "metadata": {
        "colab": {
          "base_uri": "https://localhost:8080/"
        },
        "id": "tnNIh9YZrsAf",
        "outputId": "eead3f8d-6dc8-4ef9-8efe-9a68bd3875a9"
      },
      "execution_count": null,
      "outputs": [
        {
          "output_type": "execute_result",
          "data": {
            "text/plain": [
              "<re.Match object; span=(0, 5), match='hello'>"
            ]
          },
          "metadata": {},
          "execution_count": 72
        }
      ]
    },
    {
      "cell_type": "markdown",
      "source": [
        "## 43.4 문자열 바꾸기\n",
        "\n",
        "re.sub('패턴', '바꿀문자열', '문자열', 바꿀횟수)"
      ],
      "metadata": {
        "id": "e_luyF8psJV4"
      }
    },
    {
      "cell_type": "code",
      "source": [
        "re.sub('apple|orange', 'fruit', 'apple box orange tree')    # apple 또는 orange를 fruit로 바꿈"
      ],
      "metadata": {
        "colab": {
          "base_uri": "https://localhost:8080/",
          "height": 35
        },
        "id": "1pO2EIu-rtl5",
        "outputId": "6ac6a88c-2d43-4309-b429-f0afe61f578f"
      },
      "execution_count": null,
      "outputs": [
        {
          "output_type": "execute_result",
          "data": {
            "text/plain": [
              "'fruit box fruit tree'"
            ],
            "application/vnd.google.colaboratory.intrinsic+json": {
              "type": "string"
            }
          },
          "metadata": {},
          "execution_count": 73
        }
      ]
    },
    {
      "cell_type": "code",
      "source": [
        "re.sub('[0-9]+', 'n', '1 2 Fizz 4 Buzz Fizz 7 8')    # 숫자만 찾아서 n으로 바꿈"
      ],
      "metadata": {
        "colab": {
          "base_uri": "https://localhost:8080/",
          "height": 35
        },
        "id": "VnzP6mnVsRTY",
        "outputId": "8ee4c591-9ab5-4e4a-8335-30c92d915eae"
      },
      "execution_count": null,
      "outputs": [
        {
          "output_type": "execute_result",
          "data": {
            "text/plain": [
              "'n n Fizz n Buzz Fizz n n'"
            ],
            "application/vnd.google.colaboratory.intrinsic+json": {
              "type": "string"
            }
          },
          "metadata": {},
          "execution_count": 74
        }
      ]
    },
    {
      "cell_type": "code",
      "source": [
        "def multiple10(m):        # 매개변수로 매치 객체를 받음\n",
        "     n = int(m.group())    # 매칭된 문자열을 가져와서 정수로 변환\n",
        "     return str(n * 10)    # 숫자에 10을 곱한 뒤 문자열로 변환해서 반환"
      ],
      "metadata": {
        "id": "sIOH30y4sp1R"
      },
      "execution_count": null,
      "outputs": []
    },
    {
      "cell_type": "code",
      "source": [
        "re.sub('[0-9]+', multiple10, '1 2 Fizz 4 Buzz Fizz 7 8')"
      ],
      "metadata": {
        "colab": {
          "base_uri": "https://localhost:8080/",
          "height": 35
        },
        "id": "o35A9WOXsvqs",
        "outputId": "6bff6799-aff0-4e61-e15c-82a87faf13aa"
      },
      "execution_count": null,
      "outputs": [
        {
          "output_type": "execute_result",
          "data": {
            "text/plain": [
              "'10 20 Fizz 40 Buzz Fizz 70 80'"
            ],
            "application/vnd.google.colaboratory.intrinsic+json": {
              "type": "string"
            }
          },
          "metadata": {},
          "execution_count": 78
        }
      ]
    },
    {
      "cell_type": "code",
      "source": [
        "re.sub('[0-9]+', lambda m: str(int(m.group()) * 10), '1 2 Fizz 4 Buzz Fizz 7 8')"
      ],
      "metadata": {
        "colab": {
          "base_uri": "https://localhost:8080/",
          "height": 35
        },
        "id": "cueyivH8swz4",
        "outputId": "df338a94-828a-400e-c608-62308504eb31"
      },
      "execution_count": null,
      "outputs": [
        {
          "output_type": "execute_result",
          "data": {
            "text/plain": [
              "'10 20 Fizz 40 Buzz Fizz 70 80'"
            ],
            "application/vnd.google.colaboratory.intrinsic+json": {
              "type": "string"
            }
          },
          "metadata": {},
          "execution_count": 79
        }
      ]
    },
    {
      "cell_type": "markdown",
      "source": [
        "  \\\\숫자"
      ],
      "metadata": {
        "id": "4JUlSEzFs1c1"
      }
    },
    {
      "cell_type": "markdown",
      "source": [
        "'{ \"name\": \"james\" }'을 '<name>james</name>' 형식으로 바꿉니다."
      ],
      "metadata": {
        "id": "LSTJimq4s8El"
      }
    },
    {
      "cell_type": "code",
      "source": [
        "re.sub('({\\s*)\"(\\w+)\":\\s*\"(\\w+)\"(\\s*})', '<\\\\2>\\\\3</\\\\2>', '{ \"name\": \"james\" }')"
      ],
      "metadata": {
        "colab": {
          "base_uri": "https://localhost:8080/",
          "height": 35
        },
        "id": "SYbIW1tPs0Yi",
        "outputId": "00ece3a7-f13d-46f5-906f-700535914b64"
      },
      "execution_count": null,
      "outputs": [
        {
          "output_type": "execute_result",
          "data": {
            "text/plain": [
              "'<name>james</name>'"
            ],
            "application/vnd.google.colaboratory.intrinsic+json": {
              "type": "string"
            }
          },
          "metadata": {},
          "execution_count": 80
        }
      ]
    },
    {
      "cell_type": "code",
      "source": [
        "re.sub('({\\s*)\"(?P<key>\\w+)\":\\s*\"(?P<value>\\w+)\"(\\s*})', '<\\\\g<key>>\\\\g<value></\\\\g<key>>', '{ \"name\": \"james\" }')"
      ],
      "metadata": {
        "colab": {
          "base_uri": "https://localhost:8080/",
          "height": 35
        },
        "id": "aW1SnL75s53G",
        "outputId": "2b29adf9-ec2b-4d96-dacf-95c0146b8374"
      },
      "execution_count": null,
      "outputs": [
        {
          "output_type": "execute_result",
          "data": {
            "text/plain": [
              "'<name>james</name>'"
            ],
            "application/vnd.google.colaboratory.intrinsic+json": {
              "type": "string"
            }
          },
          "metadata": {},
          "execution_count": 81
        }
      ]
    },
    {
      "cell_type": "code",
      "source": [
        "import re\n",
        "\n",
        "p = re.compile('^[a-zA-Z0-9+-_.]+@[a-zA-Z0-9-]+\\.[a-zA-Z0-9-.]+$')\n",
        "emails = ['python@mail.example.com', 'python+kr@example.com',              # 올바른 형식\n",
        "          'python-dojang@example.co.kr', 'python_10@example.info',         # 올바른 형식\n",
        "          'python.dojang@e-xample.com',                                    # 올바른 형식\n",
        "          '@example.com', 'python@example', 'python@example-com']          # 잘못된 형식\n",
        "\n",
        "for email in emails:\n",
        "    print(p.match(email) != None, end=' ')"
      ],
      "metadata": {
        "colab": {
          "base_uri": "https://localhost:8080/"
        },
        "id": "_5Ex58irtAS2",
        "outputId": "b4a4cebf-562f-4183-a4e7-577eb9896128"
      },
      "execution_count": null,
      "outputs": [
        {
          "output_type": "stream",
          "name": "stdout",
          "text": [
            "True True True True True False False False "
          ]
        }
      ]
    }
  ]
}