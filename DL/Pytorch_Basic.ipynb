{
  "nbformat": 4,
  "nbformat_minor": 0,
  "metadata": {
    "colab": {
      "provenance": [],
      "authorship_tag": "ABX9TyN0IrH+TgWyZrsr9yYU2SHK",
      "include_colab_link": true
    },
    "kernelspec": {
      "name": "python3",
      "display_name": "Python 3"
    },
    "language_info": {
      "name": "python"
    }
  },
  "cells": [
    {
      "cell_type": "markdown",
      "metadata": {
        "id": "view-in-github",
        "colab_type": "text"
      },
      "source": [
        "<a href=\"https://colab.research.google.com/github/endnef2/big_leader/blob/main/DL/Pytorch_Basic.ipynb\" target=\"_parent\"><img src=\"https://colab.research.google.com/assets/colab-badge.svg\" alt=\"Open In Colab\"/></a>"
      ]
    },
    {
      "cell_type": "markdown",
      "source": [
        "## 1. Pytroch Autograd"
      ],
      "metadata": {
        "id": "2HrRUsBqUsMQ"
      }
    },
    {
      "cell_type": "code",
      "execution_count": null,
      "metadata": {
        "id": "aIXnjm8rUTkn"
      },
      "outputs": [],
      "source": [
        "import torch"
      ]
    },
    {
      "cell_type": "code",
      "source": [
        "torch.__version__"
      ],
      "metadata": {
        "colab": {
          "base_uri": "https://localhost:8080/",
          "height": 35
        },
        "id": "neW0D5jkU2AD",
        "outputId": "35f874b6-2053-47c4-b8ea-8544cbcbd830"
      },
      "execution_count": null,
      "outputs": [
        {
          "output_type": "execute_result",
          "data": {
            "text/plain": [
              "'2.0.1+cu118'"
            ],
            "application/vnd.google.colaboratory.intrinsic+json": {
              "type": "string"
            }
          },
          "metadata": {},
          "execution_count": 3
        }
      ]
    },
    {
      "cell_type": "code",
      "source": [
        "x = torch.randn(3)\n",
        "y = x+2"
      ],
      "metadata": {
        "id": "aDrn0A-AU5qR"
      },
      "execution_count": null,
      "outputs": []
    },
    {
      "cell_type": "code",
      "source": [
        "x"
      ],
      "metadata": {
        "colab": {
          "base_uri": "https://localhost:8080/"
        },
        "id": "aML_tb-nVDFC",
        "outputId": "b5a5eaf3-3b8a-4f65-d513-811f8ac7a606"
      },
      "execution_count": null,
      "outputs": [
        {
          "output_type": "execute_result",
          "data": {
            "text/plain": [
              "tensor([-1.4668, -0.7241, -1.2085])"
            ]
          },
          "metadata": {},
          "execution_count": 5
        }
      ]
    },
    {
      "cell_type": "code",
      "source": [
        "y"
      ],
      "metadata": {
        "colab": {
          "base_uri": "https://localhost:8080/"
        },
        "id": "t7FQUS9oVFo8",
        "outputId": "6a5a3d14-19f7-4c21-f67b-788b313390cd"
      },
      "execution_count": null,
      "outputs": [
        {
          "output_type": "execute_result",
          "data": {
            "text/plain": [
              "tensor([0.5332, 1.2759, 0.7915])"
            ]
          },
          "metadata": {},
          "execution_count": 6
        }
      ]
    },
    {
      "cell_type": "code",
      "source": [
        "z = y*y*3"
      ],
      "metadata": {
        "id": "sViEA188VJzl"
      },
      "execution_count": null,
      "outputs": []
    },
    {
      "cell_type": "code",
      "source": [
        "# z의 평균값\n",
        "z.mean()"
      ],
      "metadata": {
        "colab": {
          "base_uri": "https://localhost:8080/"
        },
        "id": "-YibcQqzVUK4",
        "outputId": "723fdab1-5444-443a-df6e-ec463a338b55"
      },
      "execution_count": null,
      "outputs": [
        {
          "output_type": "execute_result",
          "data": {
            "text/plain": [
              "tensor(2.5387)"
            ]
          },
          "metadata": {},
          "execution_count": 8
        }
      ]
    },
    {
      "cell_type": "code",
      "source": [
        "z.mean().item()"
      ],
      "metadata": {
        "colab": {
          "base_uri": "https://localhost:8080/"
        },
        "id": "dtF2sSC2VUqv",
        "outputId": "48f76840-1aa6-4d19-e1f2-472bbe1084b3"
      },
      "execution_count": null,
      "outputs": [
        {
          "output_type": "execute_result",
          "data": {
            "text/plain": [
              "2.5386996269226074"
            ]
          },
          "metadata": {},
          "execution_count": 9
        }
      ]
    },
    {
      "cell_type": "code",
      "source": [
        "a = torch.rand(2,2,requires_grad=True)\n",
        "a"
      ],
      "metadata": {
        "colab": {
          "base_uri": "https://localhost:8080/"
        },
        "id": "iHZUNafxViGZ",
        "outputId": "b37afba5-8357-42fc-e0c2-af99111754ea"
      },
      "execution_count": null,
      "outputs": [
        {
          "output_type": "execute_result",
          "data": {
            "text/plain": [
              "tensor([[0.7529, 0.8410],\n",
              "        [0.5952, 0.1657]], requires_grad=True)"
            ]
          },
          "metadata": {},
          "execution_count": 10
        }
      ]
    },
    {
      "cell_type": "code",
      "source": [
        "a.requires_grad"
      ],
      "metadata": {
        "colab": {
          "base_uri": "https://localhost:8080/"
        },
        "id": "paS9QydLWE-_",
        "outputId": "4c9b003a-a6e6-49b8-fe6e-29900e4790fa"
      },
      "execution_count": null,
      "outputs": [
        {
          "output_type": "execute_result",
          "data": {
            "text/plain": [
              "True"
            ]
          },
          "metadata": {},
          "execution_count": 11
        }
      ]
    },
    {
      "cell_type": "code",
      "source": [
        "# requires_gard 빼고 tensor valure 값만\n",
        "a.detach()"
      ],
      "metadata": {
        "colab": {
          "base_uri": "https://localhost:8080/"
        },
        "id": "qr4Z3YCVWOJu",
        "outputId": "f6133492-ac17-40b8-f9f5-9f778f749be8"
      },
      "execution_count": null,
      "outputs": [
        {
          "output_type": "execute_result",
          "data": {
            "text/plain": [
              "tensor([[0.7529, 0.8410],\n",
              "        [0.5952, 0.1657]])"
            ]
          },
          "metadata": {},
          "execution_count": 12
        }
      ]
    },
    {
      "cell_type": "code",
      "source": [
        "# torch.no_gard()\n",
        "with torch.no_grad():\n",
        "  print((x**2).requires_grad)"
      ],
      "metadata": {
        "colab": {
          "base_uri": "https://localhost:8080/"
        },
        "id": "2wEy2WWfWUgv",
        "outputId": "24c072ca-ce80-422b-d623-c278cedcdd79"
      },
      "execution_count": null,
      "outputs": [
        {
          "output_type": "stream",
          "name": "stdout",
          "text": [
            "False\n"
          ]
        }
      ]
    },
    {
      "cell_type": "code",
      "source": [
        "# torch.no_gard()\n",
        "with torch.no_grad():\n",
        "  print((x**2))"
      ],
      "metadata": {
        "colab": {
          "base_uri": "https://localhost:8080/"
        },
        "id": "cKfS-8gNXC-O",
        "outputId": "1155261f-67b4-4936-da53-a9d8b3c89c43"
      },
      "execution_count": null,
      "outputs": [
        {
          "output_type": "stream",
          "name": "stdout",
          "text": [
            "tensor([2.1515, 0.5243, 1.4606])\n"
          ]
        }
      ]
    },
    {
      "cell_type": "code",
      "source": [
        "weight = torch.ones(4, requires_grad=True)\n",
        "\n",
        "# 학습시킬 때 파이토치는 for 문 사용\n",
        "for epoch in range(5):\n",
        "  model_out = (weight*3).sum()\n",
        "  model_out.backward()\n",
        "\n",
        "  print(weight.grad)\n",
        "\n",
        "  with torch.no_grad():\n",
        "    weight-=0.1*weight.grad # weight 조정 weight = weight-0.1(learning rate)*weight.grad\n",
        "\n",
        "  weight.grad.zero_()\n",
        "\n",
        "print(weight)\n",
        "print(model_out)"
      ],
      "metadata": {
        "colab": {
          "base_uri": "https://localhost:8080/"
        },
        "id": "ugIB6c67XVxE",
        "outputId": "76ef85a7-ac0c-4655-be49-0bc4cc7006ad"
      },
      "execution_count": null,
      "outputs": [
        {
          "output_type": "stream",
          "name": "stdout",
          "text": [
            "tensor([3., 3., 3., 3.])\n",
            "tensor([3., 3., 3., 3.])\n",
            "tensor([3., 3., 3., 3.])\n",
            "tensor([3., 3., 3., 3.])\n",
            "tensor([3., 3., 3., 3.])\n",
            "tensor([-0.5000, -0.5000, -0.5000, -0.5000], requires_grad=True)\n",
            "tensor(-2.4000, grad_fn=<SumBackward0>)\n"
          ]
        }
      ]
    },
    {
      "cell_type": "markdown",
      "source": [
        "## 2. Backpropagation"
      ],
      "metadata": {
        "id": "2zKNDJ7YZHN-"
      }
    },
    {
      "cell_type": "code",
      "source": [
        "x = torch.tensor(1.0)\n",
        "y = torch.tensor(2.0)"
      ],
      "metadata": {
        "id": "jGe_unt9Yp6J"
      },
      "execution_count": null,
      "outputs": []
    },
    {
      "cell_type": "code",
      "source": [
        "w = torch.tensor(1.0, requires_grad=True)"
      ],
      "metadata": {
        "id": "-nKpDju1ZVe1"
      },
      "execution_count": null,
      "outputs": []
    },
    {
      "cell_type": "code",
      "source": [
        "y_predict = w * x"
      ],
      "metadata": {
        "id": "zfL2XTc3ZZnk"
      },
      "execution_count": null,
      "outputs": []
    },
    {
      "cell_type": "code",
      "source": [
        "loss = (y-y_predict)**2"
      ],
      "metadata": {
        "id": "sHCPtIpdZkM2"
      },
      "execution_count": null,
      "outputs": []
    },
    {
      "cell_type": "code",
      "source": [
        "print(loss)"
      ],
      "metadata": {
        "colab": {
          "base_uri": "https://localhost:8080/"
        },
        "id": "vreSuF2JZq0y",
        "outputId": "e2ce0367-ced3-4c7d-a34b-93eb600e1ddc"
      },
      "execution_count": null,
      "outputs": [
        {
          "output_type": "stream",
          "name": "stdout",
          "text": [
            "tensor(1., grad_fn=<PowBackward0>)\n"
          ]
        }
      ]
    },
    {
      "cell_type": "code",
      "source": [
        "loss.backward()\n",
        "w.grad"
      ],
      "metadata": {
        "colab": {
          "base_uri": "https://localhost:8080/"
        },
        "id": "-oqpnAEtZsEz",
        "outputId": "4b59f2cf-7873-4dbf-998b-ca96223aa399"
      },
      "execution_count": null,
      "outputs": [
        {
          "output_type": "execute_result",
          "data": {
            "text/plain": [
              "tensor(-2.)"
            ]
          },
          "metadata": {},
          "execution_count": 21
        }
      ]
    },
    {
      "cell_type": "code",
      "source": [
        "with torch.no_grad():\n",
        "  w -= 0.01 *w.grad\n",
        "\n",
        "# 값을 0으로 바꿔라\n",
        "w.grad.zero_()"
      ],
      "metadata": {
        "colab": {
          "base_uri": "https://localhost:8080/"
        },
        "id": "HxNHppupaDIF",
        "outputId": "6f7b82fc-e86c-4f54-e02c-e8dfeac16e76"
      },
      "execution_count": null,
      "outputs": [
        {
          "output_type": "execute_result",
          "data": {
            "text/plain": [
              "tensor(0.)"
            ]
          },
          "metadata": {},
          "execution_count": 22
        }
      ]
    },
    {
      "cell_type": "markdown",
      "source": [
        "## 3. Gradient Descent: Manually"
      ],
      "metadata": {
        "id": "L9KGsOpOa8DO"
      }
    },
    {
      "cell_type": "code",
      "source": [
        "import numpy as np\n",
        "\n",
        "X = np.array([1,2,3,4], dtype=np.float32)\n",
        "Y = np.array([2,4,6,8], dtype=np.float32)\n",
        "\n",
        "w = 0.0 # 실수로 넣어주기"
      ],
      "metadata": {
        "id": "GXjFVFBdacDm"
      },
      "execution_count": null,
      "outputs": []
    },
    {
      "cell_type": "code",
      "source": [
        "def forward(x):\n",
        "  return w*x"
      ],
      "metadata": {
        "id": "hvi2k96nbajo"
      },
      "execution_count": null,
      "outputs": []
    },
    {
      "cell_type": "code",
      "source": [
        "def loss(y, y_pred):\n",
        "  return ((y_pred-y)**2).mean()"
      ],
      "metadata": {
        "id": "jGGzAiVWbhaz"
      },
      "execution_count": null,
      "outputs": []
    },
    {
      "cell_type": "code",
      "source": [
        "def gradient(x, y, y_pred):\n",
        "  return np.dot(2*x, y_pred-y).mean()\n",
        "print(forward(5))"
      ],
      "metadata": {
        "colab": {
          "base_uri": "https://localhost:8080/"
        },
        "id": "hpOvDTQIbyqd",
        "outputId": "72a08bbd-1a46-40a4-8bc2-260a9fe6b1cf"
      },
      "execution_count": null,
      "outputs": [
        {
          "output_type": "stream",
          "name": "stdout",
          "text": [
            "0.0\n"
          ]
        }
      ]
    },
    {
      "cell_type": "code",
      "source": [
        "# training\n",
        "learning_rate = 0.01\n",
        "n_iters = 20\n",
        "\n",
        "for epoch in range(n_iters):\n",
        "  # forward pass\n",
        "  y_pred = forward(X)\n",
        "\n",
        "  # loss\n",
        "  l = loss(Y, y_pred)\n",
        "\n",
        "  # gradients 계산\n",
        "  dw = gradient(X, Y, y_pred) # input, output, 예측값\n",
        "\n",
        "  # update weight\n",
        "  w -= learning_rate * dw\n",
        "\n",
        "  if epoch%2==0:\n",
        "    print(f'epoch {epoch+1}: w = {w:.3f}, loss={l:.4f}')\n",
        "print(f'predict after training: f(5)={forward(5):.3f}')"
      ],
      "metadata": {
        "colab": {
          "base_uri": "https://localhost:8080/"
        },
        "id": "SBqiE1yXcQho",
        "outputId": "56e233b5-4532-414d-b721-0198dbf866b6"
      },
      "execution_count": null,
      "outputs": [
        {
          "output_type": "stream",
          "name": "stdout",
          "text": [
            "epoch 1: w = 1.200, loss=30.0000\n",
            "epoch 3: w = 1.872, loss=0.7680\n",
            "epoch 5: w = 1.980, loss=0.0197\n",
            "epoch 7: w = 1.997, loss=0.0005\n",
            "epoch 9: w = 1.999, loss=0.0000\n",
            "epoch 11: w = 2.000, loss=0.0000\n",
            "epoch 13: w = 2.000, loss=0.0000\n",
            "epoch 15: w = 2.000, loss=0.0000\n",
            "epoch 17: w = 2.000, loss=0.0000\n",
            "epoch 19: w = 2.000, loss=0.0000\n",
            "predict after training: f(5)=10.000\n"
          ]
        }
      ]
    },
    {
      "cell_type": "markdown",
      "source": [
        "## 4. Gradient Descent : Autograd"
      ],
      "metadata": {
        "id": "7AUGw16IkHfA"
      }
    },
    {
      "cell_type": "code",
      "source": [
        "import torch\n",
        "\n",
        "X = torch.tensor([1, 2, 3, 4], dtype=torch.float32)\n",
        "Y = torch.tensor([2, 4, 6, 8], dtype=torch.float32)\n",
        "\n",
        "w = torch.tensor(0.0, dtype=torch.float32, requires_grad=True)"
      ],
      "metadata": {
        "id": "v7lM_It5cycr"
      },
      "execution_count": null,
      "outputs": []
    },
    {
      "cell_type": "code",
      "source": [
        "def forward(x):\n",
        "  return w*x\n",
        "\n",
        "def loss(y, y_pred):\n",
        "  return ((y_pred-y)**2).mean()"
      ],
      "metadata": {
        "id": "cx47nsYbkcHL"
      },
      "execution_count": null,
      "outputs": []
    },
    {
      "cell_type": "code",
      "source": [
        "# torch training\n",
        "learning_rate = 0.01\n",
        "n_iters = 100\n",
        "\n",
        "for epoch in range(n_iters):\n",
        "  # forward predict\n",
        "  y_pred = forward(X)\n",
        "\n",
        "  # loss\n",
        "  l = loss(Y, y_pred)\n",
        "\n",
        "  # backward pass\n",
        "  l.backward()\n",
        "\n",
        "  # update weights\n",
        "  # w.data = w.data - learning_rate*w.grad\n",
        "  with torch.no_grad():\n",
        "    w -= learning_rate*w.grad\n",
        "\n",
        "  # update 후에 w를 zero화 시킨다.\n",
        "  w.grad.zero_()\n",
        "\n",
        "  if epoch % 10 == 0:\n",
        "    print(f'epoch:{epoch+1}:w={w.item():.3f},loss={l.item():4f}')\n",
        "print(f'Prediction after training: f(5)={forward(5).item():.3f}')"
      ],
      "metadata": {
        "colab": {
          "base_uri": "https://localhost:8080/"
        },
        "id": "IPZxGgM2ks90",
        "outputId": "76fa72cf-883d-437d-b9c0-f7183037b211"
      },
      "execution_count": null,
      "outputs": [
        {
          "output_type": "stream",
          "name": "stdout",
          "text": [
            "epoch:1:w=0.300,loss=30.000000\n",
            "epoch:11:w=1.665,loss=1.162786\n",
            "epoch:21:w=1.934,loss=0.045069\n",
            "epoch:31:w=1.987,loss=0.001747\n",
            "epoch:41:w=1.997,loss=0.000068\n",
            "epoch:51:w=1.999,loss=0.000003\n",
            "epoch:61:w=2.000,loss=0.000000\n",
            "epoch:71:w=2.000,loss=0.000000\n",
            "epoch:81:w=2.000,loss=0.000000\n",
            "epoch:91:w=2.000,loss=0.000000\n",
            "Prediction after training: f(5)=10.000\n"
          ]
        }
      ]
    },
    {
      "cell_type": "markdown",
      "source": [
        "## 5. Loss Function & Optimizer"
      ],
      "metadata": {
        "id": "jQtnnT85oaId"
      }
    },
    {
      "cell_type": "code",
      "source": [
        "import torch\n",
        "import torch.nn as nn\n",
        "\n",
        "X = torch.tensor([1, 2, 3, 4], dtype=torch.float32)\n",
        "Y = torch.tensor([2, 4, 6, 8], dtype=torch.float32)\n",
        "\n",
        "w = torch.tensor(0.0, dtype=torch.float32, requires_grad=True)"
      ],
      "metadata": {
        "id": "Ak3rYtaVntA4"
      },
      "execution_count": null,
      "outputs": []
    },
    {
      "cell_type": "code",
      "source": [
        "def forward(x):\n",
        "  return w*x"
      ],
      "metadata": {
        "id": "GzGY9pdDomBH"
      },
      "execution_count": null,
      "outputs": []
    },
    {
      "cell_type": "code",
      "source": [
        "# hyper parameter\n",
        "learning_rate = 0.01\n",
        "n_iters = 100"
      ],
      "metadata": {
        "id": "6xt2WaBDotfY"
      },
      "execution_count": null,
      "outputs": []
    },
    {
      "cell_type": "code",
      "source": [
        "# loss function and optimizer\n",
        "loss = nn.MSELoss()\n",
        "optimizer = torch.optim.SGD([w], lr=learning_rate)"
      ],
      "metadata": {
        "id": "R_AN5zTRonX-"
      },
      "execution_count": null,
      "outputs": []
    },
    {
      "cell_type": "code",
      "source": [
        "for epoch in range(n_iters):\n",
        "  # forward predict\n",
        "  y_pred = forward(X)\n",
        "\n",
        "  # loss\n",
        "  l = loss(Y, y_pred)\n",
        "\n",
        "  # backward pass\n",
        "  l.backward()\n",
        "\n",
        "  # update weights\n",
        "  optimizer.step()\n",
        "\n",
        "  # update 후에 w를 zero화 시킨다.\n",
        "  optimizer.zero_grad()\n",
        "\n",
        "  if epoch % 10 == 0:\n",
        "    print('epoch', epoch+1, ':w=', w, 'loss=', l)\n",
        "\n",
        "print(f'Prediction after training: f(5)={forward(5).item():.3f}')"
      ],
      "metadata": {
        "colab": {
          "base_uri": "https://localhost:8080/"
        },
        "id": "d6EgPvugpTyg",
        "outputId": "688a7c05-b49c-44c1-8f94-3627cbc2cd2f"
      },
      "execution_count": null,
      "outputs": [
        {
          "output_type": "stream",
          "name": "stdout",
          "text": [
            "epoch 1 :w= tensor(0.3000, requires_grad=True) loss= tensor(30., grad_fn=<MseLossBackward0>)\n",
            "epoch 11 :w= tensor(1.6653, requires_grad=True) loss= tensor(1.1628, grad_fn=<MseLossBackward0>)\n",
            "epoch 21 :w= tensor(1.9341, requires_grad=True) loss= tensor(0.0451, grad_fn=<MseLossBackward0>)\n",
            "epoch 31 :w= tensor(1.9870, requires_grad=True) loss= tensor(0.0017, grad_fn=<MseLossBackward0>)\n",
            "epoch 41 :w= tensor(1.9974, requires_grad=True) loss= tensor(6.7705e-05, grad_fn=<MseLossBackward0>)\n",
            "epoch 51 :w= tensor(1.9995, requires_grad=True) loss= tensor(2.6244e-06, grad_fn=<MseLossBackward0>)\n",
            "epoch 61 :w= tensor(1.9999, requires_grad=True) loss= tensor(1.0176e-07, grad_fn=<MseLossBackward0>)\n",
            "epoch 71 :w= tensor(2.0000, requires_grad=True) loss= tensor(3.9742e-09, grad_fn=<MseLossBackward0>)\n",
            "epoch 81 :w= tensor(2.0000, requires_grad=True) loss= tensor(1.4670e-10, grad_fn=<MseLossBackward0>)\n",
            "epoch 91 :w= tensor(2.0000, requires_grad=True) loss= tensor(5.0768e-12, grad_fn=<MseLossBackward0>)\n",
            "Prediction after training: f(5)=10.000\n"
          ]
        }
      ]
    },
    {
      "cell_type": "markdown",
      "source": [
        "## 6. Advanced Training"
      ],
      "metadata": {
        "id": "yEbp4iVMvJZU"
      }
    },
    {
      "cell_type": "code",
      "source": [
        "# 1차원이 아닌 2차원으로 넣어야 error가 나지 않는다.\n",
        "import torch\n",
        "import torch.nn as nn\n",
        "\n",
        "X = torch.tensor([[1], [2], [3], [4]], dtype=torch.float32)\n",
        "Y = torch.tensor([[2], [4], [6], [8]], dtype=torch.float32)\n",
        "\n",
        "n_samples, n_features = X.shape"
      ],
      "metadata": {
        "id": "-9OdrQ_Gqn1I"
      },
      "execution_count": null,
      "outputs": []
    },
    {
      "cell_type": "code",
      "source": [
        "X_test = torch.tensor([5], dtype=torch.float32)\n",
        "X_test"
      ],
      "metadata": {
        "colab": {
          "base_uri": "https://localhost:8080/"
        },
        "id": "GldgwES1vrvy",
        "outputId": "0e4a1f6b-6fa6-4557-fcac-6b5abb2abcc0"
      },
      "execution_count": null,
      "outputs": [
        {
          "output_type": "execute_result",
          "data": {
            "text/plain": [
              "tensor([5.])"
            ]
          },
          "metadata": {},
          "execution_count": 37
        }
      ]
    },
    {
      "cell_type": "code",
      "source": [
        "input_size = n_features\n",
        "output_size = Y.shape[1]"
      ],
      "metadata": {
        "id": "oQMHKtq5wjs8"
      },
      "execution_count": null,
      "outputs": []
    },
    {
      "cell_type": "code",
      "source": [
        "# model build\n",
        "model = nn.Linear(input_size, output_size)"
      ],
      "metadata": {
        "id": "1A6vi7m1wMe1"
      },
      "execution_count": null,
      "outputs": []
    },
    {
      "cell_type": "code",
      "source": [
        "class LinearRegression(nn.Module):\n",
        "  def __init__(self, input_dim, output_dim):\n",
        "      super(LinearRegression, self).__init__()\n",
        "      # define Layers\n",
        "      self.lin = nn.Linear(input_dim, output_dim)\n",
        "\n",
        "  def forward(self, x):\n",
        "      return self.lin(x)"
      ],
      "metadata": {
        "id": "2NsoV6vew0O0"
      },
      "execution_count": null,
      "outputs": []
    },
    {
      "cell_type": "code",
      "source": [
        "model = LinearRegression(input_size, output_size)"
      ],
      "metadata": {
        "id": "3rYcfKsXx6tZ"
      },
      "execution_count": null,
      "outputs": []
    },
    {
      "cell_type": "code",
      "source": [
        "learning_rate = 0.01\n",
        "n_iters=100\n",
        "\n",
        "# loss function and optimizer\n",
        "loss = nn.MSELoss()\n",
        "optimizer = torch.optim.SGD(model.parameters(), lr=learning_rate)"
      ],
      "metadata": {
        "id": "bjtWRRTUyKdA"
      },
      "execution_count": null,
      "outputs": []
    },
    {
      "cell_type": "code",
      "source": [
        "for epoch in range(n_iters):\n",
        "  # forward predict\n",
        "  y_pred = model(X)\n",
        "\n",
        "  # loss\n",
        "  l = loss(Y, y_pred)\n",
        "\n",
        "  # backward pass\n",
        "  l.backward()\n",
        "\n",
        "  # update weights\n",
        "  optimizer.step()\n",
        "\n",
        "  # update 후에 w를 zero화 시킨다.\n",
        "  optimizer.zero_grad()\n",
        "\n",
        "  if epoch % 10 == 0:\n",
        "    w, b = model.parameters()\n",
        "    print('epoch', epoch+1, ':w=', w[0].item(), 'loss=', l)\n",
        "\n",
        "print(f'Prediction after training: f(5)={model(X_test).item():.3f}')"
      ],
      "metadata": {
        "colab": {
          "base_uri": "https://localhost:8080/"
        },
        "id": "poax31C1zAHp",
        "outputId": "6f881e83-227c-43ec-e046-de5e3d435bc8"
      },
      "execution_count": null,
      "outputs": [
        {
          "output_type": "stream",
          "name": "stdout",
          "text": [
            "epoch 1 :w= -0.20477956533432007 loss= tensor(62.6068, grad_fn=<MseLossBackward0>)\n",
            "epoch 11 :w= 1.6085729598999023 loss= tensor(1.6225, grad_fn=<MseLossBackward0>)\n",
            "epoch 21 :w= 1.9013354778289795 loss= tensor(0.0446, grad_fn=<MseLossBackward0>)\n",
            "epoch 31 :w= 1.9494807720184326 loss= tensor(0.0036, grad_fn=<MseLossBackward0>)\n",
            "epoch 41 :w= 1.9582483768463135 loss= tensor(0.0024, grad_fn=<MseLossBackward0>)\n",
            "epoch 51 :w= 1.9606518745422363 loss= tensor(0.0022, grad_fn=<MseLossBackward0>)\n",
            "epoch 61 :w= 1.9620023965835571 loss= tensor(0.0021, grad_fn=<MseLossBackward0>)\n",
            "epoch 71 :w= 1.9631550312042236 loss= tensor(0.0020, grad_fn=<MseLossBackward0>)\n",
            "epoch 81 :w= 1.9642481803894043 loss= tensor(0.0019, grad_fn=<MseLossBackward0>)\n",
            "epoch 91 :w= 1.965305209159851 loss= tensor(0.0017, grad_fn=<MseLossBackward0>)\n",
            "Prediction after training: f(5)=9.930\n"
          ]
        }
      ]
    },
    {
      "cell_type": "code",
      "source": [],
      "metadata": {
        "id": "6D7UYSuJz2VI"
      },
      "execution_count": null,
      "outputs": []
    }
  ]
}