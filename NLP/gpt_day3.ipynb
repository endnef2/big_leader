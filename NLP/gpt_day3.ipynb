{
  "nbformat": 4,
  "nbformat_minor": 0,
  "metadata": {
    "colab": {
      "provenance": [],
      "authorship_tag": "ABX9TyMK8u/ATV+oXg3m4YFGrvem",
      "include_colab_link": true
    },
    "kernelspec": {
      "name": "python3",
      "display_name": "Python 3"
    },
    "language_info": {
      "name": "python"
    },
    "accelerator": "TPU",
    "widgets": {
      "application/vnd.jupyter.widget-state+json": {
        "5afdeceb70f04b8590fdf56141669828": {
          "model_module": "@jupyter-widgets/controls",
          "model_name": "HBoxModel",
          "model_module_version": "1.5.0",
          "state": {
            "_dom_classes": [],
            "_model_module": "@jupyter-widgets/controls",
            "_model_module_version": "1.5.0",
            "_model_name": "HBoxModel",
            "_view_count": null,
            "_view_module": "@jupyter-widgets/controls",
            "_view_module_version": "1.5.0",
            "_view_name": "HBoxView",
            "box_style": "",
            "children": [
              "IPY_MODEL_7831e99e8dc6461a808ed5ca2e6d3856",
              "IPY_MODEL_4c476cc9ab354a7895e38f47303870a4",
              "IPY_MODEL_519b6bd31a7140fe909cedf05d4c2d13"
            ],
            "layout": "IPY_MODEL_0d8739492a0748a295233c84d59e7854"
          }
        },
        "7831e99e8dc6461a808ed5ca2e6d3856": {
          "model_module": "@jupyter-widgets/controls",
          "model_name": "HTMLModel",
          "model_module_version": "1.5.0",
          "state": {
            "_dom_classes": [],
            "_model_module": "@jupyter-widgets/controls",
            "_model_module_version": "1.5.0",
            "_model_name": "HTMLModel",
            "_view_count": null,
            "_view_module": "@jupyter-widgets/controls",
            "_view_module_version": "1.5.0",
            "_view_name": "HTMLView",
            "description": "",
            "description_tooltip": null,
            "layout": "IPY_MODEL_6f9415e89cee4282be14a6cd7f93ebcf",
            "placeholder": "​",
            "style": "IPY_MODEL_ee27f91ec6964348859f0f589a9298dd",
            "value": "Downloading (…)lve/main/config.json: 100%"
          }
        },
        "4c476cc9ab354a7895e38f47303870a4": {
          "model_module": "@jupyter-widgets/controls",
          "model_name": "FloatProgressModel",
          "model_module_version": "1.5.0",
          "state": {
            "_dom_classes": [],
            "_model_module": "@jupyter-widgets/controls",
            "_model_module_version": "1.5.0",
            "_model_name": "FloatProgressModel",
            "_view_count": null,
            "_view_module": "@jupyter-widgets/controls",
            "_view_module_version": "1.5.0",
            "_view_name": "ProgressView",
            "bar_style": "success",
            "description": "",
            "description_tooltip": null,
            "layout": "IPY_MODEL_6369aba1283c48019c42f67eb7bf5659",
            "max": 1000,
            "min": 0,
            "orientation": "horizontal",
            "style": "IPY_MODEL_f7130440dcbb41fc81743530c9866194",
            "value": 1000
          }
        },
        "519b6bd31a7140fe909cedf05d4c2d13": {
          "model_module": "@jupyter-widgets/controls",
          "model_name": "HTMLModel",
          "model_module_version": "1.5.0",
          "state": {
            "_dom_classes": [],
            "_model_module": "@jupyter-widgets/controls",
            "_model_module_version": "1.5.0",
            "_model_name": "HTMLModel",
            "_view_count": null,
            "_view_module": "@jupyter-widgets/controls",
            "_view_module_version": "1.5.0",
            "_view_name": "HTMLView",
            "description": "",
            "description_tooltip": null,
            "layout": "IPY_MODEL_cd392a17c78243038d6b679d54945b57",
            "placeholder": "​",
            "style": "IPY_MODEL_b44fcbb2b4d94f28a81ff48e4c5d3d07",
            "value": " 1.00k/1.00k [00:00&lt;00:00, 25.4kB/s]"
          }
        },
        "0d8739492a0748a295233c84d59e7854": {
          "model_module": "@jupyter-widgets/base",
          "model_name": "LayoutModel",
          "model_module_version": "1.2.0",
          "state": {
            "_model_module": "@jupyter-widgets/base",
            "_model_module_version": "1.2.0",
            "_model_name": "LayoutModel",
            "_view_count": null,
            "_view_module": "@jupyter-widgets/base",
            "_view_module_version": "1.2.0",
            "_view_name": "LayoutView",
            "align_content": null,
            "align_items": null,
            "align_self": null,
            "border": null,
            "bottom": null,
            "display": null,
            "flex": null,
            "flex_flow": null,
            "grid_area": null,
            "grid_auto_columns": null,
            "grid_auto_flow": null,
            "grid_auto_rows": null,
            "grid_column": null,
            "grid_gap": null,
            "grid_row": null,
            "grid_template_areas": null,
            "grid_template_columns": null,
            "grid_template_rows": null,
            "height": null,
            "justify_content": null,
            "justify_items": null,
            "left": null,
            "margin": null,
            "max_height": null,
            "max_width": null,
            "min_height": null,
            "min_width": null,
            "object_fit": null,
            "object_position": null,
            "order": null,
            "overflow": null,
            "overflow_x": null,
            "overflow_y": null,
            "padding": null,
            "right": null,
            "top": null,
            "visibility": null,
            "width": null
          }
        },
        "6f9415e89cee4282be14a6cd7f93ebcf": {
          "model_module": "@jupyter-widgets/base",
          "model_name": "LayoutModel",
          "model_module_version": "1.2.0",
          "state": {
            "_model_module": "@jupyter-widgets/base",
            "_model_module_version": "1.2.0",
            "_model_name": "LayoutModel",
            "_view_count": null,
            "_view_module": "@jupyter-widgets/base",
            "_view_module_version": "1.2.0",
            "_view_name": "LayoutView",
            "align_content": null,
            "align_items": null,
            "align_self": null,
            "border": null,
            "bottom": null,
            "display": null,
            "flex": null,
            "flex_flow": null,
            "grid_area": null,
            "grid_auto_columns": null,
            "grid_auto_flow": null,
            "grid_auto_rows": null,
            "grid_column": null,
            "grid_gap": null,
            "grid_row": null,
            "grid_template_areas": null,
            "grid_template_columns": null,
            "grid_template_rows": null,
            "height": null,
            "justify_content": null,
            "justify_items": null,
            "left": null,
            "margin": null,
            "max_height": null,
            "max_width": null,
            "min_height": null,
            "min_width": null,
            "object_fit": null,
            "object_position": null,
            "order": null,
            "overflow": null,
            "overflow_x": null,
            "overflow_y": null,
            "padding": null,
            "right": null,
            "top": null,
            "visibility": null,
            "width": null
          }
        },
        "ee27f91ec6964348859f0f589a9298dd": {
          "model_module": "@jupyter-widgets/controls",
          "model_name": "DescriptionStyleModel",
          "model_module_version": "1.5.0",
          "state": {
            "_model_module": "@jupyter-widgets/controls",
            "_model_module_version": "1.5.0",
            "_model_name": "DescriptionStyleModel",
            "_view_count": null,
            "_view_module": "@jupyter-widgets/base",
            "_view_module_version": "1.2.0",
            "_view_name": "StyleView",
            "description_width": ""
          }
        },
        "6369aba1283c48019c42f67eb7bf5659": {
          "model_module": "@jupyter-widgets/base",
          "model_name": "LayoutModel",
          "model_module_version": "1.2.0",
          "state": {
            "_model_module": "@jupyter-widgets/base",
            "_model_module_version": "1.2.0",
            "_model_name": "LayoutModel",
            "_view_count": null,
            "_view_module": "@jupyter-widgets/base",
            "_view_module_version": "1.2.0",
            "_view_name": "LayoutView",
            "align_content": null,
            "align_items": null,
            "align_self": null,
            "border": null,
            "bottom": null,
            "display": null,
            "flex": null,
            "flex_flow": null,
            "grid_area": null,
            "grid_auto_columns": null,
            "grid_auto_flow": null,
            "grid_auto_rows": null,
            "grid_column": null,
            "grid_gap": null,
            "grid_row": null,
            "grid_template_areas": null,
            "grid_template_columns": null,
            "grid_template_rows": null,
            "height": null,
            "justify_content": null,
            "justify_items": null,
            "left": null,
            "margin": null,
            "max_height": null,
            "max_width": null,
            "min_height": null,
            "min_width": null,
            "object_fit": null,
            "object_position": null,
            "order": null,
            "overflow": null,
            "overflow_x": null,
            "overflow_y": null,
            "padding": null,
            "right": null,
            "top": null,
            "visibility": null,
            "width": null
          }
        },
        "f7130440dcbb41fc81743530c9866194": {
          "model_module": "@jupyter-widgets/controls",
          "model_name": "ProgressStyleModel",
          "model_module_version": "1.5.0",
          "state": {
            "_model_module": "@jupyter-widgets/controls",
            "_model_module_version": "1.5.0",
            "_model_name": "ProgressStyleModel",
            "_view_count": null,
            "_view_module": "@jupyter-widgets/base",
            "_view_module_version": "1.2.0",
            "_view_name": "StyleView",
            "bar_color": null,
            "description_width": ""
          }
        },
        "cd392a17c78243038d6b679d54945b57": {
          "model_module": "@jupyter-widgets/base",
          "model_name": "LayoutModel",
          "model_module_version": "1.2.0",
          "state": {
            "_model_module": "@jupyter-widgets/base",
            "_model_module_version": "1.2.0",
            "_model_name": "LayoutModel",
            "_view_count": null,
            "_view_module": "@jupyter-widgets/base",
            "_view_module_version": "1.2.0",
            "_view_name": "LayoutView",
            "align_content": null,
            "align_items": null,
            "align_self": null,
            "border": null,
            "bottom": null,
            "display": null,
            "flex": null,
            "flex_flow": null,
            "grid_area": null,
            "grid_auto_columns": null,
            "grid_auto_flow": null,
            "grid_auto_rows": null,
            "grid_column": null,
            "grid_gap": null,
            "grid_row": null,
            "grid_template_areas": null,
            "grid_template_columns": null,
            "grid_template_rows": null,
            "height": null,
            "justify_content": null,
            "justify_items": null,
            "left": null,
            "margin": null,
            "max_height": null,
            "max_width": null,
            "min_height": null,
            "min_width": null,
            "object_fit": null,
            "object_position": null,
            "order": null,
            "overflow": null,
            "overflow_x": null,
            "overflow_y": null,
            "padding": null,
            "right": null,
            "top": null,
            "visibility": null,
            "width": null
          }
        },
        "b44fcbb2b4d94f28a81ff48e4c5d3d07": {
          "model_module": "@jupyter-widgets/controls",
          "model_name": "DescriptionStyleModel",
          "model_module_version": "1.5.0",
          "state": {
            "_model_module": "@jupyter-widgets/controls",
            "_model_module_version": "1.5.0",
            "_model_name": "DescriptionStyleModel",
            "_view_count": null,
            "_view_module": "@jupyter-widgets/base",
            "_view_module_version": "1.2.0",
            "_view_name": "StyleView",
            "description_width": ""
          }
        },
        "aa49b689946d4df8a3eccacb66f913e4": {
          "model_module": "@jupyter-widgets/controls",
          "model_name": "HBoxModel",
          "model_module_version": "1.5.0",
          "state": {
            "_dom_classes": [],
            "_model_module": "@jupyter-widgets/controls",
            "_model_module_version": "1.5.0",
            "_model_name": "HBoxModel",
            "_view_count": null,
            "_view_module": "@jupyter-widgets/controls",
            "_view_module_version": "1.5.0",
            "_view_name": "HBoxView",
            "box_style": "",
            "children": [
              "IPY_MODEL_47379541269c4fe3b7ebe12ee719c767",
              "IPY_MODEL_5aa913449a0347b69cf4490c09666bff",
              "IPY_MODEL_9b4f3cef298f43db9b67dc224e5c0019"
            ],
            "layout": "IPY_MODEL_ea128e0cc2c54d6588dc202eb2aab198"
          }
        },
        "47379541269c4fe3b7ebe12ee719c767": {
          "model_module": "@jupyter-widgets/controls",
          "model_name": "HTMLModel",
          "model_module_version": "1.5.0",
          "state": {
            "_dom_classes": [],
            "_model_module": "@jupyter-widgets/controls",
            "_model_module_version": "1.5.0",
            "_model_name": "HTMLModel",
            "_view_count": null,
            "_view_module": "@jupyter-widgets/controls",
            "_view_module_version": "1.5.0",
            "_view_name": "HTMLView",
            "description": "",
            "description_tooltip": null,
            "layout": "IPY_MODEL_87de2a31f9494b4db253488ff4667ba6",
            "placeholder": "​",
            "style": "IPY_MODEL_d2cbfc7a19454e5d8dc9c0062bc0b6f1",
            "value": "Downloading pytorch_model.bin: 100%"
          }
        },
        "5aa913449a0347b69cf4490c09666bff": {
          "model_module": "@jupyter-widgets/controls",
          "model_name": "FloatProgressModel",
          "model_module_version": "1.5.0",
          "state": {
            "_dom_classes": [],
            "_model_module": "@jupyter-widgets/controls",
            "_model_module_version": "1.5.0",
            "_model_name": "FloatProgressModel",
            "_view_count": null,
            "_view_module": "@jupyter-widgets/controls",
            "_view_module_version": "1.5.0",
            "_view_name": "ProgressView",
            "bar_style": "success",
            "description": "",
            "description_tooltip": null,
            "layout": "IPY_MODEL_d401914d645842e2b926a327fd51c49b",
            "max": 513302779,
            "min": 0,
            "orientation": "horizontal",
            "style": "IPY_MODEL_e5c32b635b754109900f690121c4d8fd",
            "value": 513302779
          }
        },
        "9b4f3cef298f43db9b67dc224e5c0019": {
          "model_module": "@jupyter-widgets/controls",
          "model_name": "HTMLModel",
          "model_module_version": "1.5.0",
          "state": {
            "_dom_classes": [],
            "_model_module": "@jupyter-widgets/controls",
            "_model_module_version": "1.5.0",
            "_model_name": "HTMLModel",
            "_view_count": null,
            "_view_module": "@jupyter-widgets/controls",
            "_view_module_version": "1.5.0",
            "_view_name": "HTMLView",
            "description": "",
            "description_tooltip": null,
            "layout": "IPY_MODEL_3a4f9283795d4ec59b5442e31099ebf9",
            "placeholder": "​",
            "style": "IPY_MODEL_40a9c0f3407e4fbabcf3716ceb72e9a8",
            "value": " 513M/513M [00:05&lt;00:00, 107MB/s]"
          }
        },
        "ea128e0cc2c54d6588dc202eb2aab198": {
          "model_module": "@jupyter-widgets/base",
          "model_name": "LayoutModel",
          "model_module_version": "1.2.0",
          "state": {
            "_model_module": "@jupyter-widgets/base",
            "_model_module_version": "1.2.0",
            "_model_name": "LayoutModel",
            "_view_count": null,
            "_view_module": "@jupyter-widgets/base",
            "_view_module_version": "1.2.0",
            "_view_name": "LayoutView",
            "align_content": null,
            "align_items": null,
            "align_self": null,
            "border": null,
            "bottom": null,
            "display": null,
            "flex": null,
            "flex_flow": null,
            "grid_area": null,
            "grid_auto_columns": null,
            "grid_auto_flow": null,
            "grid_auto_rows": null,
            "grid_column": null,
            "grid_gap": null,
            "grid_row": null,
            "grid_template_areas": null,
            "grid_template_columns": null,
            "grid_template_rows": null,
            "height": null,
            "justify_content": null,
            "justify_items": null,
            "left": null,
            "margin": null,
            "max_height": null,
            "max_width": null,
            "min_height": null,
            "min_width": null,
            "object_fit": null,
            "object_position": null,
            "order": null,
            "overflow": null,
            "overflow_x": null,
            "overflow_y": null,
            "padding": null,
            "right": null,
            "top": null,
            "visibility": null,
            "width": null
          }
        },
        "87de2a31f9494b4db253488ff4667ba6": {
          "model_module": "@jupyter-widgets/base",
          "model_name": "LayoutModel",
          "model_module_version": "1.2.0",
          "state": {
            "_model_module": "@jupyter-widgets/base",
            "_model_module_version": "1.2.0",
            "_model_name": "LayoutModel",
            "_view_count": null,
            "_view_module": "@jupyter-widgets/base",
            "_view_module_version": "1.2.0",
            "_view_name": "LayoutView",
            "align_content": null,
            "align_items": null,
            "align_self": null,
            "border": null,
            "bottom": null,
            "display": null,
            "flex": null,
            "flex_flow": null,
            "grid_area": null,
            "grid_auto_columns": null,
            "grid_auto_flow": null,
            "grid_auto_rows": null,
            "grid_column": null,
            "grid_gap": null,
            "grid_row": null,
            "grid_template_areas": null,
            "grid_template_columns": null,
            "grid_template_rows": null,
            "height": null,
            "justify_content": null,
            "justify_items": null,
            "left": null,
            "margin": null,
            "max_height": null,
            "max_width": null,
            "min_height": null,
            "min_width": null,
            "object_fit": null,
            "object_position": null,
            "order": null,
            "overflow": null,
            "overflow_x": null,
            "overflow_y": null,
            "padding": null,
            "right": null,
            "top": null,
            "visibility": null,
            "width": null
          }
        },
        "d2cbfc7a19454e5d8dc9c0062bc0b6f1": {
          "model_module": "@jupyter-widgets/controls",
          "model_name": "DescriptionStyleModel",
          "model_module_version": "1.5.0",
          "state": {
            "_model_module": "@jupyter-widgets/controls",
            "_model_module_version": "1.5.0",
            "_model_name": "DescriptionStyleModel",
            "_view_count": null,
            "_view_module": "@jupyter-widgets/base",
            "_view_module_version": "1.2.0",
            "_view_name": "StyleView",
            "description_width": ""
          }
        },
        "d401914d645842e2b926a327fd51c49b": {
          "model_module": "@jupyter-widgets/base",
          "model_name": "LayoutModel",
          "model_module_version": "1.2.0",
          "state": {
            "_model_module": "@jupyter-widgets/base",
            "_model_module_version": "1.2.0",
            "_model_name": "LayoutModel",
            "_view_count": null,
            "_view_module": "@jupyter-widgets/base",
            "_view_module_version": "1.2.0",
            "_view_name": "LayoutView",
            "align_content": null,
            "align_items": null,
            "align_self": null,
            "border": null,
            "bottom": null,
            "display": null,
            "flex": null,
            "flex_flow": null,
            "grid_area": null,
            "grid_auto_columns": null,
            "grid_auto_flow": null,
            "grid_auto_rows": null,
            "grid_column": null,
            "grid_gap": null,
            "grid_row": null,
            "grid_template_areas": null,
            "grid_template_columns": null,
            "grid_template_rows": null,
            "height": null,
            "justify_content": null,
            "justify_items": null,
            "left": null,
            "margin": null,
            "max_height": null,
            "max_width": null,
            "min_height": null,
            "min_width": null,
            "object_fit": null,
            "object_position": null,
            "order": null,
            "overflow": null,
            "overflow_x": null,
            "overflow_y": null,
            "padding": null,
            "right": null,
            "top": null,
            "visibility": null,
            "width": null
          }
        },
        "e5c32b635b754109900f690121c4d8fd": {
          "model_module": "@jupyter-widgets/controls",
          "model_name": "ProgressStyleModel",
          "model_module_version": "1.5.0",
          "state": {
            "_model_module": "@jupyter-widgets/controls",
            "_model_module_version": "1.5.0",
            "_model_name": "ProgressStyleModel",
            "_view_count": null,
            "_view_module": "@jupyter-widgets/base",
            "_view_module_version": "1.2.0",
            "_view_name": "StyleView",
            "bar_color": null,
            "description_width": ""
          }
        },
        "3a4f9283795d4ec59b5442e31099ebf9": {
          "model_module": "@jupyter-widgets/base",
          "model_name": "LayoutModel",
          "model_module_version": "1.2.0",
          "state": {
            "_model_module": "@jupyter-widgets/base",
            "_model_module_version": "1.2.0",
            "_model_name": "LayoutModel",
            "_view_count": null,
            "_view_module": "@jupyter-widgets/base",
            "_view_module_version": "1.2.0",
            "_view_name": "LayoutView",
            "align_content": null,
            "align_items": null,
            "align_self": null,
            "border": null,
            "bottom": null,
            "display": null,
            "flex": null,
            "flex_flow": null,
            "grid_area": null,
            "grid_auto_columns": null,
            "grid_auto_flow": null,
            "grid_auto_rows": null,
            "grid_column": null,
            "grid_gap": null,
            "grid_row": null,
            "grid_template_areas": null,
            "grid_template_columns": null,
            "grid_template_rows": null,
            "height": null,
            "justify_content": null,
            "justify_items": null,
            "left": null,
            "margin": null,
            "max_height": null,
            "max_width": null,
            "min_height": null,
            "min_width": null,
            "object_fit": null,
            "object_position": null,
            "order": null,
            "overflow": null,
            "overflow_x": null,
            "overflow_y": null,
            "padding": null,
            "right": null,
            "top": null,
            "visibility": null,
            "width": null
          }
        },
        "40a9c0f3407e4fbabcf3716ceb72e9a8": {
          "model_module": "@jupyter-widgets/controls",
          "model_name": "DescriptionStyleModel",
          "model_module_version": "1.5.0",
          "state": {
            "_model_module": "@jupyter-widgets/controls",
            "_model_module_version": "1.5.0",
            "_model_name": "DescriptionStyleModel",
            "_view_count": null,
            "_view_module": "@jupyter-widgets/base",
            "_view_module_version": "1.2.0",
            "_view_name": "StyleView",
            "description_width": ""
          }
        },
        "f98fb511c70748218284cd6fd3f62741": {
          "model_module": "@jupyter-widgets/controls",
          "model_name": "HBoxModel",
          "model_module_version": "1.5.0",
          "state": {
            "_dom_classes": [],
            "_model_module": "@jupyter-widgets/controls",
            "_model_module_version": "1.5.0",
            "_model_name": "HBoxModel",
            "_view_count": null,
            "_view_module": "@jupyter-widgets/controls",
            "_view_module_version": "1.5.0",
            "_view_name": "HBoxView",
            "box_style": "",
            "children": [
              "IPY_MODEL_0296272e0aed4cf196f50db0bf616214",
              "IPY_MODEL_877b3888aa544309aac60e78e5f44f70",
              "IPY_MODEL_67d657ea688341cf86ae1d3fd0e595f3"
            ],
            "layout": "IPY_MODEL_e22fbeb5897e455f8ba21757fd9ade94"
          }
        },
        "0296272e0aed4cf196f50db0bf616214": {
          "model_module": "@jupyter-widgets/controls",
          "model_name": "HTMLModel",
          "model_module_version": "1.5.0",
          "state": {
            "_dom_classes": [],
            "_model_module": "@jupyter-widgets/controls",
            "_model_module_version": "1.5.0",
            "_model_name": "HTMLModel",
            "_view_count": null,
            "_view_module": "@jupyter-widgets/controls",
            "_view_module_version": "1.5.0",
            "_view_name": "HTMLView",
            "description": "",
            "description_tooltip": null,
            "layout": "IPY_MODEL_82996b37ad8a44b195fb75141a11af5d",
            "placeholder": "​",
            "style": "IPY_MODEL_c95c3a9bd0274bc39e770d31a65f4052",
            "value": "Downloading (…)/main/tokenizer.json: 100%"
          }
        },
        "877b3888aa544309aac60e78e5f44f70": {
          "model_module": "@jupyter-widgets/controls",
          "model_name": "FloatProgressModel",
          "model_module_version": "1.5.0",
          "state": {
            "_dom_classes": [],
            "_model_module": "@jupyter-widgets/controls",
            "_model_module_version": "1.5.0",
            "_model_name": "FloatProgressModel",
            "_view_count": null,
            "_view_module": "@jupyter-widgets/controls",
            "_view_module_version": "1.5.0",
            "_view_name": "ProgressView",
            "bar_style": "success",
            "description": "",
            "description_tooltip": null,
            "layout": "IPY_MODEL_fa60faf9b9df4a3fa840054a5477f0a1",
            "max": 2825034,
            "min": 0,
            "orientation": "horizontal",
            "style": "IPY_MODEL_bae42c182522466cb986ea74c53adfb2",
            "value": 2825034
          }
        },
        "67d657ea688341cf86ae1d3fd0e595f3": {
          "model_module": "@jupyter-widgets/controls",
          "model_name": "HTMLModel",
          "model_module_version": "1.5.0",
          "state": {
            "_dom_classes": [],
            "_model_module": "@jupyter-widgets/controls",
            "_model_module_version": "1.5.0",
            "_model_name": "HTMLModel",
            "_view_count": null,
            "_view_module": "@jupyter-widgets/controls",
            "_view_module_version": "1.5.0",
            "_view_name": "HTMLView",
            "description": "",
            "description_tooltip": null,
            "layout": "IPY_MODEL_e3cd1d6e6f0b427484c86b503c36eee5",
            "placeholder": "​",
            "style": "IPY_MODEL_9b7e3869a9e341bb99ba5cdb4c323844",
            "value": " 2.83M/2.83M [00:00&lt;00:00, 8.87MB/s]"
          }
        },
        "e22fbeb5897e455f8ba21757fd9ade94": {
          "model_module": "@jupyter-widgets/base",
          "model_name": "LayoutModel",
          "model_module_version": "1.2.0",
          "state": {
            "_model_module": "@jupyter-widgets/base",
            "_model_module_version": "1.2.0",
            "_model_name": "LayoutModel",
            "_view_count": null,
            "_view_module": "@jupyter-widgets/base",
            "_view_module_version": "1.2.0",
            "_view_name": "LayoutView",
            "align_content": null,
            "align_items": null,
            "align_self": null,
            "border": null,
            "bottom": null,
            "display": null,
            "flex": null,
            "flex_flow": null,
            "grid_area": null,
            "grid_auto_columns": null,
            "grid_auto_flow": null,
            "grid_auto_rows": null,
            "grid_column": null,
            "grid_gap": null,
            "grid_row": null,
            "grid_template_areas": null,
            "grid_template_columns": null,
            "grid_template_rows": null,
            "height": null,
            "justify_content": null,
            "justify_items": null,
            "left": null,
            "margin": null,
            "max_height": null,
            "max_width": null,
            "min_height": null,
            "min_width": null,
            "object_fit": null,
            "object_position": null,
            "order": null,
            "overflow": null,
            "overflow_x": null,
            "overflow_y": null,
            "padding": null,
            "right": null,
            "top": null,
            "visibility": null,
            "width": null
          }
        },
        "82996b37ad8a44b195fb75141a11af5d": {
          "model_module": "@jupyter-widgets/base",
          "model_name": "LayoutModel",
          "model_module_version": "1.2.0",
          "state": {
            "_model_module": "@jupyter-widgets/base",
            "_model_module_version": "1.2.0",
            "_model_name": "LayoutModel",
            "_view_count": null,
            "_view_module": "@jupyter-widgets/base",
            "_view_module_version": "1.2.0",
            "_view_name": "LayoutView",
            "align_content": null,
            "align_items": null,
            "align_self": null,
            "border": null,
            "bottom": null,
            "display": null,
            "flex": null,
            "flex_flow": null,
            "grid_area": null,
            "grid_auto_columns": null,
            "grid_auto_flow": null,
            "grid_auto_rows": null,
            "grid_column": null,
            "grid_gap": null,
            "grid_row": null,
            "grid_template_areas": null,
            "grid_template_columns": null,
            "grid_template_rows": null,
            "height": null,
            "justify_content": null,
            "justify_items": null,
            "left": null,
            "margin": null,
            "max_height": null,
            "max_width": null,
            "min_height": null,
            "min_width": null,
            "object_fit": null,
            "object_position": null,
            "order": null,
            "overflow": null,
            "overflow_x": null,
            "overflow_y": null,
            "padding": null,
            "right": null,
            "top": null,
            "visibility": null,
            "width": null
          }
        },
        "c95c3a9bd0274bc39e770d31a65f4052": {
          "model_module": "@jupyter-widgets/controls",
          "model_name": "DescriptionStyleModel",
          "model_module_version": "1.5.0",
          "state": {
            "_model_module": "@jupyter-widgets/controls",
            "_model_module_version": "1.5.0",
            "_model_name": "DescriptionStyleModel",
            "_view_count": null,
            "_view_module": "@jupyter-widgets/base",
            "_view_module_version": "1.2.0",
            "_view_name": "StyleView",
            "description_width": ""
          }
        },
        "fa60faf9b9df4a3fa840054a5477f0a1": {
          "model_module": "@jupyter-widgets/base",
          "model_name": "LayoutModel",
          "model_module_version": "1.2.0",
          "state": {
            "_model_module": "@jupyter-widgets/base",
            "_model_module_version": "1.2.0",
            "_model_name": "LayoutModel",
            "_view_count": null,
            "_view_module": "@jupyter-widgets/base",
            "_view_module_version": "1.2.0",
            "_view_name": "LayoutView",
            "align_content": null,
            "align_items": null,
            "align_self": null,
            "border": null,
            "bottom": null,
            "display": null,
            "flex": null,
            "flex_flow": null,
            "grid_area": null,
            "grid_auto_columns": null,
            "grid_auto_flow": null,
            "grid_auto_rows": null,
            "grid_column": null,
            "grid_gap": null,
            "grid_row": null,
            "grid_template_areas": null,
            "grid_template_columns": null,
            "grid_template_rows": null,
            "height": null,
            "justify_content": null,
            "justify_items": null,
            "left": null,
            "margin": null,
            "max_height": null,
            "max_width": null,
            "min_height": null,
            "min_width": null,
            "object_fit": null,
            "object_position": null,
            "order": null,
            "overflow": null,
            "overflow_x": null,
            "overflow_y": null,
            "padding": null,
            "right": null,
            "top": null,
            "visibility": null,
            "width": null
          }
        },
        "bae42c182522466cb986ea74c53adfb2": {
          "model_module": "@jupyter-widgets/controls",
          "model_name": "ProgressStyleModel",
          "model_module_version": "1.5.0",
          "state": {
            "_model_module": "@jupyter-widgets/controls",
            "_model_module_version": "1.5.0",
            "_model_name": "ProgressStyleModel",
            "_view_count": null,
            "_view_module": "@jupyter-widgets/base",
            "_view_module_version": "1.2.0",
            "_view_name": "StyleView",
            "bar_color": null,
            "description_width": ""
          }
        },
        "e3cd1d6e6f0b427484c86b503c36eee5": {
          "model_module": "@jupyter-widgets/base",
          "model_name": "LayoutModel",
          "model_module_version": "1.2.0",
          "state": {
            "_model_module": "@jupyter-widgets/base",
            "_model_module_version": "1.2.0",
            "_model_name": "LayoutModel",
            "_view_count": null,
            "_view_module": "@jupyter-widgets/base",
            "_view_module_version": "1.2.0",
            "_view_name": "LayoutView",
            "align_content": null,
            "align_items": null,
            "align_self": null,
            "border": null,
            "bottom": null,
            "display": null,
            "flex": null,
            "flex_flow": null,
            "grid_area": null,
            "grid_auto_columns": null,
            "grid_auto_flow": null,
            "grid_auto_rows": null,
            "grid_column": null,
            "grid_gap": null,
            "grid_row": null,
            "grid_template_areas": null,
            "grid_template_columns": null,
            "grid_template_rows": null,
            "height": null,
            "justify_content": null,
            "justify_items": null,
            "left": null,
            "margin": null,
            "max_height": null,
            "max_width": null,
            "min_height": null,
            "min_width": null,
            "object_fit": null,
            "object_position": null,
            "order": null,
            "overflow": null,
            "overflow_x": null,
            "overflow_y": null,
            "padding": null,
            "right": null,
            "top": null,
            "visibility": null,
            "width": null
          }
        },
        "9b7e3869a9e341bb99ba5cdb4c323844": {
          "model_module": "@jupyter-widgets/controls",
          "model_name": "DescriptionStyleModel",
          "model_module_version": "1.5.0",
          "state": {
            "_model_module": "@jupyter-widgets/controls",
            "_model_module_version": "1.5.0",
            "_model_name": "DescriptionStyleModel",
            "_view_count": null,
            "_view_module": "@jupyter-widgets/base",
            "_view_module_version": "1.2.0",
            "_view_name": "StyleView",
            "description_width": ""
          }
        },
        "8eae1090d20e45748ac9eb5992c76fd5": {
          "model_module": "@jupyter-widgets/controls",
          "model_name": "HBoxModel",
          "model_module_version": "1.5.0",
          "state": {
            "_dom_classes": [],
            "_model_module": "@jupyter-widgets/controls",
            "_model_module_version": "1.5.0",
            "_model_name": "HBoxModel",
            "_view_count": null,
            "_view_module": "@jupyter-widgets/controls",
            "_view_module_version": "1.5.0",
            "_view_name": "HBoxView",
            "box_style": "",
            "children": [
              "IPY_MODEL_4598ec43d32b45678359196f2e1c7425",
              "IPY_MODEL_23695eb0bd2c4c25b297dfaf2fdb4a05",
              "IPY_MODEL_0459880285474b16924b37f7fbd8a64e"
            ],
            "layout": "IPY_MODEL_0f81195c9d344a3fa5354c42bba07098"
          }
        },
        "4598ec43d32b45678359196f2e1c7425": {
          "model_module": "@jupyter-widgets/controls",
          "model_name": "HTMLModel",
          "model_module_version": "1.5.0",
          "state": {
            "_dom_classes": [],
            "_model_module": "@jupyter-widgets/controls",
            "_model_module_version": "1.5.0",
            "_model_name": "HTMLModel",
            "_view_count": null,
            "_view_module": "@jupyter-widgets/controls",
            "_view_module_version": "1.5.0",
            "_view_name": "HTMLView",
            "description": "",
            "description_tooltip": null,
            "layout": "IPY_MODEL_c477db7ac6bc4a839121ec098f259410",
            "placeholder": "​",
            "style": "IPY_MODEL_24ae5099394246088fe518e105bfb2c0",
            "value": "Downloading pytorch_model.bin: 100%"
          }
        },
        "23695eb0bd2c4c25b297dfaf2fdb4a05": {
          "model_module": "@jupyter-widgets/controls",
          "model_name": "FloatProgressModel",
          "model_module_version": "1.5.0",
          "state": {
            "_dom_classes": [],
            "_model_module": "@jupyter-widgets/controls",
            "_model_module_version": "1.5.0",
            "_model_name": "FloatProgressModel",
            "_view_count": null,
            "_view_module": "@jupyter-widgets/controls",
            "_view_module_version": "1.5.0",
            "_view_name": "ProgressView",
            "bar_style": "success",
            "description": "",
            "description_tooltip": null,
            "layout": "IPY_MODEL_af353280407c439f8176afd09b32579b",
            "max": 445025130,
            "min": 0,
            "orientation": "horizontal",
            "style": "IPY_MODEL_5de38398f4f14700a8c714d8a277740e",
            "value": 445025130
          }
        },
        "0459880285474b16924b37f7fbd8a64e": {
          "model_module": "@jupyter-widgets/controls",
          "model_name": "HTMLModel",
          "model_module_version": "1.5.0",
          "state": {
            "_dom_classes": [],
            "_model_module": "@jupyter-widgets/controls",
            "_model_module_version": "1.5.0",
            "_model_name": "HTMLModel",
            "_view_count": null,
            "_view_module": "@jupyter-widgets/controls",
            "_view_module_version": "1.5.0",
            "_view_name": "HTMLView",
            "description": "",
            "description_tooltip": null,
            "layout": "IPY_MODEL_002d841c7b514fbc882bd857489371fe",
            "placeholder": "​",
            "style": "IPY_MODEL_908ed59c4124459089dcdccd4e639846",
            "value": " 445M/445M [00:06&lt;00:00, 76.7MB/s]"
          }
        },
        "0f81195c9d344a3fa5354c42bba07098": {
          "model_module": "@jupyter-widgets/base",
          "model_name": "LayoutModel",
          "model_module_version": "1.2.0",
          "state": {
            "_model_module": "@jupyter-widgets/base",
            "_model_module_version": "1.2.0",
            "_model_name": "LayoutModel",
            "_view_count": null,
            "_view_module": "@jupyter-widgets/base",
            "_view_module_version": "1.2.0",
            "_view_name": "LayoutView",
            "align_content": null,
            "align_items": null,
            "align_self": null,
            "border": null,
            "bottom": null,
            "display": null,
            "flex": null,
            "flex_flow": null,
            "grid_area": null,
            "grid_auto_columns": null,
            "grid_auto_flow": null,
            "grid_auto_rows": null,
            "grid_column": null,
            "grid_gap": null,
            "grid_row": null,
            "grid_template_areas": null,
            "grid_template_columns": null,
            "grid_template_rows": null,
            "height": null,
            "justify_content": null,
            "justify_items": null,
            "left": null,
            "margin": null,
            "max_height": null,
            "max_width": null,
            "min_height": null,
            "min_width": null,
            "object_fit": null,
            "object_position": null,
            "order": null,
            "overflow": null,
            "overflow_x": null,
            "overflow_y": null,
            "padding": null,
            "right": null,
            "top": null,
            "visibility": null,
            "width": null
          }
        },
        "c477db7ac6bc4a839121ec098f259410": {
          "model_module": "@jupyter-widgets/base",
          "model_name": "LayoutModel",
          "model_module_version": "1.2.0",
          "state": {
            "_model_module": "@jupyter-widgets/base",
            "_model_module_version": "1.2.0",
            "_model_name": "LayoutModel",
            "_view_count": null,
            "_view_module": "@jupyter-widgets/base",
            "_view_module_version": "1.2.0",
            "_view_name": "LayoutView",
            "align_content": null,
            "align_items": null,
            "align_self": null,
            "border": null,
            "bottom": null,
            "display": null,
            "flex": null,
            "flex_flow": null,
            "grid_area": null,
            "grid_auto_columns": null,
            "grid_auto_flow": null,
            "grid_auto_rows": null,
            "grid_column": null,
            "grid_gap": null,
            "grid_row": null,
            "grid_template_areas": null,
            "grid_template_columns": null,
            "grid_template_rows": null,
            "height": null,
            "justify_content": null,
            "justify_items": null,
            "left": null,
            "margin": null,
            "max_height": null,
            "max_width": null,
            "min_height": null,
            "min_width": null,
            "object_fit": null,
            "object_position": null,
            "order": null,
            "overflow": null,
            "overflow_x": null,
            "overflow_y": null,
            "padding": null,
            "right": null,
            "top": null,
            "visibility": null,
            "width": null
          }
        },
        "24ae5099394246088fe518e105bfb2c0": {
          "model_module": "@jupyter-widgets/controls",
          "model_name": "DescriptionStyleModel",
          "model_module_version": "1.5.0",
          "state": {
            "_model_module": "@jupyter-widgets/controls",
            "_model_module_version": "1.5.0",
            "_model_name": "DescriptionStyleModel",
            "_view_count": null,
            "_view_module": "@jupyter-widgets/base",
            "_view_module_version": "1.2.0",
            "_view_name": "StyleView",
            "description_width": ""
          }
        },
        "af353280407c439f8176afd09b32579b": {
          "model_module": "@jupyter-widgets/base",
          "model_name": "LayoutModel",
          "model_module_version": "1.2.0",
          "state": {
            "_model_module": "@jupyter-widgets/base",
            "_model_module_version": "1.2.0",
            "_model_name": "LayoutModel",
            "_view_count": null,
            "_view_module": "@jupyter-widgets/base",
            "_view_module_version": "1.2.0",
            "_view_name": "LayoutView",
            "align_content": null,
            "align_items": null,
            "align_self": null,
            "border": null,
            "bottom": null,
            "display": null,
            "flex": null,
            "flex_flow": null,
            "grid_area": null,
            "grid_auto_columns": null,
            "grid_auto_flow": null,
            "grid_auto_rows": null,
            "grid_column": null,
            "grid_gap": null,
            "grid_row": null,
            "grid_template_areas": null,
            "grid_template_columns": null,
            "grid_template_rows": null,
            "height": null,
            "justify_content": null,
            "justify_items": null,
            "left": null,
            "margin": null,
            "max_height": null,
            "max_width": null,
            "min_height": null,
            "min_width": null,
            "object_fit": null,
            "object_position": null,
            "order": null,
            "overflow": null,
            "overflow_x": null,
            "overflow_y": null,
            "padding": null,
            "right": null,
            "top": null,
            "visibility": null,
            "width": null
          }
        },
        "5de38398f4f14700a8c714d8a277740e": {
          "model_module": "@jupyter-widgets/controls",
          "model_name": "ProgressStyleModel",
          "model_module_version": "1.5.0",
          "state": {
            "_model_module": "@jupyter-widgets/controls",
            "_model_module_version": "1.5.0",
            "_model_name": "ProgressStyleModel",
            "_view_count": null,
            "_view_module": "@jupyter-widgets/base",
            "_view_module_version": "1.2.0",
            "_view_name": "StyleView",
            "bar_color": null,
            "description_width": ""
          }
        },
        "002d841c7b514fbc882bd857489371fe": {
          "model_module": "@jupyter-widgets/base",
          "model_name": "LayoutModel",
          "model_module_version": "1.2.0",
          "state": {
            "_model_module": "@jupyter-widgets/base",
            "_model_module_version": "1.2.0",
            "_model_name": "LayoutModel",
            "_view_count": null,
            "_view_module": "@jupyter-widgets/base",
            "_view_module_version": "1.2.0",
            "_view_name": "LayoutView",
            "align_content": null,
            "align_items": null,
            "align_self": null,
            "border": null,
            "bottom": null,
            "display": null,
            "flex": null,
            "flex_flow": null,
            "grid_area": null,
            "grid_auto_columns": null,
            "grid_auto_flow": null,
            "grid_auto_rows": null,
            "grid_column": null,
            "grid_gap": null,
            "grid_row": null,
            "grid_template_areas": null,
            "grid_template_columns": null,
            "grid_template_rows": null,
            "height": null,
            "justify_content": null,
            "justify_items": null,
            "left": null,
            "margin": null,
            "max_height": null,
            "max_width": null,
            "min_height": null,
            "min_width": null,
            "object_fit": null,
            "object_position": null,
            "order": null,
            "overflow": null,
            "overflow_x": null,
            "overflow_y": null,
            "padding": null,
            "right": null,
            "top": null,
            "visibility": null,
            "width": null
          }
        },
        "908ed59c4124459089dcdccd4e639846": {
          "model_module": "@jupyter-widgets/controls",
          "model_name": "DescriptionStyleModel",
          "model_module_version": "1.5.0",
          "state": {
            "_model_module": "@jupyter-widgets/controls",
            "_model_module_version": "1.5.0",
            "_model_name": "DescriptionStyleModel",
            "_view_count": null,
            "_view_module": "@jupyter-widgets/base",
            "_view_module_version": "1.2.0",
            "_view_name": "StyleView",
            "description_width": ""
          }
        },
        "36ec688f507f45388ba4cbbc4703842d": {
          "model_module": "@jupyter-widgets/controls",
          "model_name": "HBoxModel",
          "model_module_version": "1.5.0",
          "state": {
            "_dom_classes": [],
            "_model_module": "@jupyter-widgets/controls",
            "_model_module_version": "1.5.0",
            "_model_name": "HBoxModel",
            "_view_count": null,
            "_view_module": "@jupyter-widgets/controls",
            "_view_module_version": "1.5.0",
            "_view_name": "HBoxView",
            "box_style": "",
            "children": [
              "IPY_MODEL_08fc2ad01b304caeb659fe56801a65e9",
              "IPY_MODEL_a7044db062114468b1158f98c47d06d3",
              "IPY_MODEL_2f192d602b2c4570a1c7815b985131d7"
            ],
            "layout": "IPY_MODEL_674c19785b6348a0b01bc8678d4145a3"
          }
        },
        "08fc2ad01b304caeb659fe56801a65e9": {
          "model_module": "@jupyter-widgets/controls",
          "model_name": "HTMLModel",
          "model_module_version": "1.5.0",
          "state": {
            "_dom_classes": [],
            "_model_module": "@jupyter-widgets/controls",
            "_model_module_version": "1.5.0",
            "_model_name": "HTMLModel",
            "_view_count": null,
            "_view_module": "@jupyter-widgets/controls",
            "_view_module_version": "1.5.0",
            "_view_name": "HTMLView",
            "description": "",
            "description_tooltip": null,
            "layout": "IPY_MODEL_6a2f5d74bb4943c7aa6e3c0f351de2cb",
            "placeholder": "​",
            "style": "IPY_MODEL_71f3092a261b4844bebf63ba22cc1290",
            "value": "Downloading pytorch_model.bin: 100%"
          }
        },
        "a7044db062114468b1158f98c47d06d3": {
          "model_module": "@jupyter-widgets/controls",
          "model_name": "FloatProgressModel",
          "model_module_version": "1.5.0",
          "state": {
            "_dom_classes": [],
            "_model_module": "@jupyter-widgets/controls",
            "_model_module_version": "1.5.0",
            "_model_name": "FloatProgressModel",
            "_view_count": null,
            "_view_module": "@jupyter-widgets/controls",
            "_view_module_version": "1.5.0",
            "_view_name": "ProgressView",
            "bar_style": "success",
            "description": "",
            "description_tooltip": null,
            "layout": "IPY_MODEL_373416adefe64db39d241c20a9be77cc",
            "max": 714314041,
            "min": 0,
            "orientation": "horizontal",
            "style": "IPY_MODEL_6bf76547513e45bbbc12df0b06de2d73",
            "value": 714314041
          }
        },
        "2f192d602b2c4570a1c7815b985131d7": {
          "model_module": "@jupyter-widgets/controls",
          "model_name": "HTMLModel",
          "model_module_version": "1.5.0",
          "state": {
            "_dom_classes": [],
            "_model_module": "@jupyter-widgets/controls",
            "_model_module_version": "1.5.0",
            "_model_name": "HTMLModel",
            "_view_count": null,
            "_view_module": "@jupyter-widgets/controls",
            "_view_module_version": "1.5.0",
            "_view_name": "HTMLView",
            "description": "",
            "description_tooltip": null,
            "layout": "IPY_MODEL_b1bad7f4f3d94e27aa671e4f4c4b5d23",
            "placeholder": "​",
            "style": "IPY_MODEL_25b45c6d46804cc19f6560046bc569da",
            "value": " 714M/714M [00:09&lt;00:00, 101MB/s]"
          }
        },
        "674c19785b6348a0b01bc8678d4145a3": {
          "model_module": "@jupyter-widgets/base",
          "model_name": "LayoutModel",
          "model_module_version": "1.2.0",
          "state": {
            "_model_module": "@jupyter-widgets/base",
            "_model_module_version": "1.2.0",
            "_model_name": "LayoutModel",
            "_view_count": null,
            "_view_module": "@jupyter-widgets/base",
            "_view_module_version": "1.2.0",
            "_view_name": "LayoutView",
            "align_content": null,
            "align_items": null,
            "align_self": null,
            "border": null,
            "bottom": null,
            "display": null,
            "flex": null,
            "flex_flow": null,
            "grid_area": null,
            "grid_auto_columns": null,
            "grid_auto_flow": null,
            "grid_auto_rows": null,
            "grid_column": null,
            "grid_gap": null,
            "grid_row": null,
            "grid_template_areas": null,
            "grid_template_columns": null,
            "grid_template_rows": null,
            "height": null,
            "justify_content": null,
            "justify_items": null,
            "left": null,
            "margin": null,
            "max_height": null,
            "max_width": null,
            "min_height": null,
            "min_width": null,
            "object_fit": null,
            "object_position": null,
            "order": null,
            "overflow": null,
            "overflow_x": null,
            "overflow_y": null,
            "padding": null,
            "right": null,
            "top": null,
            "visibility": null,
            "width": null
          }
        },
        "6a2f5d74bb4943c7aa6e3c0f351de2cb": {
          "model_module": "@jupyter-widgets/base",
          "model_name": "LayoutModel",
          "model_module_version": "1.2.0",
          "state": {
            "_model_module": "@jupyter-widgets/base",
            "_model_module_version": "1.2.0",
            "_model_name": "LayoutModel",
            "_view_count": null,
            "_view_module": "@jupyter-widgets/base",
            "_view_module_version": "1.2.0",
            "_view_name": "LayoutView",
            "align_content": null,
            "align_items": null,
            "align_self": null,
            "border": null,
            "bottom": null,
            "display": null,
            "flex": null,
            "flex_flow": null,
            "grid_area": null,
            "grid_auto_columns": null,
            "grid_auto_flow": null,
            "grid_auto_rows": null,
            "grid_column": null,
            "grid_gap": null,
            "grid_row": null,
            "grid_template_areas": null,
            "grid_template_columns": null,
            "grid_template_rows": null,
            "height": null,
            "justify_content": null,
            "justify_items": null,
            "left": null,
            "margin": null,
            "max_height": null,
            "max_width": null,
            "min_height": null,
            "min_width": null,
            "object_fit": null,
            "object_position": null,
            "order": null,
            "overflow": null,
            "overflow_x": null,
            "overflow_y": null,
            "padding": null,
            "right": null,
            "top": null,
            "visibility": null,
            "width": null
          }
        },
        "71f3092a261b4844bebf63ba22cc1290": {
          "model_module": "@jupyter-widgets/controls",
          "model_name": "DescriptionStyleModel",
          "model_module_version": "1.5.0",
          "state": {
            "_model_module": "@jupyter-widgets/controls",
            "_model_module_version": "1.5.0",
            "_model_name": "DescriptionStyleModel",
            "_view_count": null,
            "_view_module": "@jupyter-widgets/base",
            "_view_module_version": "1.2.0",
            "_view_name": "StyleView",
            "description_width": ""
          }
        },
        "373416adefe64db39d241c20a9be77cc": {
          "model_module": "@jupyter-widgets/base",
          "model_name": "LayoutModel",
          "model_module_version": "1.2.0",
          "state": {
            "_model_module": "@jupyter-widgets/base",
            "_model_module_version": "1.2.0",
            "_model_name": "LayoutModel",
            "_view_count": null,
            "_view_module": "@jupyter-widgets/base",
            "_view_module_version": "1.2.0",
            "_view_name": "LayoutView",
            "align_content": null,
            "align_items": null,
            "align_self": null,
            "border": null,
            "bottom": null,
            "display": null,
            "flex": null,
            "flex_flow": null,
            "grid_area": null,
            "grid_auto_columns": null,
            "grid_auto_flow": null,
            "grid_auto_rows": null,
            "grid_column": null,
            "grid_gap": null,
            "grid_row": null,
            "grid_template_areas": null,
            "grid_template_columns": null,
            "grid_template_rows": null,
            "height": null,
            "justify_content": null,
            "justify_items": null,
            "left": null,
            "margin": null,
            "max_height": null,
            "max_width": null,
            "min_height": null,
            "min_width": null,
            "object_fit": null,
            "object_position": null,
            "order": null,
            "overflow": null,
            "overflow_x": null,
            "overflow_y": null,
            "padding": null,
            "right": null,
            "top": null,
            "visibility": null,
            "width": null
          }
        },
        "6bf76547513e45bbbc12df0b06de2d73": {
          "model_module": "@jupyter-widgets/controls",
          "model_name": "ProgressStyleModel",
          "model_module_version": "1.5.0",
          "state": {
            "_model_module": "@jupyter-widgets/controls",
            "_model_module_version": "1.5.0",
            "_model_name": "ProgressStyleModel",
            "_view_count": null,
            "_view_module": "@jupyter-widgets/base",
            "_view_module_version": "1.2.0",
            "_view_name": "StyleView",
            "bar_color": null,
            "description_width": ""
          }
        },
        "b1bad7f4f3d94e27aa671e4f4c4b5d23": {
          "model_module": "@jupyter-widgets/base",
          "model_name": "LayoutModel",
          "model_module_version": "1.2.0",
          "state": {
            "_model_module": "@jupyter-widgets/base",
            "_model_module_version": "1.2.0",
            "_model_name": "LayoutModel",
            "_view_count": null,
            "_view_module": "@jupyter-widgets/base",
            "_view_module_version": "1.2.0",
            "_view_name": "LayoutView",
            "align_content": null,
            "align_items": null,
            "align_self": null,
            "border": null,
            "bottom": null,
            "display": null,
            "flex": null,
            "flex_flow": null,
            "grid_area": null,
            "grid_auto_columns": null,
            "grid_auto_flow": null,
            "grid_auto_rows": null,
            "grid_column": null,
            "grid_gap": null,
            "grid_row": null,
            "grid_template_areas": null,
            "grid_template_columns": null,
            "grid_template_rows": null,
            "height": null,
            "justify_content": null,
            "justify_items": null,
            "left": null,
            "margin": null,
            "max_height": null,
            "max_width": null,
            "min_height": null,
            "min_width": null,
            "object_fit": null,
            "object_position": null,
            "order": null,
            "overflow": null,
            "overflow_x": null,
            "overflow_y": null,
            "padding": null,
            "right": null,
            "top": null,
            "visibility": null,
            "width": null
          }
        },
        "25b45c6d46804cc19f6560046bc569da": {
          "model_module": "@jupyter-widgets/controls",
          "model_name": "DescriptionStyleModel",
          "model_module_version": "1.5.0",
          "state": {
            "_model_module": "@jupyter-widgets/controls",
            "_model_module_version": "1.5.0",
            "_model_name": "DescriptionStyleModel",
            "_view_count": null,
            "_view_module": "@jupyter-widgets/base",
            "_view_module_version": "1.2.0",
            "_view_name": "StyleView",
            "description_width": ""
          }
        }
      }
    }
  },
  "cells": [
    {
      "cell_type": "markdown",
      "metadata": {
        "id": "view-in-github",
        "colab_type": "text"
      },
      "source": [
        "<a href=\"https://colab.research.google.com/github/endnef2/big_leader/blob/main/NLP/gpt_day3.ipynb\" target=\"_parent\"><img src=\"https://colab.research.google.com/assets/colab-badge.svg\" alt=\"Open In Colab\"/></a>"
      ]
    },
    {
      "cell_type": "code",
      "execution_count": 1,
      "metadata": {
        "colab": {
          "base_uri": "https://localhost:8080/"
        },
        "id": "e_MkoCaTyyzW",
        "outputId": "38f270c3-48c5-453c-ece7-6cb751617b3c"
      },
      "outputs": [
        {
          "output_type": "stream",
          "name": "stdout",
          "text": [
            "Mounted at /content/drive\n"
          ]
        }
      ],
      "source": [
        "from google.colab import drive\n",
        "drive.mount('/content/drive')"
      ]
    },
    {
      "cell_type": "markdown",
      "source": [
        "# 1.  KoGPT를 이용하여 문장을 생성하기"
      ],
      "metadata": {
        "id": "kY-WnSH20WZa"
      }
    },
    {
      "cell_type": "code",
      "source": [
        "pip install transformers"
      ],
      "metadata": {
        "colab": {
          "base_uri": "https://localhost:8080/"
        },
        "id": "AsAa88Bx0GDO",
        "outputId": "da2da7d1-e3a7-45d1-be19-61440caa1a90"
      },
      "execution_count": 2,
      "outputs": [
        {
          "output_type": "stream",
          "name": "stdout",
          "text": [
            "Collecting transformers\n",
            "  Downloading transformers-4.31.0-py3-none-any.whl (7.4 MB)\n",
            "\u001b[2K     \u001b[90m━━━━━━━━━━━━━━━━━━━━━━━━━━━━━━━━━━━━━━━━\u001b[0m \u001b[32m7.4/7.4 MB\u001b[0m \u001b[31m18.3 MB/s\u001b[0m eta \u001b[36m0:00:00\u001b[0m\n",
            "\u001b[?25hRequirement already satisfied: filelock in /usr/local/lib/python3.10/dist-packages (from transformers) (3.12.2)\n",
            "Collecting huggingface-hub<1.0,>=0.14.1 (from transformers)\n",
            "  Downloading huggingface_hub-0.16.4-py3-none-any.whl (268 kB)\n",
            "\u001b[2K     \u001b[90m━━━━━━━━━━━━━━━━━━━━━━━━━━━━━━━━━━━━━━\u001b[0m \u001b[32m268.8/268.8 kB\u001b[0m \u001b[31m25.0 MB/s\u001b[0m eta \u001b[36m0:00:00\u001b[0m\n",
            "\u001b[?25hRequirement already satisfied: numpy>=1.17 in /usr/local/lib/python3.10/dist-packages (from transformers) (1.25.2)\n",
            "Requirement already satisfied: packaging>=20.0 in /usr/local/lib/python3.10/dist-packages (from transformers) (23.1)\n",
            "Requirement already satisfied: pyyaml>=5.1 in /usr/local/lib/python3.10/dist-packages (from transformers) (6.0.1)\n",
            "Requirement already satisfied: regex!=2019.12.17 in /usr/local/lib/python3.10/dist-packages (from transformers) (2022.10.31)\n",
            "Requirement already satisfied: requests in /usr/local/lib/python3.10/dist-packages (from transformers) (2.27.1)\n",
            "Collecting tokenizers!=0.11.3,<0.14,>=0.11.1 (from transformers)\n",
            "  Downloading tokenizers-0.13.3-cp310-cp310-manylinux_2_17_x86_64.manylinux2014_x86_64.whl (7.8 MB)\n",
            "\u001b[2K     \u001b[90m━━━━━━━━━━━━━━━━━━━━━━━━━━━━━━━━━━━━━━━━\u001b[0m \u001b[32m7.8/7.8 MB\u001b[0m \u001b[31m43.9 MB/s\u001b[0m eta \u001b[36m0:00:00\u001b[0m\n",
            "\u001b[?25hCollecting safetensors>=0.3.1 (from transformers)\n",
            "  Downloading safetensors-0.3.1-cp310-cp310-manylinux_2_17_x86_64.manylinux2014_x86_64.whl (1.3 MB)\n",
            "\u001b[2K     \u001b[90m━━━━━━━━━━━━━━━━━━━━━━━━━━━━━━━━━━━━━━━━\u001b[0m \u001b[32m1.3/1.3 MB\u001b[0m \u001b[31m45.2 MB/s\u001b[0m eta \u001b[36m0:00:00\u001b[0m\n",
            "\u001b[?25hRequirement already satisfied: tqdm>=4.27 in /usr/local/lib/python3.10/dist-packages (from transformers) (4.65.0)\n",
            "Requirement already satisfied: fsspec in /usr/local/lib/python3.10/dist-packages (from huggingface-hub<1.0,>=0.14.1->transformers) (2023.6.0)\n",
            "Requirement already satisfied: typing-extensions>=3.7.4.3 in /usr/local/lib/python3.10/dist-packages (from huggingface-hub<1.0,>=0.14.1->transformers) (4.7.1)\n",
            "Requirement already satisfied: urllib3<1.27,>=1.21.1 in /usr/local/lib/python3.10/dist-packages (from requests->transformers) (1.26.16)\n",
            "Requirement already satisfied: certifi>=2017.4.17 in /usr/local/lib/python3.10/dist-packages (from requests->transformers) (2023.7.22)\n",
            "Requirement already satisfied: charset-normalizer~=2.0.0 in /usr/local/lib/python3.10/dist-packages (from requests->transformers) (2.0.12)\n",
            "Requirement already satisfied: idna<4,>=2.5 in /usr/local/lib/python3.10/dist-packages (from requests->transformers) (3.4)\n",
            "Installing collected packages: tokenizers, safetensors, huggingface-hub, transformers\n",
            "Successfully installed huggingface-hub-0.16.4 safetensors-0.3.1 tokenizers-0.13.3 transformers-4.31.0\n"
          ]
        }
      ]
    },
    {
      "cell_type": "markdown",
      "source": [
        "## 1. KoGPT-2로 문장 생성하기"
      ],
      "metadata": {
        "id": "H1AD5Lgt1IjO"
      }
    },
    {
      "cell_type": "code",
      "source": [
        "import numpy as np\n",
        "import random\n",
        "import tensorflow as tf\n",
        "from transformers import AutoTokenizer\n",
        "from transformers import TFGPT2LMHeadModel"
      ],
      "metadata": {
        "id": "QOUe6K9L07RA"
      },
      "execution_count": 3,
      "outputs": []
    },
    {
      "cell_type": "code",
      "source": [
        "model = TFGPT2LMHeadModel.from_pretrained('skt/kogpt2-base-v2', from_pt=True)\n",
        "tokenizer = AutoTokenizer.from_pretrained('skt/kogpt2-base-v2')"
      ],
      "metadata": {
        "colab": {
          "base_uri": "https://localhost:8080/",
          "height": 242,
          "referenced_widgets": [
            "5afdeceb70f04b8590fdf56141669828",
            "7831e99e8dc6461a808ed5ca2e6d3856",
            "4c476cc9ab354a7895e38f47303870a4",
            "519b6bd31a7140fe909cedf05d4c2d13",
            "0d8739492a0748a295233c84d59e7854",
            "6f9415e89cee4282be14a6cd7f93ebcf",
            "ee27f91ec6964348859f0f589a9298dd",
            "6369aba1283c48019c42f67eb7bf5659",
            "f7130440dcbb41fc81743530c9866194",
            "cd392a17c78243038d6b679d54945b57",
            "b44fcbb2b4d94f28a81ff48e4c5d3d07",
            "aa49b689946d4df8a3eccacb66f913e4",
            "47379541269c4fe3b7ebe12ee719c767",
            "5aa913449a0347b69cf4490c09666bff",
            "9b4f3cef298f43db9b67dc224e5c0019",
            "ea128e0cc2c54d6588dc202eb2aab198",
            "87de2a31f9494b4db253488ff4667ba6",
            "d2cbfc7a19454e5d8dc9c0062bc0b6f1",
            "d401914d645842e2b926a327fd51c49b",
            "e5c32b635b754109900f690121c4d8fd",
            "3a4f9283795d4ec59b5442e31099ebf9",
            "40a9c0f3407e4fbabcf3716ceb72e9a8",
            "f98fb511c70748218284cd6fd3f62741",
            "0296272e0aed4cf196f50db0bf616214",
            "877b3888aa544309aac60e78e5f44f70",
            "67d657ea688341cf86ae1d3fd0e595f3",
            "e22fbeb5897e455f8ba21757fd9ade94",
            "82996b37ad8a44b195fb75141a11af5d",
            "c95c3a9bd0274bc39e770d31a65f4052",
            "fa60faf9b9df4a3fa840054a5477f0a1",
            "bae42c182522466cb986ea74c53adfb2",
            "e3cd1d6e6f0b427484c86b503c36eee5",
            "9b7e3869a9e341bb99ba5cdb4c323844"
          ]
        },
        "id": "kaqvMxtm1MaN",
        "outputId": "10266628-7bd3-43cd-b241-b60697657606"
      },
      "execution_count": 4,
      "outputs": [
        {
          "output_type": "display_data",
          "data": {
            "text/plain": [
              "Downloading (…)lve/main/config.json:   0%|          | 0.00/1.00k [00:00<?, ?B/s]"
            ],
            "application/vnd.jupyter.widget-view+json": {
              "version_major": 2,
              "version_minor": 0,
              "model_id": "5afdeceb70f04b8590fdf56141669828"
            }
          },
          "metadata": {}
        },
        {
          "output_type": "display_data",
          "data": {
            "text/plain": [
              "Downloading pytorch_model.bin:   0%|          | 0.00/513M [00:00<?, ?B/s]"
            ],
            "application/vnd.jupyter.widget-view+json": {
              "version_major": 2,
              "version_minor": 0,
              "model_id": "aa49b689946d4df8a3eccacb66f913e4"
            }
          },
          "metadata": {}
        },
        {
          "output_type": "stream",
          "name": "stderr",
          "text": [
            "Some weights of the PyTorch model were not used when initializing the TF 2.0 model TFGPT2LMHeadModel: ['transformer.h.10.attn.masked_bias', 'transformer.h.4.attn.masked_bias', 'transformer.h.5.attn.masked_bias', 'transformer.h.6.attn.masked_bias', 'transformer.h.0.attn.masked_bias', 'transformer.h.8.attn.masked_bias', 'transformer.h.3.attn.masked_bias', 'transformer.h.7.attn.masked_bias', 'transformer.h.2.attn.masked_bias', 'lm_head.weight', 'transformer.h.11.attn.masked_bias', 'transformer.h.1.attn.masked_bias', 'transformer.h.9.attn.masked_bias']\n",
            "- This IS expected if you are initializing TFGPT2LMHeadModel from a PyTorch model trained on another task or with another architecture (e.g. initializing a TFBertForSequenceClassification model from a BertForPreTraining model).\n",
            "- This IS NOT expected if you are initializing TFGPT2LMHeadModel from a PyTorch model that you expect to be exactly identical (e.g. initializing a TFBertForSequenceClassification model from a BertForSequenceClassification model).\n",
            "All the weights of TFGPT2LMHeadModel were initialized from the PyTorch model.\n",
            "If your task is similar to the task the model of the checkpoint was trained on, you can already use TFGPT2LMHeadModel for predictions without further training.\n"
          ]
        },
        {
          "output_type": "display_data",
          "data": {
            "text/plain": [
              "Downloading (…)/main/tokenizer.json:   0%|          | 0.00/2.83M [00:00<?, ?B/s]"
            ],
            "application/vnd.jupyter.widget-view+json": {
              "version_major": 2,
              "version_minor": 0,
              "model_id": "f98fb511c70748218284cd6fd3f62741"
            }
          },
          "metadata": {}
        },
        {
          "output_type": "stream",
          "name": "stderr",
          "text": [
            "Special tokens have been added in the vocabulary, make sure the associated word embeddings are fine-tuned or trained.\n"
          ]
        }
      ]
    },
    {
      "cell_type": "code",
      "source": [
        "sent = '오늘 날씨가'"
      ],
      "metadata": {
        "id": "2a10wWDb1Nba"
      },
      "execution_count": 10,
      "outputs": []
    },
    {
      "cell_type": "code",
      "source": [
        "# 문자열을 정수 시퀀스로 변환\n",
        "input_ids = tokenizer.encode(sent)\n",
        "input_ids = tf.convert_to_tensor([input_ids])\n",
        "print(input_ids)"
      ],
      "metadata": {
        "colab": {
          "base_uri": "https://localhost:8080/"
        },
        "id": "2nFdLvYk1Urt",
        "outputId": "640e75f2-4ee0-4e11-854b-470c66d2b1be"
      },
      "execution_count": 33,
      "outputs": [
        {
          "output_type": "stream",
          "name": "stdout",
          "text": [
            "tf.Tensor([[10070 34018]], shape=(1, 2), dtype=int32)\n"
          ]
        }
      ]
    },
    {
      "cell_type": "code",
      "source": [
        "output = model.generate(input_ids,\n",
        "                        max_length=128,\n",
        "                        repetition_penalty=2.0,\n",
        "                        use_cache=True)\n",
        "output_ids = output.numpy().tolist()[0]\n",
        "print(output_ids)"
      ],
      "metadata": {
        "colab": {
          "base_uri": "https://localhost:8080/"
        },
        "id": "j3d5AxiY1l8N",
        "outputId": "04084951-279c-4a98-d751-e35d12362728"
      },
      "execution_count": 34,
      "outputs": [
        {
          "output_type": "stream",
          "name": "stdout",
          "text": [
            "[10070, 34018, 9220, 8102, 12762, 387, 11457, 8063, 8146, 13964, 7965, 9810, 10590, 30899, 17339, 9563, 8135, 9097, 8702, 9130, 10897, 21992, 18692, 20002, 9045, 7235, 9168, 11615, 8210, 10010, 7067, 9325, 20403, 9773, 11888, 8263, 9350, 26616, 9668, 10078, 15118, 8143, 9960, 13001, 9143, 9758, 48101, 9518, 9085, 9638, 7395, 9312, 6872, 6889, 26764, 28908, 10294, 9052, 12477, 8066, 12094, 9292, 9626, 14405, 9149, 9231, 6949, 8704, 11294, 7060, 17122, 16462, 8137, 9243, 29213, 7182, 23636, 27064, 26482, 13016, 9251, 18336, 10396, 8204, 9341, 25185, 13744, 8022, 25167, 9685, 11718, 37770, 10141, 9517, 15245, 25521, 9564, 32431, 8155, 9075, 12077, 9976, 9970, 9885, 14705, 21812, 10771, 12002, 8052, 8772, 9148, 10939, 9295, 19220, 21351, 20772, 10281, 9326, 35902, 9366, 16640, 16848, 15476, 14693, 18756, 9094, 8149, 9182]\n"
          ]
        }
      ]
    },
    {
      "cell_type": "code",
      "source": [
        "tokenizer.decode(output_ids)"
      ],
      "metadata": {
        "colab": {
          "base_uri": "https://localhost:8080/",
          "height": 108
        },
        "id": "gKJUgC1S1o6Y",
        "outputId": "5462e715-5e75-429d-9093-b4e8b4576b62"
      },
      "execution_count": 35,
      "outputs": [
        {
          "output_type": "execute_result",
          "data": {
            "text/plain": [
              "'오늘 날씨가 추워지면서, 겨울옷이 얇아지고 있습니다.\\n오늘 아침 서울은 영하 4도, 대관령은 영상 2도까지 떨어졌습니다.\\n낮에도 기온이 크게 오르지 못하겠는데요.\\n서울의 낮 기온 5도로 어제보다 3도가량 높겠고요,\\n남부지방에는 광주와 대구 10도를 보이면서 포근한 봄날씨를 되찾을 것으로 보입니다.\\n다만, 동해안 지방은 건조주의보가 내려져 있어 화재 예방에 유의해야 합니다.\\n지금 전국 대부분 지방에 구름이 많이 끼어있고, 제주도는 흐리고 비가 내리고 있는데요\\n오후부터 밤사이 강원 영동지방에 최고 20mm의 많은 눈이 내리겠다고 기상청은 내일 예'"
            ],
            "application/vnd.google.colaboratory.intrinsic+json": {
              "type": "string"
            }
          },
          "metadata": {},
          "execution_count": 35
        }
      ]
    },
    {
      "cell_type": "code",
      "source": [
        "top__10 = output.numpy().tolist()[0][:10]"
      ],
      "metadata": {
        "id": "xrCOQIFa3DY6"
      },
      "execution_count": 37,
      "outputs": []
    },
    {
      "cell_type": "code",
      "source": [
        "tokenizer.decode(top__10)"
      ],
      "metadata": {
        "colab": {
          "base_uri": "https://localhost:8080/",
          "height": 35
        },
        "id": "iM-cLez83qW8",
        "outputId": "33f8eb29-bc6a-4871-d287-066a228412c3"
      },
      "execution_count": 38,
      "outputs": [
        {
          "output_type": "execute_result",
          "data": {
            "text/plain": [
              "'오늘 날씨가 추워지면서, 겨울옷이 얇'"
            ],
            "application/vnd.google.colaboratory.intrinsic+json": {
              "type": "string"
            }
          },
          "metadata": {},
          "execution_count": 38
        }
      ]
    },
    {
      "cell_type": "markdown",
      "source": [
        "## 2. Numpy로 Top 10 뽑기"
      ],
      "metadata": {
        "id": "vEhMhHJG2mE5"
      }
    },
    {
      "cell_type": "code",
      "source": [
        "output = model(input_ids)\n",
        "top10 = tf.math.top_k(output.logits[0, -1], k=10)"
      ],
      "metadata": {
        "id": "pSUroq1H2Ce6"
      },
      "execution_count": 39,
      "outputs": []
    },
    {
      "cell_type": "code",
      "source": [
        "tokenizer.convert_ids_to_tokens(top10.indices.numpy())"
      ],
      "metadata": {
        "colab": {
          "base_uri": "https://localhost:8080/"
        },
        "id": "d7assHIy2okB",
        "outputId": "ec63e111-ac86-4db7-9bf2-9a3ee902d27a"
      },
      "execution_count": 40,
      "outputs": [
        {
          "output_type": "execute_result",
          "data": {
            "text/plain": [
              "['▁추', '▁쌀', '▁좋', '▁더', '▁많이', '▁풀', '▁예', '▁춥', '▁무척', '▁오늘']"
            ]
          },
          "metadata": {},
          "execution_count": 40
        }
      ]
    },
    {
      "cell_type": "code",
      "source": [
        "sent = '오늘 날씨가'\n",
        "input_ids = tokenizer.encode(sent)\n",
        "\n",
        "while len(input_ids) < 50:\n",
        "    output = model(np.array([input_ids]))\n",
        "    # Top 10의 단어들을 추출\n",
        "    top10 = tf.math.top_k(output.logits[0, -1], k=10)\n",
        "    # Top 10의 단어들 중 랜덤으로 다음 단어로 선택.\n",
        "    token_id = random.choice(top10.indices.numpy())\n",
        "    input_ids.append(token_id)\n",
        "\n",
        "tokenizer.decode(input_ids)"
      ],
      "metadata": {
        "colab": {
          "base_uri": "https://localhost:8080/",
          "height": 53
        },
        "id": "agLRFQdS2psU",
        "outputId": "9a47835e-c5bd-4036-cb16-ed6544464f2c"
      },
      "execution_count": 41,
      "outputs": [
        {
          "output_type": "execute_result",
          "data": {
            "text/plain": [
              "'오늘 날씨가 좋았는데. ᄏ\" 라면 먹고 뭔가가 기분 좋게 웃고있다.ᄏ.\\n그리고 저희 엄마도 기분을 맞춰서 괜<unk>다.ㅠㅠᄏ..ᅲ ᅲ.^..\\n그날은'"
            ],
            "application/vnd.google.colaboratory.intrinsic+json": {
              "type": "string"
            }
          },
          "metadata": {},
          "execution_count": 41
        }
      ]
    },
    {
      "cell_type": "markdown",
      "source": [
        "# 2. 네이버 영화 리뷰 감성 분류하기(Naver Movie Review Sentiment Analysis)"
      ],
      "metadata": {
        "id": "4b9Q91My4WLH"
      }
    },
    {
      "cell_type": "markdown",
      "source": [
        "## 1. 네이버 영화 리뷰 데이터에 대한 이해와 전처리"
      ],
      "metadata": {
        "id": "z_lgaoz64ZXB"
      }
    },
    {
      "cell_type": "code",
      "source": [
        "# TPU 초기화\n",
        "import tensorflow as tf\n",
        "import os\n",
        "\n",
        "resolver = tf.distribute.cluster_resolver.TPUClusterResolver(tpu='grpc://' + os.environ['COLAB_TPU_ADDR'])\n",
        "\n",
        "tf.config.experimental_connect_to_cluster(resolver)\n",
        "tf.tpu.experimental.initialize_tpu_system(resolver)"
      ],
      "metadata": {
        "colab": {
          "base_uri": "https://localhost:8080/"
        },
        "id": "Am9EPMSr4TZ_",
        "outputId": "91ec3ca4-65c3-4bd8-f1bc-0f7c7a2a853f"
      },
      "execution_count": 42,
      "outputs": [
        {
          "output_type": "execute_result",
          "data": {
            "text/plain": [
              "<tensorflow.python.tpu.topology.Topology at 0x7c4aa0bfab90>"
            ]
          },
          "metadata": {},
          "execution_count": 42
        }
      ]
    },
    {
      "cell_type": "code",
      "source": [
        "# TPU strategy 셋팅\n",
        "strategy = tf.distribute.TPUStrategy(resolver)"
      ],
      "metadata": {
        "id": "DsGjNUnW44V2"
      },
      "execution_count": 43,
      "outputs": []
    },
    {
      "cell_type": "code",
      "source": [
        "# 딥 러닝 모델의 컴파일\n",
        "def create_model():\n",
        "  return tf.keras.Sequential(\n",
        "      [tf.keras.layers.Conv2D(256, 3, activation='relu', input_shape=(28, 28, 1)),\n",
        "       tf.keras.layers.Conv2D(256, 3, activation='relu'),\n",
        "       tf.keras.layers.Flatten(),\n",
        "       tf.keras.layers.Dense(256, activation='relu'),\n",
        "       tf.keras.layers.Dense(128, activation='relu'),\n",
        "       tf.keras.layers.Dense(10)]) # 10차원 구조로 예측값이 나옴"
      ],
      "metadata": {
        "id": "carO09Ew48Fo"
      },
      "execution_count": 44,
      "outputs": []
    },
    {
      "cell_type": "code",
      "source": [
        "with strategy.scope():\n",
        "  model = create_model()\n",
        "  model.compile(optimizer='adam',\n",
        "                loss=tf.keras.losses.SparseCategoricalCrossentropy(from_logits=True),\n",
        "                metrics=['sparse_categorical_accuracy'])"
      ],
      "metadata": {
        "id": "VlRTZv9849yE"
      },
      "execution_count": 45,
      "outputs": []
    },
    {
      "cell_type": "code",
      "source": [
        "pip install transformers"
      ],
      "metadata": {
        "colab": {
          "base_uri": "https://localhost:8080/"
        },
        "id": "6elPNr734-4c",
        "outputId": "8521e0bc-cb93-4dfa-cb26-c7bdfa70efe8"
      },
      "execution_count": 46,
      "outputs": [
        {
          "output_type": "stream",
          "name": "stdout",
          "text": [
            "Requirement already satisfied: transformers in /usr/local/lib/python3.10/dist-packages (4.31.0)\n",
            "Requirement already satisfied: filelock in /usr/local/lib/python3.10/dist-packages (from transformers) (3.12.2)\n",
            "Requirement already satisfied: huggingface-hub<1.0,>=0.14.1 in /usr/local/lib/python3.10/dist-packages (from transformers) (0.16.4)\n",
            "Requirement already satisfied: numpy>=1.17 in /usr/local/lib/python3.10/dist-packages (from transformers) (1.25.2)\n",
            "Requirement already satisfied: packaging>=20.0 in /usr/local/lib/python3.10/dist-packages (from transformers) (23.1)\n",
            "Requirement already satisfied: pyyaml>=5.1 in /usr/local/lib/python3.10/dist-packages (from transformers) (6.0.1)\n",
            "Requirement already satisfied: regex!=2019.12.17 in /usr/local/lib/python3.10/dist-packages (from transformers) (2022.10.31)\n",
            "Requirement already satisfied: requests in /usr/local/lib/python3.10/dist-packages (from transformers) (2.27.1)\n",
            "Requirement already satisfied: tokenizers!=0.11.3,<0.14,>=0.11.1 in /usr/local/lib/python3.10/dist-packages (from transformers) (0.13.3)\n",
            "Requirement already satisfied: safetensors>=0.3.1 in /usr/local/lib/python3.10/dist-packages (from transformers) (0.3.1)\n",
            "Requirement already satisfied: tqdm>=4.27 in /usr/local/lib/python3.10/dist-packages (from transformers) (4.65.0)\n",
            "Requirement already satisfied: fsspec in /usr/local/lib/python3.10/dist-packages (from huggingface-hub<1.0,>=0.14.1->transformers) (2023.6.0)\n",
            "Requirement already satisfied: typing-extensions>=3.7.4.3 in /usr/local/lib/python3.10/dist-packages (from huggingface-hub<1.0,>=0.14.1->transformers) (4.7.1)\n",
            "Requirement already satisfied: urllib3<1.27,>=1.21.1 in /usr/local/lib/python3.10/dist-packages (from requests->transformers) (1.26.16)\n",
            "Requirement already satisfied: certifi>=2017.4.17 in /usr/local/lib/python3.10/dist-packages (from requests->transformers) (2023.7.22)\n",
            "Requirement already satisfied: charset-normalizer~=2.0.0 in /usr/local/lib/python3.10/dist-packages (from requests->transformers) (2.0.12)\n",
            "Requirement already satisfied: idna<4,>=2.5 in /usr/local/lib/python3.10/dist-packages (from requests->transformers) (3.4)\n"
          ]
        }
      ]
    },
    {
      "cell_type": "code",
      "source": [
        "# transformers 버전 확인\n",
        "import transformers\n",
        "transformers.__version__"
      ],
      "metadata": {
        "colab": {
          "base_uri": "https://localhost:8080/",
          "height": 35
        },
        "id": "VfYvoxKS5ByD",
        "outputId": "69bcfe27-6669-4394-d7bb-f8285a25df52"
      },
      "execution_count": 47,
      "outputs": [
        {
          "output_type": "execute_result",
          "data": {
            "text/plain": [
              "'4.31.0'"
            ],
            "application/vnd.google.colaboratory.intrinsic+json": {
              "type": "string"
            }
          },
          "metadata": {},
          "execution_count": 47
        }
      ]
    },
    {
      "cell_type": "code",
      "source": [
        "import pandas as pd\n",
        "import numpy as np\n",
        "import urllib.request\n",
        "import os\n",
        "from tqdm import tqdm\n",
        "import tensorflow as tf\n",
        "from transformers import BertTokenizer, TFBertModel"
      ],
      "metadata": {
        "id": "emRKDj9H5FG8"
      },
      "execution_count": 48,
      "outputs": []
    },
    {
      "cell_type": "code",
      "source": [
        "# naver영화 감성분류 dataset\n",
        "urllib.request.urlretrieve(\"https://raw.githubusercontent.com/e9t/nsmc/master/ratings_train.txt\", filename=\"ratings_train.txt\")\n",
        "urllib.request.urlretrieve(\"https://raw.githubusercontent.com/e9t/nsmc/master/ratings_test.txt\", filename=\"ratings_test.txt\")"
      ],
      "metadata": {
        "colab": {
          "base_uri": "https://localhost:8080/"
        },
        "id": "Yw08ybVB5Gmq",
        "outputId": "06df147a-8b24-49e5-9885-c055d1efe898"
      },
      "execution_count": 49,
      "outputs": [
        {
          "output_type": "execute_result",
          "data": {
            "text/plain": [
              "('ratings_test.txt', <http.client.HTTPMessage at 0x7c4970dd9c00>)"
            ]
          },
          "metadata": {},
          "execution_count": 49
        }
      ]
    },
    {
      "cell_type": "code",
      "source": [
        "train_data = pd.read_table('ratings_train.txt')\n",
        "test_data = pd.read_table('ratings_test.txt')"
      ],
      "metadata": {
        "id": "4vbdI89k5IGK"
      },
      "execution_count": 134,
      "outputs": []
    },
    {
      "cell_type": "code",
      "source": [
        "train_data"
      ],
      "metadata": {
        "colab": {
          "base_uri": "https://localhost:8080/",
          "height": 423
        },
        "id": "-gE_sdbg5J3Y",
        "outputId": "d6cbb71c-b332-4455-d52f-f875f34da2fa"
      },
      "execution_count": 135,
      "outputs": [
        {
          "output_type": "execute_result",
          "data": {
            "text/plain": [
              "              id                                           document  label\n",
              "0        9976970                                아 더빙.. 진짜 짜증나네요 목소리      0\n",
              "1        3819312                  흠...포스터보고 초딩영화줄....오버연기조차 가볍지 않구나      1\n",
              "2       10265843                                  너무재밓었다그래서보는것을추천한다      0\n",
              "3        9045019                      교도소 이야기구먼 ..솔직히 재미는 없다..평점 조정      0\n",
              "4        6483659  사이몬페그의 익살스런 연기가 돋보였던 영화!스파이더맨에서 늙어보이기만 했던 커스틴 ...      1\n",
              "...          ...                                                ...    ...\n",
              "149995   6222902                                인간이 문제지.. 소는 뭔죄인가..      0\n",
              "149996   8549745                                      평점이 너무 낮아서...      1\n",
              "149997   9311800                    이게 뭐요? 한국인은 거들먹거리고 필리핀 혼혈은 착하다?      0\n",
              "149998   2376369                        청춘 영화의 최고봉.방황과 우울했던 날들의 자화상      1\n",
              "149999   9619869                           한국 영화 최초로 수간하는 내용이 담긴 영화      0\n",
              "\n",
              "[150000 rows x 3 columns]"
            ],
            "text/html": [
              "\n",
              "\n",
              "  <div id=\"df-42858758-3a85-4022-970e-14fd59e50c53\">\n",
              "    <div class=\"colab-df-container\">\n",
              "      <div>\n",
              "<style scoped>\n",
              "    .dataframe tbody tr th:only-of-type {\n",
              "        vertical-align: middle;\n",
              "    }\n",
              "\n",
              "    .dataframe tbody tr th {\n",
              "        vertical-align: top;\n",
              "    }\n",
              "\n",
              "    .dataframe thead th {\n",
              "        text-align: right;\n",
              "    }\n",
              "</style>\n",
              "<table border=\"1\" class=\"dataframe\">\n",
              "  <thead>\n",
              "    <tr style=\"text-align: right;\">\n",
              "      <th></th>\n",
              "      <th>id</th>\n",
              "      <th>document</th>\n",
              "      <th>label</th>\n",
              "    </tr>\n",
              "  </thead>\n",
              "  <tbody>\n",
              "    <tr>\n",
              "      <th>0</th>\n",
              "      <td>9976970</td>\n",
              "      <td>아 더빙.. 진짜 짜증나네요 목소리</td>\n",
              "      <td>0</td>\n",
              "    </tr>\n",
              "    <tr>\n",
              "      <th>1</th>\n",
              "      <td>3819312</td>\n",
              "      <td>흠...포스터보고 초딩영화줄....오버연기조차 가볍지 않구나</td>\n",
              "      <td>1</td>\n",
              "    </tr>\n",
              "    <tr>\n",
              "      <th>2</th>\n",
              "      <td>10265843</td>\n",
              "      <td>너무재밓었다그래서보는것을추천한다</td>\n",
              "      <td>0</td>\n",
              "    </tr>\n",
              "    <tr>\n",
              "      <th>3</th>\n",
              "      <td>9045019</td>\n",
              "      <td>교도소 이야기구먼 ..솔직히 재미는 없다..평점 조정</td>\n",
              "      <td>0</td>\n",
              "    </tr>\n",
              "    <tr>\n",
              "      <th>4</th>\n",
              "      <td>6483659</td>\n",
              "      <td>사이몬페그의 익살스런 연기가 돋보였던 영화!스파이더맨에서 늙어보이기만 했던 커스틴 ...</td>\n",
              "      <td>1</td>\n",
              "    </tr>\n",
              "    <tr>\n",
              "      <th>...</th>\n",
              "      <td>...</td>\n",
              "      <td>...</td>\n",
              "      <td>...</td>\n",
              "    </tr>\n",
              "    <tr>\n",
              "      <th>149995</th>\n",
              "      <td>6222902</td>\n",
              "      <td>인간이 문제지.. 소는 뭔죄인가..</td>\n",
              "      <td>0</td>\n",
              "    </tr>\n",
              "    <tr>\n",
              "      <th>149996</th>\n",
              "      <td>8549745</td>\n",
              "      <td>평점이 너무 낮아서...</td>\n",
              "      <td>1</td>\n",
              "    </tr>\n",
              "    <tr>\n",
              "      <th>149997</th>\n",
              "      <td>9311800</td>\n",
              "      <td>이게 뭐요? 한국인은 거들먹거리고 필리핀 혼혈은 착하다?</td>\n",
              "      <td>0</td>\n",
              "    </tr>\n",
              "    <tr>\n",
              "      <th>149998</th>\n",
              "      <td>2376369</td>\n",
              "      <td>청춘 영화의 최고봉.방황과 우울했던 날들의 자화상</td>\n",
              "      <td>1</td>\n",
              "    </tr>\n",
              "    <tr>\n",
              "      <th>149999</th>\n",
              "      <td>9619869</td>\n",
              "      <td>한국 영화 최초로 수간하는 내용이 담긴 영화</td>\n",
              "      <td>0</td>\n",
              "    </tr>\n",
              "  </tbody>\n",
              "</table>\n",
              "<p>150000 rows × 3 columns</p>\n",
              "</div>\n",
              "      <button class=\"colab-df-convert\" onclick=\"convertToInteractive('df-42858758-3a85-4022-970e-14fd59e50c53')\"\n",
              "              title=\"Convert this dataframe to an interactive table.\"\n",
              "              style=\"display:none;\">\n",
              "\n",
              "  <svg xmlns=\"http://www.w3.org/2000/svg\" height=\"24px\"viewBox=\"0 0 24 24\"\n",
              "       width=\"24px\">\n",
              "    <path d=\"M0 0h24v24H0V0z\" fill=\"none\"/>\n",
              "    <path d=\"M18.56 5.44l.94 2.06.94-2.06 2.06-.94-2.06-.94-.94-2.06-.94 2.06-2.06.94zm-11 1L8.5 8.5l.94-2.06 2.06-.94-2.06-.94L8.5 2.5l-.94 2.06-2.06.94zm10 10l.94 2.06.94-2.06 2.06-.94-2.06-.94-.94-2.06-.94 2.06-2.06.94z\"/><path d=\"M17.41 7.96l-1.37-1.37c-.4-.4-.92-.59-1.43-.59-.52 0-1.04.2-1.43.59L10.3 9.45l-7.72 7.72c-.78.78-.78 2.05 0 2.83L4 21.41c.39.39.9.59 1.41.59.51 0 1.02-.2 1.41-.59l7.78-7.78 2.81-2.81c.8-.78.8-2.07 0-2.86zM5.41 20L4 18.59l7.72-7.72 1.47 1.35L5.41 20z\"/>\n",
              "  </svg>\n",
              "      </button>\n",
              "\n",
              "\n",
              "\n",
              "    <div id=\"df-b56a6f34-353e-4c3e-bdff-ceb48bbb986b\">\n",
              "      <button class=\"colab-df-quickchart\" onclick=\"quickchart('df-b56a6f34-353e-4c3e-bdff-ceb48bbb986b')\"\n",
              "              title=\"Suggest charts.\"\n",
              "              style=\"display:none;\">\n",
              "\n",
              "<svg xmlns=\"http://www.w3.org/2000/svg\" height=\"24px\"viewBox=\"0 0 24 24\"\n",
              "     width=\"24px\">\n",
              "    <g>\n",
              "        <path d=\"M19 3H5c-1.1 0-2 .9-2 2v14c0 1.1.9 2 2 2h14c1.1 0 2-.9 2-2V5c0-1.1-.9-2-2-2zM9 17H7v-7h2v7zm4 0h-2V7h2v10zm4 0h-2v-4h2v4z\"/>\n",
              "    </g>\n",
              "</svg>\n",
              "      </button>\n",
              "    </div>\n",
              "\n",
              "<style>\n",
              "  .colab-df-quickchart {\n",
              "    background-color: #E8F0FE;\n",
              "    border: none;\n",
              "    border-radius: 50%;\n",
              "    cursor: pointer;\n",
              "    display: none;\n",
              "    fill: #1967D2;\n",
              "    height: 32px;\n",
              "    padding: 0 0 0 0;\n",
              "    width: 32px;\n",
              "  }\n",
              "\n",
              "  .colab-df-quickchart:hover {\n",
              "    background-color: #E2EBFA;\n",
              "    box-shadow: 0px 1px 2px rgba(60, 64, 67, 0.3), 0px 1px 3px 1px rgba(60, 64, 67, 0.15);\n",
              "    fill: #174EA6;\n",
              "  }\n",
              "\n",
              "  [theme=dark] .colab-df-quickchart {\n",
              "    background-color: #3B4455;\n",
              "    fill: #D2E3FC;\n",
              "  }\n",
              "\n",
              "  [theme=dark] .colab-df-quickchart:hover {\n",
              "    background-color: #434B5C;\n",
              "    box-shadow: 0px 1px 3px 1px rgba(0, 0, 0, 0.15);\n",
              "    filter: drop-shadow(0px 1px 2px rgba(0, 0, 0, 0.3));\n",
              "    fill: #FFFFFF;\n",
              "  }\n",
              "</style>\n",
              "\n",
              "    <script>\n",
              "      async function quickchart(key) {\n",
              "        const containerElement = document.querySelector('#' + key);\n",
              "        const charts = await google.colab.kernel.invokeFunction(\n",
              "            'suggestCharts', [key], {});\n",
              "      }\n",
              "    </script>\n",
              "\n",
              "      <script>\n",
              "\n",
              "function displayQuickchartButton(domScope) {\n",
              "  let quickchartButtonEl =\n",
              "    domScope.querySelector('#df-b56a6f34-353e-4c3e-bdff-ceb48bbb986b button.colab-df-quickchart');\n",
              "  quickchartButtonEl.style.display =\n",
              "    google.colab.kernel.accessAllowed ? 'block' : 'none';\n",
              "}\n",
              "\n",
              "        displayQuickchartButton(document);\n",
              "      </script>\n",
              "      <style>\n",
              "    .colab-df-container {\n",
              "      display:flex;\n",
              "      flex-wrap:wrap;\n",
              "      gap: 12px;\n",
              "    }\n",
              "\n",
              "    .colab-df-convert {\n",
              "      background-color: #E8F0FE;\n",
              "      border: none;\n",
              "      border-radius: 50%;\n",
              "      cursor: pointer;\n",
              "      display: none;\n",
              "      fill: #1967D2;\n",
              "      height: 32px;\n",
              "      padding: 0 0 0 0;\n",
              "      width: 32px;\n",
              "    }\n",
              "\n",
              "    .colab-df-convert:hover {\n",
              "      background-color: #E2EBFA;\n",
              "      box-shadow: 0px 1px 2px rgba(60, 64, 67, 0.3), 0px 1px 3px 1px rgba(60, 64, 67, 0.15);\n",
              "      fill: #174EA6;\n",
              "    }\n",
              "\n",
              "    [theme=dark] .colab-df-convert {\n",
              "      background-color: #3B4455;\n",
              "      fill: #D2E3FC;\n",
              "    }\n",
              "\n",
              "    [theme=dark] .colab-df-convert:hover {\n",
              "      background-color: #434B5C;\n",
              "      box-shadow: 0px 1px 3px 1px rgba(0, 0, 0, 0.15);\n",
              "      filter: drop-shadow(0px 1px 2px rgba(0, 0, 0, 0.3));\n",
              "      fill: #FFFFFF;\n",
              "    }\n",
              "  </style>\n",
              "\n",
              "      <script>\n",
              "        const buttonEl =\n",
              "          document.querySelector('#df-42858758-3a85-4022-970e-14fd59e50c53 button.colab-df-convert');\n",
              "        buttonEl.style.display =\n",
              "          google.colab.kernel.accessAllowed ? 'block' : 'none';\n",
              "\n",
              "        async function convertToInteractive(key) {\n",
              "          const element = document.querySelector('#df-42858758-3a85-4022-970e-14fd59e50c53');\n",
              "          const dataTable =\n",
              "            await google.colab.kernel.invokeFunction('convertToInteractive',\n",
              "                                                     [key], {});\n",
              "          if (!dataTable) return;\n",
              "\n",
              "          const docLinkHtml = 'Like what you see? Visit the ' +\n",
              "            '<a target=\"_blank\" href=https://colab.research.google.com/notebooks/data_table.ipynb>data table notebook</a>'\n",
              "            + ' to learn more about interactive tables.';\n",
              "          element.innerHTML = '';\n",
              "          dataTable['output_type'] = 'display_data';\n",
              "          await google.colab.output.renderOutput(dataTable, element);\n",
              "          const docLink = document.createElement('div');\n",
              "          docLink.innerHTML = docLinkHtml;\n",
              "          element.appendChild(docLink);\n",
              "        }\n",
              "      </script>\n",
              "    </div>\n",
              "  </div>\n"
            ]
          },
          "metadata": {},
          "execution_count": 135
        }
      ]
    },
    {
      "cell_type": "code",
      "source": [
        "test_data"
      ],
      "metadata": {
        "colab": {
          "base_uri": "https://localhost:8080/",
          "height": 423
        },
        "id": "t0dZxLbv5LTm",
        "outputId": "25ec6a85-e29e-486c-ebc9-d6239e6741fd"
      },
      "execution_count": 137,
      "outputs": [
        {
          "output_type": "execute_result",
          "data": {
            "text/plain": [
              "            id                                           document  label\n",
              "0      6270596                                                굳 ㅋ      1\n",
              "1      9274899                               GDNTOPCLASSINTHECLUB      0\n",
              "2      8544678             뭐야 이 평점들은.... 나쁘진 않지만 10점 짜리는 더더욱 아니잖아      0\n",
              "3      6825595                   지루하지는 않은데 완전 막장임... 돈주고 보기에는....      0\n",
              "4      6723715  3D만 아니었어도 별 다섯 개 줬을텐데.. 왜 3D로 나와서 제 심기를 불편하게 하죠??      0\n",
              "...        ...                                                ...    ...\n",
              "49995  4608761          오랜만에 평점 로긴했네ㅋㅋ 킹왕짱 쌈뽕한 영화를 만났습니다 강렬하게 육쾌함      1\n",
              "49996  5308387       의지 박약들이나 하는거다 탈영은 일단 주인공 김대희 닮았고 이등병 찐따 OOOO      0\n",
              "49997  9072549                 그림도 좋고 완성도도 높았지만... 보는 내내 불안하게 만든다      0\n",
              "49998  5802125     절대 봐서는 안 될 영화.. 재미도 없고 기분만 잡치고.. 한 세트장에서 다 해먹네      0\n",
              "49999  6070594                                         마무리는 또 왜이래      0\n",
              "\n",
              "[50000 rows x 3 columns]"
            ],
            "text/html": [
              "\n",
              "\n",
              "  <div id=\"df-eed3f0f1-65b7-466d-bfae-09917d090c4b\">\n",
              "    <div class=\"colab-df-container\">\n",
              "      <div>\n",
              "<style scoped>\n",
              "    .dataframe tbody tr th:only-of-type {\n",
              "        vertical-align: middle;\n",
              "    }\n",
              "\n",
              "    .dataframe tbody tr th {\n",
              "        vertical-align: top;\n",
              "    }\n",
              "\n",
              "    .dataframe thead th {\n",
              "        text-align: right;\n",
              "    }\n",
              "</style>\n",
              "<table border=\"1\" class=\"dataframe\">\n",
              "  <thead>\n",
              "    <tr style=\"text-align: right;\">\n",
              "      <th></th>\n",
              "      <th>id</th>\n",
              "      <th>document</th>\n",
              "      <th>label</th>\n",
              "    </tr>\n",
              "  </thead>\n",
              "  <tbody>\n",
              "    <tr>\n",
              "      <th>0</th>\n",
              "      <td>6270596</td>\n",
              "      <td>굳 ㅋ</td>\n",
              "      <td>1</td>\n",
              "    </tr>\n",
              "    <tr>\n",
              "      <th>1</th>\n",
              "      <td>9274899</td>\n",
              "      <td>GDNTOPCLASSINTHECLUB</td>\n",
              "      <td>0</td>\n",
              "    </tr>\n",
              "    <tr>\n",
              "      <th>2</th>\n",
              "      <td>8544678</td>\n",
              "      <td>뭐야 이 평점들은.... 나쁘진 않지만 10점 짜리는 더더욱 아니잖아</td>\n",
              "      <td>0</td>\n",
              "    </tr>\n",
              "    <tr>\n",
              "      <th>3</th>\n",
              "      <td>6825595</td>\n",
              "      <td>지루하지는 않은데 완전 막장임... 돈주고 보기에는....</td>\n",
              "      <td>0</td>\n",
              "    </tr>\n",
              "    <tr>\n",
              "      <th>4</th>\n",
              "      <td>6723715</td>\n",
              "      <td>3D만 아니었어도 별 다섯 개 줬을텐데.. 왜 3D로 나와서 제 심기를 불편하게 하죠??</td>\n",
              "      <td>0</td>\n",
              "    </tr>\n",
              "    <tr>\n",
              "      <th>...</th>\n",
              "      <td>...</td>\n",
              "      <td>...</td>\n",
              "      <td>...</td>\n",
              "    </tr>\n",
              "    <tr>\n",
              "      <th>49995</th>\n",
              "      <td>4608761</td>\n",
              "      <td>오랜만에 평점 로긴했네ㅋㅋ 킹왕짱 쌈뽕한 영화를 만났습니다 강렬하게 육쾌함</td>\n",
              "      <td>1</td>\n",
              "    </tr>\n",
              "    <tr>\n",
              "      <th>49996</th>\n",
              "      <td>5308387</td>\n",
              "      <td>의지 박약들이나 하는거다 탈영은 일단 주인공 김대희 닮았고 이등병 찐따 OOOO</td>\n",
              "      <td>0</td>\n",
              "    </tr>\n",
              "    <tr>\n",
              "      <th>49997</th>\n",
              "      <td>9072549</td>\n",
              "      <td>그림도 좋고 완성도도 높았지만... 보는 내내 불안하게 만든다</td>\n",
              "      <td>0</td>\n",
              "    </tr>\n",
              "    <tr>\n",
              "      <th>49998</th>\n",
              "      <td>5802125</td>\n",
              "      <td>절대 봐서는 안 될 영화.. 재미도 없고 기분만 잡치고.. 한 세트장에서 다 해먹네</td>\n",
              "      <td>0</td>\n",
              "    </tr>\n",
              "    <tr>\n",
              "      <th>49999</th>\n",
              "      <td>6070594</td>\n",
              "      <td>마무리는 또 왜이래</td>\n",
              "      <td>0</td>\n",
              "    </tr>\n",
              "  </tbody>\n",
              "</table>\n",
              "<p>50000 rows × 3 columns</p>\n",
              "</div>\n",
              "      <button class=\"colab-df-convert\" onclick=\"convertToInteractive('df-eed3f0f1-65b7-466d-bfae-09917d090c4b')\"\n",
              "              title=\"Convert this dataframe to an interactive table.\"\n",
              "              style=\"display:none;\">\n",
              "\n",
              "  <svg xmlns=\"http://www.w3.org/2000/svg\" height=\"24px\"viewBox=\"0 0 24 24\"\n",
              "       width=\"24px\">\n",
              "    <path d=\"M0 0h24v24H0V0z\" fill=\"none\"/>\n",
              "    <path d=\"M18.56 5.44l.94 2.06.94-2.06 2.06-.94-2.06-.94-.94-2.06-.94 2.06-2.06.94zm-11 1L8.5 8.5l.94-2.06 2.06-.94-2.06-.94L8.5 2.5l-.94 2.06-2.06.94zm10 10l.94 2.06.94-2.06 2.06-.94-2.06-.94-.94-2.06-.94 2.06-2.06.94z\"/><path d=\"M17.41 7.96l-1.37-1.37c-.4-.4-.92-.59-1.43-.59-.52 0-1.04.2-1.43.59L10.3 9.45l-7.72 7.72c-.78.78-.78 2.05 0 2.83L4 21.41c.39.39.9.59 1.41.59.51 0 1.02-.2 1.41-.59l7.78-7.78 2.81-2.81c.8-.78.8-2.07 0-2.86zM5.41 20L4 18.59l7.72-7.72 1.47 1.35L5.41 20z\"/>\n",
              "  </svg>\n",
              "      </button>\n",
              "\n",
              "\n",
              "\n",
              "    <div id=\"df-049d465d-11fa-49fd-98ad-5af654cc6cb1\">\n",
              "      <button class=\"colab-df-quickchart\" onclick=\"quickchart('df-049d465d-11fa-49fd-98ad-5af654cc6cb1')\"\n",
              "              title=\"Suggest charts.\"\n",
              "              style=\"display:none;\">\n",
              "\n",
              "<svg xmlns=\"http://www.w3.org/2000/svg\" height=\"24px\"viewBox=\"0 0 24 24\"\n",
              "     width=\"24px\">\n",
              "    <g>\n",
              "        <path d=\"M19 3H5c-1.1 0-2 .9-2 2v14c0 1.1.9 2 2 2h14c1.1 0 2-.9 2-2V5c0-1.1-.9-2-2-2zM9 17H7v-7h2v7zm4 0h-2V7h2v10zm4 0h-2v-4h2v4z\"/>\n",
              "    </g>\n",
              "</svg>\n",
              "      </button>\n",
              "    </div>\n",
              "\n",
              "<style>\n",
              "  .colab-df-quickchart {\n",
              "    background-color: #E8F0FE;\n",
              "    border: none;\n",
              "    border-radius: 50%;\n",
              "    cursor: pointer;\n",
              "    display: none;\n",
              "    fill: #1967D2;\n",
              "    height: 32px;\n",
              "    padding: 0 0 0 0;\n",
              "    width: 32px;\n",
              "  }\n",
              "\n",
              "  .colab-df-quickchart:hover {\n",
              "    background-color: #E2EBFA;\n",
              "    box-shadow: 0px 1px 2px rgba(60, 64, 67, 0.3), 0px 1px 3px 1px rgba(60, 64, 67, 0.15);\n",
              "    fill: #174EA6;\n",
              "  }\n",
              "\n",
              "  [theme=dark] .colab-df-quickchart {\n",
              "    background-color: #3B4455;\n",
              "    fill: #D2E3FC;\n",
              "  }\n",
              "\n",
              "  [theme=dark] .colab-df-quickchart:hover {\n",
              "    background-color: #434B5C;\n",
              "    box-shadow: 0px 1px 3px 1px rgba(0, 0, 0, 0.15);\n",
              "    filter: drop-shadow(0px 1px 2px rgba(0, 0, 0, 0.3));\n",
              "    fill: #FFFFFF;\n",
              "  }\n",
              "</style>\n",
              "\n",
              "    <script>\n",
              "      async function quickchart(key) {\n",
              "        const containerElement = document.querySelector('#' + key);\n",
              "        const charts = await google.colab.kernel.invokeFunction(\n",
              "            'suggestCharts', [key], {});\n",
              "      }\n",
              "    </script>\n",
              "\n",
              "      <script>\n",
              "\n",
              "function displayQuickchartButton(domScope) {\n",
              "  let quickchartButtonEl =\n",
              "    domScope.querySelector('#df-049d465d-11fa-49fd-98ad-5af654cc6cb1 button.colab-df-quickchart');\n",
              "  quickchartButtonEl.style.display =\n",
              "    google.colab.kernel.accessAllowed ? 'block' : 'none';\n",
              "}\n",
              "\n",
              "        displayQuickchartButton(document);\n",
              "      </script>\n",
              "      <style>\n",
              "    .colab-df-container {\n",
              "      display:flex;\n",
              "      flex-wrap:wrap;\n",
              "      gap: 12px;\n",
              "    }\n",
              "\n",
              "    .colab-df-convert {\n",
              "      background-color: #E8F0FE;\n",
              "      border: none;\n",
              "      border-radius: 50%;\n",
              "      cursor: pointer;\n",
              "      display: none;\n",
              "      fill: #1967D2;\n",
              "      height: 32px;\n",
              "      padding: 0 0 0 0;\n",
              "      width: 32px;\n",
              "    }\n",
              "\n",
              "    .colab-df-convert:hover {\n",
              "      background-color: #E2EBFA;\n",
              "      box-shadow: 0px 1px 2px rgba(60, 64, 67, 0.3), 0px 1px 3px 1px rgba(60, 64, 67, 0.15);\n",
              "      fill: #174EA6;\n",
              "    }\n",
              "\n",
              "    [theme=dark] .colab-df-convert {\n",
              "      background-color: #3B4455;\n",
              "      fill: #D2E3FC;\n",
              "    }\n",
              "\n",
              "    [theme=dark] .colab-df-convert:hover {\n",
              "      background-color: #434B5C;\n",
              "      box-shadow: 0px 1px 3px 1px rgba(0, 0, 0, 0.15);\n",
              "      filter: drop-shadow(0px 1px 2px rgba(0, 0, 0, 0.3));\n",
              "      fill: #FFFFFF;\n",
              "    }\n",
              "  </style>\n",
              "\n",
              "      <script>\n",
              "        const buttonEl =\n",
              "          document.querySelector('#df-eed3f0f1-65b7-466d-bfae-09917d090c4b button.colab-df-convert');\n",
              "        buttonEl.style.display =\n",
              "          google.colab.kernel.accessAllowed ? 'block' : 'none';\n",
              "\n",
              "        async function convertToInteractive(key) {\n",
              "          const element = document.querySelector('#df-eed3f0f1-65b7-466d-bfae-09917d090c4b');\n",
              "          const dataTable =\n",
              "            await google.colab.kernel.invokeFunction('convertToInteractive',\n",
              "                                                     [key], {});\n",
              "          if (!dataTable) return;\n",
              "\n",
              "          const docLinkHtml = 'Like what you see? Visit the ' +\n",
              "            '<a target=\"_blank\" href=https://colab.research.google.com/notebooks/data_table.ipynb>data table notebook</a>'\n",
              "            + ' to learn more about interactive tables.';\n",
              "          element.innerHTML = '';\n",
              "          dataTable['output_type'] = 'display_data';\n",
              "          await google.colab.output.renderOutput(dataTable, element);\n",
              "          const docLink = document.createElement('div');\n",
              "          docLink.innerHTML = docLinkHtml;\n",
              "          element.appendChild(docLink);\n",
              "        }\n",
              "      </script>\n",
              "    </div>\n",
              "  </div>\n"
            ]
          },
          "metadata": {},
          "execution_count": 137
        }
      ]
    },
    {
      "cell_type": "markdown",
      "source": [
        "### 데이터 전처리"
      ],
      "metadata": {
        "id": "-5L6Ofqo5NzN"
      }
    },
    {
      "cell_type": "code",
      "source": [
        "train_data = train_data.dropna(how = 'any') # Null 값이 존재하는 행 제거\n",
        "train_data = train_data.reset_index(drop=True)\n",
        "print(train_data.isnull().values.any()) # Null 값이 존재하는지 확인"
      ],
      "metadata": {
        "colab": {
          "base_uri": "https://localhost:8080/"
        },
        "id": "esfjSk195MQ9",
        "outputId": "745d052d-f15a-4680-d65e-2fabb48a1219"
      },
      "execution_count": 138,
      "outputs": [
        {
          "output_type": "stream",
          "name": "stdout",
          "text": [
            "False\n"
          ]
        }
      ]
    },
    {
      "cell_type": "code",
      "source": [
        "test_data = test_data.dropna(how = 'any') # Null 값이 존재하는 행 제거\n",
        "test_data = test_data.reset_index(drop=True)\n",
        "print(test_data.isnull().values.any()) # Null 값이 존재하는지 확인"
      ],
      "metadata": {
        "colab": {
          "base_uri": "https://localhost:8080/"
        },
        "id": "OoNvmlCR5QES",
        "outputId": "d4ad1872-4554-45e3-803d-f36f4c3de68f"
      },
      "execution_count": 139,
      "outputs": [
        {
          "output_type": "stream",
          "name": "stdout",
          "text": [
            "False\n"
          ]
        }
      ]
    },
    {
      "cell_type": "code",
      "source": [
        "len(train_data)"
      ],
      "metadata": {
        "colab": {
          "base_uri": "https://localhost:8080/"
        },
        "id": "HLU2K0Y75RmI",
        "outputId": "f66a370e-57a9-48f3-af15-48aea5171694"
      },
      "execution_count": 140,
      "outputs": [
        {
          "output_type": "execute_result",
          "data": {
            "text/plain": [
              "149995"
            ]
          },
          "metadata": {},
          "execution_count": 140
        }
      ]
    },
    {
      "cell_type": "code",
      "source": [
        "len(test_data)"
      ],
      "metadata": {
        "colab": {
          "base_uri": "https://localhost:8080/"
        },
        "id": "n_msXVgv5Svl",
        "outputId": "848c8669-f041-48d7-c771-e4911380d4f6"
      },
      "execution_count": 141,
      "outputs": [
        {
          "output_type": "execute_result",
          "data": {
            "text/plain": [
              "49997"
            ]
          },
          "metadata": {},
          "execution_count": 141
        }
      ]
    },
    {
      "cell_type": "code",
      "source": [
        "train_data = test_data.head(10000)"
      ],
      "metadata": {
        "id": "AnI8cwjU84eL"
      },
      "execution_count": 142,
      "outputs": []
    },
    {
      "cell_type": "code",
      "source": [
        "test_data = test_data.head(3000)"
      ],
      "metadata": {
        "id": "qLAdBvQ686Bf"
      },
      "execution_count": 143,
      "outputs": []
    },
    {
      "cell_type": "markdown",
      "source": [
        "### Okt 형태소 분석기로 의미없는 품사 제거"
      ],
      "metadata": {
        "id": "Hg2edr4D8C_U"
      }
    },
    {
      "cell_type": "code",
      "source": [
        "# pip install konlpy"
      ],
      "metadata": {
        "colab": {
          "base_uri": "https://localhost:8080/"
        },
        "id": "6dOsTOag5kxG",
        "outputId": "29d230cf-b9ad-493a-ea32-88874cbaa1cb"
      },
      "execution_count": 144,
      "outputs": [
        {
          "output_type": "stream",
          "name": "stdout",
          "text": [
            "Requirement already satisfied: konlpy in /usr/local/lib/python3.10/dist-packages (0.6.0)\n",
            "Requirement already satisfied: JPype1>=0.7.0 in /usr/local/lib/python3.10/dist-packages (from konlpy) (1.4.1)\n",
            "Requirement already satisfied: lxml>=4.1.0 in /usr/local/lib/python3.10/dist-packages (from konlpy) (4.9.3)\n",
            "Requirement already satisfied: numpy>=1.6 in /usr/local/lib/python3.10/dist-packages (from konlpy) (1.25.2)\n",
            "Requirement already satisfied: packaging in /usr/local/lib/python3.10/dist-packages (from JPype1>=0.7.0->konlpy) (23.1)\n"
          ]
        }
      ]
    },
    {
      "cell_type": "code",
      "source": [
        "from konlpy.tag import Okt"
      ],
      "metadata": {
        "id": "aJLmSLxg5TwQ"
      },
      "execution_count": 147,
      "outputs": []
    },
    {
      "cell_type": "code",
      "source": [
        "okt = Okt()"
      ],
      "metadata": {
        "id": "eMqWqpzD6MsW"
      },
      "execution_count": 148,
      "outputs": []
    },
    {
      "cell_type": "code",
      "source": [
        "#텍스트 정제 (불용어 제거)\n",
        "stopwords = ['이', '있', '하', '것', '들', '그', '되', '수', '이', '보', '않', '없', '나', '사람', '주', '아니', '등', '같', '우리', '때', '년', '가', '한', '지', '대하', '오', '말', '일', '그렇', '위하']"
      ],
      "metadata": {
        "id": "eSycpcT76gPA"
      },
      "execution_count": 149,
      "outputs": []
    },
    {
      "cell_type": "code",
      "source": [
        "X_train = []\n",
        "for document in tqdm(train_data['document']):\n",
        "    # 형태소 분석 및 어간 추출\n",
        "    clean_words = []\n",
        "    for word in okt.pos(document, stem=True):\n",
        "        if word[1] in ['Noun', 'Verb', 'Adjective']: # 명사, 동사, 형용사만 선택\n",
        "            clean_words.append(word[0])\n",
        "\n",
        "    # 불용어 제거\n",
        "    stopwords_removed_sentence = [word for word in clean_words if not word in stopwords]\n",
        "    X_train.append(stopwords_removed_sentence)"
      ],
      "metadata": {
        "colab": {
          "base_uri": "https://localhost:8080/"
        },
        "id": "rZT9_mAM_GBk",
        "outputId": "95fe3dd3-64b8-4d3d-b569-e162d3ea306d"
      },
      "execution_count": 180,
      "outputs": [
        {
          "output_type": "stream",
          "name": "stderr",
          "text": [
            "100%|██████████| 10000/10000 [00:54<00:00, 183.49it/s]\n"
          ]
        }
      ]
    },
    {
      "cell_type": "code",
      "source": [
        "# X_train = []\n",
        "# for sentence in tqdm(train_data['document']):\n",
        "#     tokenized_sentence = okt.morphs(sentence, stem=True) # 토큰화\n",
        "#     stopwords_removed_sentence = [word for word in tokenized_sentence if not word in stopwords] # 불용어 제거\n",
        "#     X_train.append(stopwords_removed_sentence)"
      ],
      "metadata": {
        "id": "Vd7trgir6EXt"
      },
      "execution_count": 181,
      "outputs": []
    },
    {
      "cell_type": "code",
      "source": [
        "print(X_train[:3])"
      ],
      "metadata": {
        "colab": {
          "base_uri": "https://localhost:8080/"
        },
        "id": "mr06K5FP7czS",
        "outputId": "264ad15b-8505-479b-bb08-207268752d30"
      },
      "execution_count": 182,
      "outputs": [
        {
          "output_type": "stream",
          "name": "stdout",
          "text": [
            "[['굳다'], [], ['뭐', '평점', '나쁘다', '않다', '점', '짜다', '리', '더', '더욱', '아니다']]\n"
          ]
        }
      ]
    },
    {
      "cell_type": "code",
      "source": [
        "X_test = []\n",
        "for document in tqdm(test_data['document']):\n",
        "    # 형태소 분석 및 어간 추출\n",
        "    clean_words = []\n",
        "    for word in okt.pos(document, stem=True):\n",
        "        if word[1] in ['Noun', 'Verb', 'Adjective']: # 명사, 동사, 형용사만 선택\n",
        "            clean_words.append(word[0])\n",
        "\n",
        "    # 불용어 제거\n",
        "    stopwords_removed_sentence = [word for word in clean_words if not word in stopwords]\n",
        "    X_test.append(stopwords_removed_sentence)"
      ],
      "metadata": {
        "colab": {
          "base_uri": "https://localhost:8080/"
        },
        "id": "TirJ-jpI79lE",
        "outputId": "d93d963c-d683-4e02-ebb1-d03b0f08ac7e"
      },
      "execution_count": 158,
      "outputs": [
        {
          "output_type": "stream",
          "name": "stderr",
          "text": [
            "100%|██████████| 3000/3000 [00:16<00:00, 183.95it/s]\n"
          ]
        }
      ]
    },
    {
      "cell_type": "code",
      "source": [
        "print(X_test[:3])"
      ],
      "metadata": {
        "colab": {
          "base_uri": "https://localhost:8080/"
        },
        "id": "TwVPVWiy7_CF",
        "outputId": "b4c396ad-5614-4b4a-c00f-e68a9d0ca6db"
      },
      "execution_count": 159,
      "outputs": [
        {
          "output_type": "stream",
          "name": "stdout",
          "text": [
            "[['굳다'], [], ['뭐', '평점', '나쁘다', '않다', '점', '짜다', '리', '더', '더욱', '아니다']]\n"
          ]
        }
      ]
    },
    {
      "cell_type": "code",
      "source": [
        "tokenizer = BertTokenizer.from_pretrained('bert-base-multilingual-cased')"
      ],
      "metadata": {
        "id": "JVflrqi08O_B"
      },
      "execution_count": 160,
      "outputs": []
    },
    {
      "cell_type": "code",
      "source": [
        "# 분류기의 적합한 형태로 바꿔야 한다.\n",
        "tokenizer_klue = BertTokenizer.from_pretrained('klue/bert-base')"
      ],
      "metadata": {
        "id": "1GSv_QD98Raw"
      },
      "execution_count": 161,
      "outputs": []
    },
    {
      "cell_type": "code",
      "source": [
        "print(tokenizer.encode(\"보는내내 그대로 들어맞는 예측 카리스마 없는 악역\"))\n",
        "print(tokenizer.decode(tokenizer.encode(\"보는내내 그대로 들어맞는 예측 카리스마 없는 악역\")))"
      ],
      "metadata": {
        "colab": {
          "base_uri": "https://localhost:8080/"
        },
        "id": "WRkVPvkQ8R_f",
        "outputId": "a715b07d-b3b1-4c92-aa91-4966c38a6f0d"
      },
      "execution_count": 162,
      "outputs": [
        {
          "output_type": "stream",
          "name": "stdout",
          "text": [
            "[101, 9356, 11018, 31605, 31605, 110589, 71568, 118913, 11018, 9576, 119281, 9786, 79940, 23811, 40364, 9520, 23160, 102]\n",
            "[CLS] 보는내내 그대로 들어맞는 예측 카리스마 없는 악역 [SEP]\n"
          ]
        }
      ]
    },
    {
      "cell_type": "code",
      "source": [
        "for elem in tokenizer.encode(\"보는내내 그대로 들어맞는 예측 카리스마 없는 악역\"):\n",
        "    print(tokenizer.decode(elem))"
      ],
      "metadata": {
        "colab": {
          "base_uri": "https://localhost:8080/"
        },
        "id": "S82zJP1t8SUk",
        "outputId": "76a3cb01-d455-4c9f-c7f4-12de08851e03"
      },
      "execution_count": 163,
      "outputs": [
        {
          "output_type": "stream",
          "name": "stdout",
          "text": [
            "[ C L S ]\n",
            "보\n",
            "# # 는\n",
            "# # 내\n",
            "# # 내\n",
            "그 대 로\n",
            "들 어\n",
            "# # 맞\n",
            "# # 는\n",
            "예\n",
            "# # 측\n",
            "카\n",
            "# # 리 스\n",
            "# # 마\n",
            "없 는\n",
            "악\n",
            "# # 역\n",
            "[ S E P ]\n"
          ]
        }
      ]
    },
    {
      "cell_type": "code",
      "source": [
        "max_seq_len=128"
      ],
      "metadata": {
        "id": "r6FqO1AO8Y_l"
      },
      "execution_count": 164,
      "outputs": []
    },
    {
      "cell_type": "code",
      "source": [
        "encoded_result = tokenizer.encode(\"전율을 일으키는 영화. 다시 보고싶은 영화\",\n",
        "                                  max_length=max_seq_len, pad_to_max_length=True)"
      ],
      "metadata": {
        "colab": {
          "base_uri": "https://localhost:8080/"
        },
        "id": "wNwjHYcs8caB",
        "outputId": "8a7defcc-c7b4-464b-d614-9a22f182ec9e"
      },
      "execution_count": 165,
      "outputs": [
        {
          "output_type": "stream",
          "name": "stderr",
          "text": [
            "Truncation was not explicitly activated but `max_length` is provided a specific value, please use `truncation=True` to explicitly truncate examples to max length. Defaulting to 'longest_first' truncation strategy. If you encode pairs of sequences (GLUE-style) with the tokenizer you can select this strategy more precisely by providing a specific strategy to `truncation`.\n",
            "/usr/local/lib/python3.10/dist-packages/transformers/tokenization_utils_base.py:2393: FutureWarning: The `pad_to_max_length` argument is deprecated and will be removed in a future version, use `padding=True` or `padding='longest'` to pad to the longest sequence in the batch, or use `padding='max_length'` to pad to a max length. In this case, you can give a specific length with `max_length` (e.g. `max_length=45`) or leave max_length to None to pad to the maximal input size of the model (e.g. 512 for Bert).\n",
            "  warnings.warn(\n"
          ]
        }
      ]
    },
    {
      "cell_type": "code",
      "source": [
        "encoded_result\n",
        "len(encoded_result)"
      ],
      "metadata": {
        "colab": {
          "base_uri": "https://localhost:8080/"
        },
        "id": "WB4_HoT58cOM",
        "outputId": "0cc85e31-501e-4573-a321-1c974a742abb"
      },
      "execution_count": 166,
      "outputs": [
        {
          "output_type": "execute_result",
          "data": {
            "text/plain": [
              "128"
            ]
          },
          "metadata": {},
          "execution_count": 166
        }
      ]
    },
    {
      "cell_type": "code",
      "source": [
        "# segment embedding\n",
        "\n",
        "encoded_result = tokenizer.encode(\"전율을 일으키는 영화. 다시 보고싶은 영화\", max_length=max_seq_len, pad_to_max_length=True)"
      ],
      "metadata": {
        "id": "WSyvoKRV8e19"
      },
      "execution_count": 167,
      "outputs": []
    },
    {
      "cell_type": "code",
      "source": [
        "print([0]*max_seq_len)"
      ],
      "metadata": {
        "colab": {
          "base_uri": "https://localhost:8080/"
        },
        "id": "7Mov1isW8euQ",
        "outputId": "b8ca3756-07a6-442f-f655-dd4532294c05"
      },
      "execution_count": 168,
      "outputs": [
        {
          "output_type": "stream",
          "name": "stdout",
          "text": [
            "[0, 0, 0, 0, 0, 0, 0, 0, 0, 0, 0, 0, 0, 0, 0, 0, 0, 0, 0, 0, 0, 0, 0, 0, 0, 0, 0, 0, 0, 0, 0, 0, 0, 0, 0, 0, 0, 0, 0, 0, 0, 0, 0, 0, 0, 0, 0, 0, 0, 0, 0, 0, 0, 0, 0, 0, 0, 0, 0, 0, 0, 0, 0, 0, 0, 0, 0, 0, 0, 0, 0, 0, 0, 0, 0, 0, 0, 0, 0, 0, 0, 0, 0, 0, 0, 0, 0, 0, 0, 0, 0, 0, 0, 0, 0, 0, 0, 0, 0, 0, 0, 0, 0, 0, 0, 0, 0, 0, 0, 0, 0, 0, 0, 0, 0, 0, 0, 0, 0, 0, 0, 0, 0, 0, 0, 0, 0, 0]\n"
          ]
        }
      ]
    },
    {
      "cell_type": "code",
      "source": [
        "# attention mask\n",
        "# 단어 토큰이 있는 위치는 1로 padding 위치는 0으로~!\n",
        "valid_num=len(tokenizer.encode(\"전율을 일으키는 영화. 다시 보고싶은 영화\"))"
      ],
      "metadata": {
        "id": "D9MdfLwB8ell"
      },
      "execution_count": 169,
      "outputs": []
    },
    {
      "cell_type": "code",
      "source": [
        "print(valid_num*[1]+(max_seq_len-valid_num)*[0])"
      ],
      "metadata": {
        "colab": {
          "base_uri": "https://localhost:8080/"
        },
        "id": "CVQsLWaABG_A",
        "outputId": "a66c2f70-c61f-4ed3-d297-88c65476c974"
      },
      "execution_count": 170,
      "outputs": [
        {
          "output_type": "stream",
          "name": "stdout",
          "text": [
            "[1, 1, 1, 1, 1, 1, 1, 1, 1, 1, 1, 1, 1, 1, 1, 0, 0, 0, 0, 0, 0, 0, 0, 0, 0, 0, 0, 0, 0, 0, 0, 0, 0, 0, 0, 0, 0, 0, 0, 0, 0, 0, 0, 0, 0, 0, 0, 0, 0, 0, 0, 0, 0, 0, 0, 0, 0, 0, 0, 0, 0, 0, 0, 0, 0, 0, 0, 0, 0, 0, 0, 0, 0, 0, 0, 0, 0, 0, 0, 0, 0, 0, 0, 0, 0, 0, 0, 0, 0, 0, 0, 0, 0, 0, 0, 0, 0, 0, 0, 0, 0, 0, 0, 0, 0, 0, 0, 0, 0, 0, 0, 0, 0, 0, 0, 0, 0, 0, 0, 0, 0, 0, 0, 0, 0, 0, 0, 0]\n"
          ]
        }
      ]
    },
    {
      "cell_type": "code",
      "source": [
        "# 함수\n",
        "def convert_examples_to_features(examples, labels, max_seq_len, tokenizer):\n",
        "    input_ids, attention_masks, token_type_ids, data_labels = [], [], [], []\n",
        "    for example, label in tqdm(zip(examples, labels), total=len(examples)):\n",
        "      # input_id는 워드 임베딩을 위한 문장의 정수 인코딩\n",
        "      input_id = tokenizer.encode(example, max_length=max_seq_len, pad_to_max_length=True)\n",
        "      # input_id=[2 1000 2000 3000 ... 0 0 0 0]\n",
        "\n",
        "      # attention_mask는 실제 단어가 위치하면 1, 패딩의 위치에는 0인 시퀀스.\n",
        "      padding_count = input_id.count(tokenizer.pad_token_id) # input_id에서 0의 갯수\n",
        "      attention_mask = [1] * (max_seq_len - padding_count) + [0] * padding_count\n",
        "      # attention_mask[1 1 1  ... 1 0 0 0 ,,, ]\n",
        "\n",
        "      # token_type_id는 세그먼트 임베딩을 위한 것으로 이번 예제는 문장이 1개이므로 전부 0으로 통일.\n",
        "      token_type_id = [0] * max_seq_len\n",
        "      # error message 출력\n",
        "      assert len(input_id) == max_seq_len, \"Error with input length {} vs {}\".format(len(input_id), max_seq_len)\n",
        "      assert len(attention_mask) == max_seq_len, \"Error with attention mask length {} vs {}\".format(len(attention_mask), max_seq_len)\n",
        "      assert len(token_type_id) == max_seq_len, \"Error with token type length {} vs {}\".format(len(token_type_id), max_seq_len)\n",
        "\n",
        "      input_ids.append(input_id)\n",
        "      attention_masks.append(attention_mask)\n",
        "      token_type_ids.append(token_type_id)\n",
        "      data_labels.append(label)\n",
        "\n",
        "    input_ids = np.array(input_ids, dtype=int)\n",
        "    attention_masks = np.array(attention_masks, dtype=int)\n",
        "    token_type_ids = np.array(token_type_ids, dtype=int)\n",
        "\n",
        "    data_labels = np.asarray(data_labels, dtype=np.int32)\n",
        "\n",
        "    return (input_ids, attention_masks, token_type_ids), data_labels # 리턴값 2개 인수"
      ],
      "metadata": {
        "id": "4KDgk1HBBIwz"
      },
      "execution_count": 207,
      "outputs": []
    },
    {
      "cell_type": "code",
      "source": [
        "type(train_data['document'])"
      ],
      "metadata": {
        "colab": {
          "base_uri": "https://localhost:8080/"
        },
        "id": "AgXjwUrdCUAH",
        "outputId": "46e3578c-13b7-4337-b0be-edef866a66a3"
      },
      "execution_count": 184,
      "outputs": [
        {
          "output_type": "execute_result",
          "data": {
            "text/plain": [
              "pandas.core.series.Series"
            ]
          },
          "metadata": {},
          "execution_count": 184
        }
      ]
    },
    {
      "cell_type": "code",
      "source": [
        "type(X_train)"
      ],
      "metadata": {
        "colab": {
          "base_uri": "https://localhost:8080/"
        },
        "id": "Cyf_4jEqCeSG",
        "outputId": "9281b8a2-4aa0-4919-bc79-19c495942a49"
      },
      "execution_count": 185,
      "outputs": [
        {
          "output_type": "execute_result",
          "data": {
            "text/plain": [
              "list"
            ]
          },
          "metadata": {},
          "execution_count": 185
        }
      ]
    },
    {
      "cell_type": "code",
      "source": [
        "# X_train의 분리된 값을 한 문장으로 합치기\n",
        "X_train_se = [\" \".join(sentence) for sentence in X_train]\n",
        "X_test_se = [\" \".join(sentence) for sentence in X_test]"
      ],
      "metadata": {
        "id": "nnDw_L0hDbLC"
      },
      "execution_count": 196,
      "outputs": []
    },
    {
      "cell_type": "code",
      "source": [
        "joined_sentences"
      ],
      "metadata": {
        "colab": {
          "base_uri": "https://localhost:8080/"
        },
        "id": "x6ByV4NNGn4M",
        "outputId": "16f8033c-d8de-4d5a-a6ec-010681a71e08"
      },
      "execution_count": 194,
      "outputs": [
        {
          "output_type": "execute_result",
          "data": {
            "text/plain": [
              "['굳다',\n",
              " '',\n",
              " '뭐 평점 나쁘다 않다 점 짜다 리 더 더욱 아니다',\n",
              " '지루하다 않다 완전 막장 임 돈 주다 보기',\n",
              " '만 아니다 별 다섯 개 주다 왜 로 나오다 제 심기 불편하다 하다',\n",
              " '음악 주가 되다 최고 음악 영화',\n",
              " '진정하다 쓰레기',\n",
              " '마치 미국 애니 튀어나오다 창의력 없다 로봇 디자인 고개 젖다 하다',\n",
              " '갈수록 개판 되다 중국영화 유치하다 내용 없다 폼 잡다 끝나다 안되다 무기 유치하다 남무 그리다 동사서독 같다 영화 이건 류 류작',\n",
              " '이별 아픔 뒤 찾아오다 새롭다 인연 기쁨 모든 그렇다 않다',\n",
              " '괜찮다 포켓몬스터 잼밌',\n",
              " '한국 독립영화 한계 아버지 되다 비교 되다',\n",
              " '청춘 아름답다 아름답다 움 이성 흔들다 놓다 찰나 아름답다 움 자다 포착 섬세하다 아름답다 수채화 같다 퀴어 영화',\n",
              " '눈 보이다 반전 이다 영화 흡인 사라지다 않다',\n",
              " '스토리 연출 연기 비주 얼 영화 기본 조차 안되다 영화 무슨 평 해 이렇다 영화 찍다 김문옥 감독 내 영화 경력 몇 조무래기 내 영화 평론 하다 같다 마인드 빠지다',\n",
              " '소위 가라 평점 뭐',\n",
              " '최고',\n",
              " '발연기 도저히 보다 진짜 연기 하다 상상 하다',\n",
              " '나이스',\n",
              " '별 재미 없다 우려 먹다 챔프 방송 몇번 하다',\n",
              " '금요일 나이트메어 시리즈 가장 많다 시리즈 양산 해내다 헬레 저 시리즈 편 작가 상상력 돋보이다 작품 갈고리 사지 찢다 고어씬 지금 보더 상당하다 잔인하다 충격',\n",
              " '나름 교훈 돋다 평점 받다 없다 질 섹스 코미디',\n",
              " '꽤 재밌다 보다 영화 이다',\n",
              " '민주화 시대 억눌리다 영혼 관음 욕구 분출 인상',\n",
              " '일본 천황 미국 받다 면죄부 긴박하다 과정 루즈 지저분하다 늘어놓다',\n",
              " '나오다 어미 알 건드리다 긁다 부스 름 만들다 분 저 아래 보이다 영화 제대로 안 보다 알 끄다 새끼 나오다 하다 그냥 가면 놈 당하다 것임 하다 놈 두 놈 막 나오다 게 뻔하다 작살 낼 없다',\n",
              " '번은 보다 어쩜 만들다',\n",
              " '실화 더욱 아름답다 찡하다 울다 벌써',\n",
              " '이건 뭐 노답 어린이 영화 좀 보고 본받다',\n",
              " '지금 보다 영화 마음 가장 따뜻하다 영화',\n",
              " '재밌다',\n",
              " '안보 후회',\n",
              " '평점 점도 주기 싫어지다 영화 배우 감독 화판 보다 하다 평점 알바생 티 나다',\n",
              " '정말 진짜 표현 하다 없다 영화',\n",
              " '성하다 액션 시나리오 왜그러지 막판 대동단결',\n",
              " '은 나오다 같다',\n",
              " '재미 없다 시간 아깝다',\n",
              " '북괴 주적 뿐',\n",
              " '난생처음 로그인 평점 남다 개 빡치다 알바 속지 말다 이렇다 같다 시간 낭비 놓다 진짜 평점 마이너스 오만',\n",
              " '셰익스피어 셰익스피어 이영화 이영화',\n",
              " '한국영 특선 하다 보다 개막 작 선정 되다 왤다 궁금 하다 보다 이율 모르다',\n",
              " '뭐',\n",
              " '영화',\n",
              " '애니 일본 가다',\n",
              " '롭 코헨 몰락 점',\n",
              " '감동',\n",
              " '은빛 날개 조종사',\n",
              " '마음 보신 이해 하다 늘다 망 이다 졸작 솔직하다 선 이유 를 엽기적인그녀 기다 시간 두다 코 메다 멜로 렷습 이영화 단시간 소화 하다 욕심 코믹 하다 생뚱맞 슬프다 음악 깔리다',\n",
              " '스타일 액션영화 굿굿',\n",
              " '제임스 헷 필드 먹다 더 파워 풀다 지다',\n",
              " '돈 있다 내 덥다 만들다 따다',\n",
              " '레이토 다미앙 시원하다 액션 어디 가다',\n",
              " '내 차다 걸 드라마 그냥 이건 세계보건기구 발암 물질 올리다 하다',\n",
              " '극장 아무 기대 들어가다 감탄 하다 보고 나오다 이다',\n",
              " '아이디어 아주 좋다 재밌다',\n",
              " '난 재밌다 평점 왜케 낮다',\n",
              " '역사 얘기 영화배우 감독 들다 더 관심 간다',\n",
              " '아메리칸 크보 웃다 보다 맛 바로',\n",
              " '재밌다 내용 신선하다 의미 있다 연기 좋다 영상 좋다',\n",
              " '여름 이면 생각나다 드라마',\n",
              " '',\n",
              " '뭐 의도 좋다 보다 전달 돼다',\n",
              " '아빠 낚 본적 있다 슈래기 영화',\n",
              " '결혼 현실 징징 징 성현아 벗기다 정도 얘기 못 하다',\n",
              " '엠비씨 무비 채널 보다 또 보다 잼 나다',\n",
              " '어우 진짜 무섭다 진짜 시간 아깝다',\n",
              " '몇번 보다 볼때 재밌다',\n",
              " '재미있다 보다 후 속편 기다리다 드',\n",
              " '결말 뻔하다 알다 보다 슬프다 울다',\n",
              " '한번 본적 업 재미있다 같다',\n",
              " '성경 보다 지나치다 의인 되다 지혜롭 되다 하다 주인공 지나치다 착하다 남자 컴플렉스 걸 엉망 만들다 직장 해고 되다 부인 거부 모든 터전 잃다 불륜 생기다 아이 보다 그리다 중요하다',\n",
              " '미치다 놈 집합소 연출 빵점 스토리 빵점 구성 빵점',\n",
              " '작다 그림 보고 기대하다 수염 눈 색깔 뭐 이건 뭐 원작 비 충실',\n",
              " '볼 거 없다 보다 재미 없다 영화',\n",
              " '관객모독 관객모독 관객모독 관객모독',\n",
              " '내용 완전 좋다',\n",
              " '쇼타 넘다 좋다 돈키호테 대박 재밌다',\n",
              " '차다 대단하다 같다 천 재',\n",
              " '볼 함',\n",
              " '제시카 알바 벗다 달려들다 쌩까다 되다',\n",
              " '솔직하다 이건 급 이하 영화 이기다 함',\n",
              " '개성 있다 몬스터 귀엽다 여자아이 만나다 뿜어내다 매력 퐁당 빠지다',\n",
              " '제목 찰지구나',\n",
              " '작품 게 믿다 않다 정도 디테 이다 안소니 퀸 명연기 또한',\n",
              " '아찔하다 사랑 줄다리기',\n",
              " '재미있다 또 보다 징',\n",
              " '중간 화면 좀 끊기다 빼다 넘다 좋다',\n",
              " '영화 하다 기다 단어 필요없다 재수없다 졸작 거 충분하다',\n",
              " '최고 최고 바다 차원 고양이 로봇 도라에몽 하다 진구 친구 미지 탐험 이야기 우주 가다 좋다',\n",
              " '완전 잼 없다',\n",
              " '로코 굉장하다 즐기다 보다 영화 좀 별로 이다 뭔가 사랑 개그 억지스럽다 느낌',\n",
              " '후속작 계획 없다',\n",
              " '엔딩 음성 넣다 오버 극치',\n",
              " '단 마디 감동',\n",
              " '뭘 만들다 건가',\n",
              " '전기톱 들다 엔진 톱 겠다',\n",
              " '완전 재밌다 늘다 왜 평점',\n",
              " '제임스 완 내 목표 임',\n",
              " '점 아깝다 개막 영화 원조 하다 아내 사별 지다 얼마나 지나다 따다 여자 만나다 다니다 맥 라이언 꽂히다 톰 행크스 약혼자 두다 톰 행크스 썸 다가 약혼자 버리다 톰 행크스 달려가다 맥 라이언',\n",
              " '가끔 문득 생각나다 다시 보다 영화 색감 정말 예술 강렬하다 화려하다 츠지 안나 아름답다 리즈시절 볼 있다',\n",
              " '걸작 몇 안되다 졸작 넘치다 나다',\n",
              " '지겹다',\n",
              " '정말 좋다 영화 자체 의문 남지',\n",
              " '펑퍼짐하다 건빵 바지 카 를 입다 오도바이 탈때 입다 잠바 같다 입다 주인 공겸 감독 앞 차기 옆 차기 차기 앞 돌려차기 기술 구사해 악당 소탕 하다 영화 주먹질 앞 차기 옆 차기 비중 크다',\n",
              " '솔직하다 생각 재밌다 놀라다 거 개봉 내다 린줄 모르다 이제 서다 보다 정말 두 커플 댄스 명 장면 생각 하다 아쉽다 단순 상업 영화 생각 하다 두 춤 인상',\n",
              " '거 평점 알바 용하다 제작비 들어가다 정말 재미 찾아보다 없다 마지막 여자애 경상도 들다 코웃음 칠 어색하다 사투리 엄마 하다 잡히다 감정 깨다 버리다',\n",
              " '시리즈 단연 최고',\n",
              " '글쌔 슬프다 짜이다',\n",
              " '여기 땡 칠이 얘 낳다 안나',\n",
              " '재밌다 뭐라다 굉장하다 따뜻하다 느낌',\n",
              " '견자단 나오다 영화 제일 노잼',\n",
              " '재밌다 말다 왜 욕 셍',\n",
              " '실제 사실 어떻다 모르다 의 협객 김두한 거지 패 종로 최고 주먹 평정하다 초기 모습 자다 보이다 줌 배경음악 영상 자다 어울리다 느낌 참고 황정민 우미관 지배인 나오다 유명하다 하다 영화',\n",
              " '재밌다 자막 읽다 힘들다 영어권 보다 더 몰입 되다 공간 한정 되다 상상 충분하다 재미나 생각 하다 많다 영화 바이러스 언어 게 참신하다 바 이르다 소문 괴담 선동 찌라시 언론플레이 대입 하다 생각 해보다 재밌다',\n",
              " '괜찮다',\n",
              " '내 장가 보다 영화 제일 쓰레기 같다',\n",
              " '',\n",
              " '피다 물 진하다 한마디 모든 표현 되다 영화',\n",
              " '이뿌다 따뜻하다 애니 이다',\n",
              " '좋다',\n",
              " '어렷을때 보고 박준형 배신 감',\n",
              " '차인표 말투 적응 돼다 송선미 이쁘다',\n",
              " '과소 평가 확실하다 재밌다 유쾌하다',\n",
              " '훌륭하다 작가 뛰어나다 출진 만나다 훌륭하다 뛰어나다 하다 편의 드라마 만들어지다',\n",
              " '신선하다 소재 식상하다 영화 만들다 유치하다 둘째 재밋게 만들다',\n",
              " '다시 보다 정말 최고 잭 바우어 형님 여기 나오다 처음 볼땐 못 느끼다 또 하나 재미',\n",
              " '이렇다 쓰레기 영화 좀 만들다 진짜 재미없다',\n",
              " '정말 가슴 아프다 영화 질리다 않다 영화 몇번 보다 음악 좋다 도 구해 들다',\n",
              " '영화 만들다 이건 탄생 하다 말다 하다 자체 쓰레기 임',\n",
              " '정말 재밋어 들다 연기 하다 볼 만해',\n",
              " '신기록 갱신 간닷',\n",
              " '오시 마모루 영화 통해 책 넘어서다 하다',\n",
              " '데어데블 못 졸작 늘다 훌륭하다 악마 인형 탈 쓰다 나오다 웃기 인물 관계 스토리 뻔하다 시간 아깝다 움 짧다 러닝 타임 고맙다 정도',\n",
              " '마트 폐쇄된 공간 속 안 갇히다 심리 변화 인상 적다 결말 인상 이다',\n",
              " '차인표 연기 실적 마음 오다 닿다 왕초 드라마 볼때 난 연기 하다 건지다 진짜 실제 그렇다 건지다 모르다 이영화 내용 쥐다 짜다 스토리 차인표 배우 때문 영화 살다 현실 연기력 대단하다 눈물 방울 흘리다 않다 마음 아프다',\n",
              " '게 시리즈 그냥 나오다 정도 안 주다 보다 이름 달 오다 엉엉',\n",
              " '스토리 신선하다 재미있다 좋다',\n",
              " '재밌다 진저 무 서버',\n",
              " '잊다 하다 영화 제목 마음 잔잔하다 오다 닿다 영화 장면 낙비 피해 놀라다 달다 가다 부분 정말 멋진날 햇살 비추다 행복하다 빗속 달리다 느껴지다',\n",
              " '지루하다 않다 가볍다 보다 코믹 스릴러 영화 저 잔인하다 무겁다 스릴러 영화 오히려 좋다',\n",
              " '김민 어설프다 졸작',\n",
              " '화면 어지럽다 성함 지루함 연속 임',\n",
              " '영화 보고 평점 읽다 이영화 최고 재미',\n",
              " '정말 재밌다 보다',\n",
              " '예수 들다 좀 제발 인터넷 안 보다',\n",
              " '작가 예리하다 필 박수 보내다 진보 드라마 란 바로 이렇다 시청률 의식 하다 말다 앞 좋다 내용 부탁드리다',\n",
              " '작품 떠나다 보고 나다 찝찝하다 지다 영화',\n",
              " '초 중학생 수준 단조롭다 대사 지루하다 재미 없다 영화',\n",
              " '참으로 억지스럽다 미국 욕 하다 뭐 건가',\n",
              " '편이 오억만배 재밌다 영화 편도 나름 재밌다',\n",
              " '다시 보다 수작 미국 국수 주의 뭐라다 시점 있다 전쟁 물 중 손가락 안 꼽 정도 만들다 지다 스토리 라인 뻔하다 뻔하다 걸 자다 살리다 언제 보다 다시 보다 재미 있다 지난 영화',\n",
              " '클럽 사건 연결 전혀 안되다 섹스 클럽 얘기 흥미 거리 뿐 스토리 연관 없다',\n",
              " '다니엘 미쉘 페이퍼 마틴 스콜 세지 쵝오',\n",
              " '탕웨이 이제껏 관심 없다 이번 영화 계기 좋다',\n",
              " '간만 차다 유쾌하다 웃다',\n",
              " '액션 진짜 꽤 괜찮다',\n",
              " '무슨 더 필요하다 아마 영화 보고 법무관 법조인 되다 생각 품 덥다 있다',\n",
              " '개다 진짜 돈 아깝다 움',\n",
              " '죠스 더 재밌다',\n",
              " '하다 필요없다 이건 보다 시간 남다 집 발 닦다 잠 자라',\n",
              " '굿',\n",
              " '마지막 도서 카드 그려지다 모습 보고 울다 이츠키 모습 보고 저 울다 지금 보다 달 지나다 같다 모습 떠올리다 먹다 먹다 지네',\n",
              " '완전하다 삶다 없다 하나 배우다 나가다 뿐',\n",
              " '어르다 이즈 시리즈 중 나은 편 편 보다 진짜 노잼 욕 나오다 이건 조금 볼 한편 극장판 주제 오프닝 부터 애프터 펙트 처 바르다 바뀌다 않다 예산 모자라다 건지다 감독 미치다 건지다 모르다',\n",
              " '미키 루크 나오다 홈 보이 영화 알다 분 계시 놀 라울',\n",
              " '팬 이기다 이건 보다 모르다 나다',\n",
              " '케이블 보다 되다 월광보합 때문 깔깔 거리 웃다 선리기연 마지막 장면 일생 애가 흘러나오다 눈물 되돌리다 없다 시간 가장 아프다 오다 닿다',\n",
              " '보다 기대 만발 싸랑 하다 키르',\n",
              " '심심하다 보다 좋다 영화',\n",
              " '별로 재미 없다 왜 점',\n",
              " '노인 섹스 외 보여주다 게 없다 영화 영활 끄다',\n",
              " '멀다 하다 하다 이해 공포 아니다 실망',\n",
              " '역시 영화 볼 도덕성 버리다 둘 없다',\n",
              " '그리스 아름답다 풍경 감상 하다 달달 로맨스 즐기다 있다 영화 보다 흐뭇하다 미소 지다 보다',\n",
              " '어썸',\n",
              " '쉬 나오다 바꾸다 멀다 이건 뭐병 정신 줄 놓다 건가 드 팔마',\n",
              " '종교인 아니다 인간 고뇌 느껴지다 숭고하다 감동',\n",
              " '수고 수고 수고',\n",
              " '회 회 보다 체적 발연기 중량 연기자 모두 하향 평준화 되다 작가 생각 어이 업슴 일일 최악 평점 점도 아깝다',\n",
              " '전작 비다 스토리 고급스럽다 무엇 이번 편 역시 간지나다 액션 신다 스타 뎀 성 도 맡다 하다 보고 더욱 좋다',\n",
              " '희망 미래 란',\n",
              " '먼지 끼다 회색 초콜릿 같다 맛 영화 랄 끄다',\n",
              " '아주 진짜 영화 찍다 영화 찍다',\n",
              " '뭐 들다 재밌다 마지막 반전 가장 최악 이다',\n",
              " '급 액션 진수 깨알 같다 까메오 잔 웃음 거기 다가 엠버 허드 하다 몸매 영화 빛 발 하다',\n",
              " '어리다 감동 보다 영화 잊다 하다 라스트 장면 이불 뒤지다 쓰다 울다 기억 꼭 다시 보고 싶다 파일 좀 보내다',\n",
              " '두 주인공 관계 로맨스 어색하다 요술 마법 뭘 하다 건지다',\n",
              " '왜 헤라클레스 인물 묘사 저따위 하다',\n",
              " '뭐 거 무섭다',\n",
              " '오다 기리 죠 배 바지 기억 남다',\n",
              " '카메라 아름답다',\n",
              " '게 영화 장면 역겹다 분위기 있다 척 앵글 잡다 괜찮다 영화 같다 허세 덩어리',\n",
              " '지상 최고 드라마 정도 되다',\n",
              " '사랑 무엇 알다 영화',\n",
              " '미국 당시 흐름 개개인 인간 승리 응 보여주다 영화 좌절 힘들다 보다 용기 주다 영화',\n",
              " '점 제일 적다 점 주다',\n",
              " '재미 따다 시간 가다 모르다',\n",
              " '안해 런가 조카 재밌다 보다 나니아 샤크',\n",
              " '소품 자다 만들다 연기 하다 몰입 안되다 엑기스 보고 끝내다 내 보다 영화 최악',\n",
              " '신나다 없다 애니',\n",
              " '여성성 한계 갖힌 탈출 덫',\n",
              " '정말 이건 대박 임 잼슴',\n",
              " '도 지나치다 신앙심 말로 종교인 비종 교인 전하 메세지 뚜렷하다 좋다 강추',\n",
              " '귀엽다',\n",
              " '내 기억 재다 떤다',\n",
              " '신기하다 진심 시사회 보고 평점 쓸다 삭제 당하다',\n",
              " '순수하다 하다 자연 대화 서로 끌리다 사이 자연스럽다 만남 영적 소통 하루 아쉬움 공감 하다 반년 후의 모습 설레다 궁금하다',\n",
              " '무섭다 않다 끔찍하다 하다',\n",
              " '요요 비치 나오다 발코니 아래 내다 보다 일행 명 등장 함 상영 즈음 하다 영화 형편 없다 야하다 않다',\n",
              " '지나다 여전하다',\n",
              " '남자 조 내다 찌질하다 연기 하다 보다 내 답답하다 그동안 보다 온 독립영화 좀글',\n",
              " '젊음 열정 격정 두려움 모든 묻다 영화',\n",
              " '어르다 게임 영화 아니다',\n",
              " '엄정화 다시 보기 연기 굿',\n",
              " '불쾌하다 내용 왜 보다 거',\n",
              " '거 다운 하다 청소년 관람 불가 뜸',\n",
              " '공산 사회주의 잔인함 느끼다 해주다 영화 북한 비 하다 아니다',\n",
              " '다시 보다',\n",
              " '왜 들다 스토리 불만 이야기 원형 있다 영화 원형 되다 스토리 안 예술 하다 가지 진부하다 하다 대체 뭘 건',\n",
              " '글쎄',\n",
              " '역시 팀 버튼',\n",
              " '노다메 유치하다 매력 욕 하다 뀌 드라마 보고오다',\n",
              " '애매하다',\n",
              " '별로 이다 그냥 그렇다',\n",
              " '허접스럽다 영화 스토리 착오 류 코미디',\n",
              " '영화 보고 난후 극장 사실 유심 보다 되어다',\n",
              " '무겁다 가볍다 않다 진짜 보기 좋다 성장 영화',\n",
              " '터지다 깨뜨리다 박다',\n",
              " '기다리다 있다 재밌다 소변 사랑 하다',\n",
              " '맥가이버 머리 유행 하다 인기 폭발',\n",
              " '완전 쓰레기 하다 보다 생각 생각 자다 봣다 점 주다',\n",
              " '이건 뭐 차라리 세면 노출 더하다 이건 뭐 망',\n",
              " '보다 보다 나다 저 회사 하다 하다 싶다 생각 만들다 하다 드라마 캐스팅 아주 완벽하다 듯 하다',\n",
              " '개잼남 포르 늘다 중요 부분 챙기다 보지 이건 오직 정 주행 함',\n",
              " '전 재미나 보다 달튼 능글 매력 젊다 시절 페넬로페 보다 점',\n",
              " '공포영화',\n",
              " '농담 장난 끼 영화 만들기 무리 있다 보이다',\n",
              " '외계인 징그럽다 늘다 재밌다',\n",
              " '세븐 생각 하다 보다 큰코다치다 영화 모건 프리 멀다 연기 좋다',\n",
              " '이토준지 원작 영화 대체',\n",
              " '척 보기 흥행 실패하다',\n",
              " '나름 대중성 있다 만화 작품 이렇다 태도 취급 하다',\n",
              " '중년 나이라 하다 번 보다 하다 영화',\n",
              " '감동',\n",
              " '일본 스타일 공포영화 시도 듯 느낌 놀래다 키 없다 일회용 공포영화',\n",
              " '거 어리다 보다 자다 기억 안 짖다 재밌다 같다',\n",
              " '영화 바람 재밌다 라면 추천 하다 가볍다 마음 보기 좋다 영화',\n",
              " '훌륭하다 초한지 얼른 읽다 보고 다시 보다 연출 훌륭하다 껄껄 한신 토사 팽 슬프다',\n",
              " '적다 돈 나름 최선 다해 만들다 듯 한하유 마음 들어서다 점',\n",
              " '연애 더빙 참고 참다 이건 진짜 참다',\n",
              " '정신 없다 여자 주인공 보다 어지럽다 스토리 완전 어거지',\n",
              " '뭔가 스토리 이상하다',\n",
              " '영화 점 하나 주다 살다 끔찍하다',\n",
              " '돈 걱정 제로 비현실적 비현실적 세상 설정',\n",
              " '',\n",
              " '책 먼저 접 폭풍 언덕 살 이다 내다 사랑 진하다 밀도 알 해주다',\n",
              " '서브 남다 들이다 더 빛나다 보이 주인공 같다 영화 벤자민 지지 나오다 더 즐겁다 지지 여주 더 예쁘다',\n",
              " '편 더 짜임새 있다 개인 로버트 쇼 더 눈독 가다',\n",
              " '평점 점 이상은 뭐 애니 보고 나오다 보다',\n",
              " '현실 이러하다',\n",
              " '장면 보고 영화 재미있다 하다 지루하다 과거 회상 하다 지루하다 재미없다 감동 없다 시간 남아돌다 영화 보다 좋다 같다',\n",
              " '조금 집중 하다 보다 심오하다 영화',\n",
              " '탕웨이 정말 매력 여자',\n",
              " '세분 비구니 꼭 자기 자신 찾기 간절하다 바라다 약간 눈물 흘리다 잔잔하다 모습 삶 뒤 돌아보다 좋다 느낌 다큐 이다 진심 이렇다 분 삶 원하다 감독 열정 감사 드리다',\n",
              " '부산 언제 개봉 하다',\n",
              " '게 감싸다 노력 하다',\n",
              " '완전 재다',\n",
              " '거 끝나다 멀다 기대하다 없다',\n",
              " '완전 대박 후회 없다 영화',\n",
              " '디박 대박 잼 쓰다',\n",
              " '제 보다 애니메이션 영화 명작 이다',\n",
              " '마 수리 비교 하다 하다 작아지다 컴 밉다',\n",
              " '젠 양동근 믿다 보다 배우 아니다 되어다 버리다',\n",
              " '진짜 졸잼 오다 마지막 결말 맘 들다 진짜 재밌다',\n",
              " '감명 깊다 재밌다 굿',\n",
              " '다르다 생각 하다 여기 너구리 인간 변신 하다 살아가다 사회 소수자 상징 하다 같다',\n",
              " '아깝다 내용 단순 재미 감동 볼거리 없다',\n",
              " '지금 나오다 드라마 중 최고 이다 점 만점',\n",
              " '정말 초딩 위해 만들다 스토리 쓰레기 런스 쓰레기 액션 쓰레기',\n",
              " '굿 재밋다 보다 보다 잼 따다',\n",
              " '연기자 혼자 나르다 연기 압권',\n",
              " '보고 울음',\n",
              " '배우 이민호 김희선 어울리다 않다 같다 어울림 묘 매력 다가오다 신의 타임스 립 드라마 최고봉 하다 있다 잔잔하다 애잔하다 신의 매력 빠지다 보심 런 인생 최고 드라마 이다 적극 추천 하다',\n",
              " '영화 평점 왜 높다 케이블 보다 없다 영화',\n",
              " '평점 높다 주다 정말 재미 없다 지루하다 뻔하다',\n",
              " '그냥 강지환 아깝다',\n",
              " '군인 가다 하다 그것 모두 담다 표현 영화 나라 위해 죽다 기쁘다',\n",
              " '영국 팍팍하다 탄광 노동자 삶 있다 자신 재능 발휘 하다 있다 삶 찾아가다 소년 행복하다',\n",
              " '재미 없다',\n",
              " '케이스 총 나오다 씬 해도 점 되다',\n",
              " '더지니어스 보다 훨났다',\n",
              " '이정진 정말 비운 배우 생각',\n",
              " '살아가다 한번 보다 인생 대한 의리 영화',\n",
              " '를 그냥 좀',\n",
              " '진짜 재밌다 보다',\n",
              " '글쎄 돈 주다 다시다 안 보다',\n",
              " '이보 다가 궁금하다',\n",
              " '판타스틱 협녀 둘 하나 보다 하다 고문 없다',\n",
              " '재미있다 좀 황당하다 유머러스하다 엉뚱하다 유쾌하다 보다 더불다 음악 좋다',\n",
              " '볼 만하',\n",
              " '재미있다',\n",
              " '거 완전 재밌다 보다 평점 왜 낮다',\n",
              " '당신 지금 행복하다',\n",
              " '빌어먹을 내 이제껏 영화 가장 루즈 영화 돼다 웃기다 않다 빌어먹을 시간 다잡다 치다 먹다',\n",
              " '졸다 생물 소개 스토리 어지럽다 나레이션 애기 영화',\n",
              " '시즌 강추 사만 완젼 웃기다',\n",
              " '이야기 전개 되다 과정 흥미 유발 하다 못 채 시간 흘러가다',\n",
              " '가슴 깊이 울림 주다 감동 영화 마지막 자막 오르다 갈다 흐르다 눈물 이렇다 아름답다 영화 이제야 감상 하다 케빈 코스트 너 클린트 이스트 우드 감독 존경 하다',\n",
              " '지나다 보다 아니다 시간 준 지혜 전달 해주다 영화',\n",
              " '주인공 꽤 괜찮다 얼굴',\n",
              " '진짜 포스터 멋지다 보다 가끔 주연 넘다 좋다',\n",
              " '액스멘 부활 완벽하다',\n",
              " '재미있다',\n",
              " '대한민국 해군 를 혐오 하다 최대 다수 행복 죽다 젊은이 목숨 가족 슬픔 중하 여기다 때문 손바닥 하늘 가리다 하늘 가려지다 아니다',\n",
              " '좀 주인공 짜증나다 마지막 그렇다',\n",
              " '거인 불쌍하다 보다 속이다 불편하다 짜증나다',\n",
              " '아오이 유우 앞 하다 나오다 았 달다 느낌',\n",
              " '이영화 보고 느끼다 개 나소 누구 영화감독 되다 원작 망치다',\n",
              " '몰입도 제로 뱀파이어 피 조금 흘리다 자살 하다 꼴 늑대인간 뱀파이어 초자연적 존재 격전 왜 하필 소재 늑대인간 뱀파이어 인지도 모르다 작품',\n",
              " '논스톱 뉴논스톱 논스톱 논스톱 논스톱 레인보우 로망스',\n",
              " '댓글 덕분 영화 보다 빠르다 포기 함 댓글 참으로 감사하다 내 아깝다 시간 아끼다 오광록 연기 연습 좀 더하다 야하다',\n",
              " '감독 세기 순정 영화 시가 아니다 긴장감 메시지 있다 먹히다 답니',\n",
              " '잔잔하다 기억나다 시대 보통 가족 모습 솔직하다 담기다 소녀 성장 기도',\n",
              " '재밌다 이만 하다 최근 보다 상업 영화 순위 랭크될 하다',\n",
              " '홍콩영화 어줍다 흉내내 있다 기절 초 하다 하다 싸구려 무비',\n",
              " '나탈리 바람 피다 확실하다 영상 나왓음 하다',\n",
              " '이상은 땜 극장 보다 최악 영화 이다 로 기억 함',\n",
              " '반딧불 무덤 처럼 불편하다 만들다 진정하다 국적 감성',\n",
              " '존재 모르다 영화 맞다 오다',\n",
              " '후',\n",
              " '인생 하다 그림 알 없다 겉 알 있다 진정 느끼다 알 있다 분명하다 느낌 다르다 배다 애플렉 션 윌 복 받다',\n",
              " '스토리 캐릭터 표현 상미',\n",
              " '티비 드라마 못 영화 시대 티비 드라마 한국영 더 재미있다',\n",
              " '힐러리 사랑 하다 남다 생각 안나',\n",
              " '스토리 정말 별거 없다 지루함',\n",
              " '쓰레기 드라마 오정 세 빛나다',\n",
              " '오다 포스터 같넼',\n",
              " '이건 클래식 위 드라마 청춘 성장 드라마 아니다 주제 알 없다 드라마 되어다 버리다 클래식 현실 고발 하다 위 드라마 심각하다 드라마 부채 도사 어디',\n",
              " '좋다',\n",
              " '쾌락 정점 찍다 삶 보고 또 다른 쾌락 느끼다 추하다 생각 하다 돈 추구 누구 부유하다 삶다 한번 상상 해보다 감독 엿 먹다 같다',\n",
              " '개인 미식축구 다시 생각 하다 만들다 감동 영화',\n",
              " '재밌다 영화 지루하다 않다 사극 멜로 이다',\n",
              " '캐릭터 짜증 유발 매력 캐릭터 없다 할아버지 빼다',\n",
              " '엔딩 임팩트 약하다 통쾌하다 좋다 걸',\n",
              " '역시 박신양 마지막 쫌',\n",
              " '주연 배우 지겹다 무리하다 압축',\n",
              " '같다 상처 공유 하다 부담스럽다 피 싶다 어머니 가족',\n",
              " '제아 쏘다 부치다 아이 내 재빠르다 영리하다 의리 있다 시리다 다르덴 엉망 가운데 진심 작다 마음 지키다 갈다 있다 대해 꾸준하다 이야기 해주다 극적 않다 직조 하다 능력 감탄',\n",
              " '유치하다 더 사실 만들다',\n",
              " '흑역사',\n",
              " '꽃 빨 진짜 이다',\n",
              " '별로',\n",
              " '전라도 보여주다 영화',\n",
              " '뻔하다 스토리 조잡하다 효과',\n",
              " '제작 하다 수익 백만불 먹다 망하다 전세계 위로 망하다 영화',\n",
              " '기분 나쁘다 보다 치 때문 저 치',\n",
              " '수채화 같다 영상 가슴 울리다 음악 조화 되다 잊다 하다 명작',\n",
              " '가장 싫어하다 신파 스릴러',\n",
              " '뭐 이영화',\n",
              " '재밌다',\n",
              " '아버지 소원 하다 이렇다 영화 한편 보다 괜찮다 싶다',\n",
              " '감독 살다 요즘 개독 보다 아마 기 막히다 듯',\n",
              " '설명 하다 없다 놀라다 감동 영화',\n",
              " '나가다 사오다 마사미 그렇다 시리즈 좋다 그냥',\n",
              " '대안 하다 재다 연기 내용 탄탄하다 강추',\n",
              " '현실 재밌다 꾸미다 막장 싫다 인물 성격 행동 일관 되다 좋다 무조건 재미 추다 하다 좋다',\n",
              " '조로아크 조로아 간절하다 바라다 느껴지다',\n",
              " '정종철 박준형 무리 나오다 영화 크게 성공 하다',\n",
              " '진짜 바보 요괴 귀요미 잼잼잼 바보 요괴 그리다 또 보다 감동 잇다',\n",
              " '나름 머리 좋다 학식 높다 경제학자 어떻다 서민 생활 파괴 면서 돈 벌다 대해 적나라 설명 해주다 뜻 깊다 영화',\n",
              " '간만 원하다 영화 나오다',\n",
              " '진짜 필요없다 드라마 난 왜 작년 걸 모르다 진짜 영화 같다 색감 명품 연기자 인생 드라마 되다 같다',\n",
              " '괜찮다 좋다 우리나라 만화영화 발전 위해 내용 재밌다 순수 만화',\n",
              " '참신하다 소재 어슬픈 마무리 때문 실화 줄 알다',\n",
              " '재미있다 재밌다',\n",
              " '반전 반전 감독 지키다 대충 얼머 무리다 마무리 쫑났다',\n",
              " '인생 다시 한번 생각 하다 하다 영화 여운 남다 영화',\n",
              " '밑 분 그렇다 난 아니다',\n",
              " '한채영 스탈 좋다 거 인정 느끼다 얼굴 그닥 모두 책 읽다 대다 내 보다 한국영 화중 최악 연기 조합 연출 수준 학생 영화 걸 개봉 하다 놀라다 이보 같다 해 나오다 해변 가다가 훨 나다',\n",
              " '거 왜 재 방안 해주다',\n",
              " '오다 아저씨 조인성 보고 능력 있다 신분 셨 전 서울',\n",
              " '툭툭 끊기다 재미 어울리다 않다 대사 멋있다 보이다 오도방정',\n",
              " '진 하다 여운 남다 영화',\n",
              " '쉬리 하다 퇴보하다 방화 수준 망작',\n",
              " '소간 짱',\n",
              " '점 정도 적당하다 영화 역시 졸리다 액숑',\n",
              " '완전 임 한번 보다 폐인 되다',\n",
              " '줄거리 읽다 대충 가다 스토리 결말 대안 보다 역시 예상 이다 재밌다 보다 훈훈하다 좋다 달다',\n",
              " '대박',\n",
              " '조음',\n",
              " '제발 이렇다 쓰레기 영화 만들다 국가 낭비',\n",
              " '어줍다 예술가 고뇌 인양 포장 하다 입생로랑 대해 사다 지루하다 영화 차다 있다 겉멋 잔득 들어가다 내다 텅 비다 예술 인척 하다 더 보다 짜증나다 올드함 진부하다 건지다 하나 없다 대사 향연',\n",
              " '오타루 오다 다시 보다 러브레터 학교 다니다 크다 감흥 보다 지금 다시 보다 좋다 지금 내리다 크다 눈 치면 밖 나가다 다시 느끼다 보다',\n",
              " '공포영화 웃기다 하다 건지다 알다 없다',\n",
              " '공허하다 담배 피기 빌리다 밥 숀튼',\n",
              " '대다 여자 노처녀 히스테리 열등감 더하다 어떻다 되다 보여주다 영화 골 때리다 끝내주다 웃기다 주다',\n",
              " '재밌다',\n",
              " '대체 내용 왜 이어지다 건가 싶다',\n",
              " '브로큰',\n",
              " '포스터 약간 거북하다',\n",
              " '유다인 배우 알 해주다 영화',\n",
              " '소설 원작 자다 재현 해내다 같다',\n",
              " '보다 나오다 대사 온통 노래',\n",
              " '은행 털 들이다 보여주다 몸 개그 열전',\n",
              " '정말 만이 이렇다 감정',\n",
              " '손현주 짱',\n",
              " '훈훈하다 내용 스토리 다소 억지스럽다 부족하다',\n",
              " '무언가 잊다 살다 느낌 준 영화 이제 생각 좀 바꾸다 하다 같다',\n",
              " '또 뻔하다 결말 또 뻔하다 걸 영화',\n",
              " '혼자 북 장구 치다 관객 우롱 하다 끝나다',\n",
              " '천하 슈렉 속편 거듭 되다 보다 힘 떨어지다',\n",
              " '주군의태양 파스타 내용 뻔하다 재미있다',\n",
              " '여자 주인공 이이해 가안 돼다 남자 여자 순수하다 여자 양심 때문 죽음 평점 높다',\n",
              " '시대 앞서 영화',\n",
              " '박중훈 괜찮다 넘다 어색하다 꽝 이다',\n",
              " '담 영화 중 꼽는 작품 네이버 평점 신뢰 도 땅 떨어지다',\n",
              " '이건 당연하다 점 주다 야하다',\n",
              " '보다 오래되다 기억 자다 안나 야하다 장면 부족하다 걸 기억',\n",
              " '떠들다 산 가다 이야기',\n",
              " '매력 구석 있다 엄청나다 자의식 과잉 질식 하다 같다',\n",
              " '하다 잃다 봣다 시간 아깝다',\n",
              " '헐다',\n",
              " '기세 아깝다',\n",
              " '지루하다 잠 오다 죽다 줄 알다',\n",
              " '행복 가다 주다 들보 끔찍하다 더 많다 게 현실 행복하다 해주다 하다 중요하다 더 중요하다 스스로 행복하다 스스로 행복하다 타인 행복하다 만들다 있다',\n",
              " '간결하다 지적 몰입도 대단하다 영화',\n",
              " '진짜 이병훈 사극 제일 재미없다 드라마 이다',\n",
              " '블랙코미디 진수 찌다 위악 역겹다 별 점 주다',\n",
              " '가슴 찡하다 웃음 뒤 숨기다 찡하다 독특하다 재미 있다',\n",
              " '평점 왜케 낮다 거 짱',\n",
              " '스팟 출연 진 화려하다 멍청하다 허영 심 가득 찬 아마추어 무 개념 자기 배설',\n",
              " '입양 바라보다 냉정 따뜻하다 시선 감탄 하다',\n",
              " '알바 흥 하다',\n",
              " '연기 시대 뒤 떨어지다 흠 의 초로 슈퍼맨 위상 고려 하다 점',\n",
              " '전 재미있다 성유리 어색하다 연기',\n",
              " '금보 삼류 영화 지루함',\n",
              " '영화 좋아하다 이유',\n",
              " '연기 시나리오 연출 제대로 되다 하나 음슴다 보다 내내 비웃음 나오다 진짜 난 로멘 코 메딘 줄 알다',\n",
              " '하얗다 노파 그냥 웃다',\n",
              " '자극 이기 위해 끼울다 억지스럽다 장면 보이 뻔하다 계산 연출 성은 그렇다 감독 인격 수준 바닥',\n",
              " '갠 편 더 재밌다 쏘다',\n",
              " '이스트 우드 뿐 아니다 애드 해리스 연기 잊혀지다 않다',\n",
              " '고은정 혼자 나체 한은정 혼자 자다 난체 언제 크다 재미없다 이야기',\n",
              " '알바 있다 개봉 전이 오다 점 주다 점 주다',\n",
              " '일상 대다 하다 땐 신경 지루하다 경향 심하다 삶 생각 길다 어렵다 난간 봉착 하다 마련 때문 같다 일상 에지 내다보다 소중하다 감성 잊다 살아오다 같다 이영화 보고 도쿄 가지다 메트로폴리탄 가지다 편 잊다 지내다 감성 살아나다 하다',\n",
              " '엑소시스트 먹다 칠하다 영화',\n",
              " '별 반갑다 않다 감독 끌벌쩍',\n",
              " '완전 잼잇엇어 정말 현재 나르다 보다 듯 느낌',\n",
              " '이렇다 쓰레기 쿡 영화 돈 주다 보다 절댜 안되다',\n",
              " '뭐 재밌다 마지막 라면 그렇다 치다 이건 첨부 터 여자 지키다 영화 하다 그렇다 나오다 않다 반전 주의 의식 볼 수도 없다 결론 애로 영화 노잼',\n",
              " '상어 매니아 기대 가장 충족 시키다 영화 생각 하다',\n",
              " '걸 반전 미치다 시간 돌려주다',\n",
              " '여자 다른 남자에게 흔들리다 빼다 정말 공감 하다 얘기 해피엔딩 되다 없다',\n",
              " '공감 불가 저런 기 죽이다 하다',\n",
              " '눈물 마무리 짓다 되다 영화',\n",
              " '점 영화 표현 하다 턱 부족하다',\n",
              " '사이코패스',\n",
              " '불쌍하다 펭귄 맨 맥스 무표정 제일 무섭다',\n",
              " '점주 들다 흰둥이 똥구멍 핧으 쓰레기',\n",
              " '베트남전 폐해 대해 보여주다 점 미국 패권 주의 느껴지다 무조건 미국 전쟁 참여 하다 정의 편이 점 부각시키다 옳다 않다 봄 전쟁영화 짜릿하다 스릴 감동 재미 별로',\n",
              " '포스터 있다 보지 않다 판단 하다 마르다',\n",
              " '평보 결제 보다 신랑 보다 잠들다 돈 아깝다 끝 보다 하다 평점 주다 알바 있다 거 알다 개 인기 맘 비우다 보다 고해 유부녀 아무렇다 않다 사랑 빠지다 미화 시키다 어의 없다',\n",
              " '기세 아깝다 캬악 퉷',\n",
              " '후반 부 펑펑 울다',\n",
              " '있다 없다 이야기 인정 하다 없다 결론',\n",
              " '해리포터 전 시리즈 제일 인물 심리 묘사 구체 이야기 어리다 애 영화 같다 않다 진지하다 진중하다 느끼다 편 갠 파트 의 화려하다 파트 의 느낌 더 좋다 같다',\n",
              " '정말 이렇다 영화 개봉 되다 믿어지다 않다 처음 영화 평점 매기 하다 영화 무슨 생각 수입 하다',\n",
              " '재미없다 진심 솔직하다 재미없다',\n",
              " '',\n",
              " '생애 최악 공포영화 공포영화 무섭다 되다 웃기다',\n",
              " '차다 좋다 영화',\n",
              " '오리 지나다',\n",
              " '최고 드라마 김태희 가다 좋다',\n",
              " '재미 있다',\n",
              " '이건 뭐 그냥',\n",
              " '최고 영화 영화 보다 후 앞 영화 자다 선택 하다 충고 얻다',\n",
              " '법 강 한자 평등하다 정의 없다',\n",
              " '작품 뭐 도무지',\n",
              " '진짜 만나다 힘드다 명품 드라마 배우다 작가 모두 최고',\n",
              " '별로',\n",
              " '영화 이제 서다 보다 되다 명작 불다 질 제목 아쉽다',\n",
              " '못 만들기 더 어렵다 초딩 학예회 연기력 선보이다 이요원 구 게다가 황정민 딸 나오다 아주머니 모 감독 진 몰다 보구 캐스팅 거 한심하다 영화 네이버 점 개 하다 있다 해주다',\n",
              " '글쎄 좀 쌩뚱맞다 하다 이입 안되다 인내심 요한',\n",
              " '발전 하다 없다',\n",
              " '난꽤 재밌다 배우 연기 오지',\n",
              " '시나리오작가 상 주다 번 주다',\n",
              " '감독 무슨 이야기 하다 모르다 복선 많다 장치 많다 목잡 답답하다 주인공 감정 과잉 보다 실소 머금 하다',\n",
              " '죄송하다 끝나다 다른 드라마 좀 하다 좋다 왜케 기다 넘다 재미없다',\n",
              " '이건 킬링 임용',\n",
              " '오빠 더멋 잇다 졋',\n",
              " '영화 보다 자다 처음',\n",
              " '어디 하나 흠잡다 곳 없다 최고 영화',\n",
              " '점 굉장하다 높다 그렇다 가치 있다 영화',\n",
              " '여기 티모시 스펄 배우 나오다 않다 배우 목록 없다 영화 밥 나오다 없다 배우 목록 첨부 점 영화 좋다',\n",
              " '평점 처음 달 아보 만들다 인생 베스트 급 류 작다',\n",
              " '킬링타임 용 이상 이하 아니다',\n",
              " '감정이입 되다 심하다 영화 제 되다 적다 없다 저 해당 되다 이야기 아니다 가슴 찡하다',\n",
              " '군인 자다',\n",
              " '캡틴 듀브 나오다 웃기다 줄리 안이 곰 러브스토리 재밌다 무엇 서커스 씬 노래 오다 어울리다 환상 이다',\n",
              " '초등학교 학년 떄 존 나다 무섭다 보다',\n",
              " '재미 끄다 진짜 없다',\n",
              " '좋다 스릴러 소재 왜 성하다 멜로 만들다',\n",
              " '권선 징악 진부하다 스토리 드라마 중반 부 점 주어 괜찮다 연출 스토리 연기력 후반 부 갈수록 누구 예상 가능하다 권선 징악 결론 이겠다 왜인 예상 하다 훌륭하다 반전 하나 정도 나오다 않다 하다 개인 생각 이다 난 꿀잼',\n",
              " '김승우 연기 하다 연기 늘다 않다 황정민 송강호 가다 좀 배우다 오다 발연기 대단하다',\n",
              " '',\n",
              " '애기 극장 엉엉 울다 기억',\n",
              " '처음 아이 크리스천 베 일임 알아보다 매우 깜짝 놀라다 역시 명 배우 이르다 어리다 재능 가지 계시다 어리다 보다 시선 전쟁 아니다 묻다 않다 순수하다 호기심 풀다 내다 멋지다',\n",
              " '요즘 비디오 가계 없다 힘들다',\n",
              " '캐릭터 개인 기다 좋다 시나리오 하루 써다',\n",
              " '도 아깝다 영화 돈 쓰다 돈 남아도',\n",
              " '어설프다 연출 빗나가다 의식 적절하다 섞이다',\n",
              " '빨갱이 빨갱이 뿐',\n",
              " '공유 짱짱맨',\n",
              " '환희 비롯 신인 배우 연기 이상 이구 아름답다 영상 콘서트 보다 같다 곡 모두 좋다',\n",
              " '두뇌 가슴 눈 보다 무지하다 지루하다 돈 날리다 영화 겠다 부류 그냥 치고받다 헐리욷 쓰레기 영화 보다 왜 영화 돈 시간 낭비하다 보다 가다 이해 안감 명화 보다 만화 남도 못 쓰레기 하다 게',\n",
              " '낚았다 히데 조금 그렇다 영화',\n",
              " '다시다 보다 않다 영화',\n",
              " '평점 낚 영화',\n",
              " '개봉 하다 순식간 내려가다 망하다 영화 만 알 있다 한번 보다 후 괜찮다 영화 생각 들다 분 허구 하다 실제 있다 인대 무슨 허다 구입',\n",
              " '흥미 가슴 뭉클하다',\n",
              " '평점 보고 보다 내용 노잼 웃기다 아니다 유치하다 개그 치다 액션 쩌는것 아니다 액션 보여주다 보다 짜증나다 넘기다 보다 끄다 버리다 지금 궁금하다 저기 나오다 딸 래미 여자애 분명하다 보다 같다 이안',\n",
              " '제목 그렇다 짜증 영화 이다',\n",
              " '이렇다 찝찝하다',\n",
              " '솔직하다 재미 있다',\n",
              " '만들다 보기 그다지 특이하다 취향 가지다 행복찾기',\n",
              " '드라마 왜 재미없다 이야기',\n",
              " '점 더 이하 주다',\n",
              " '라이언 필립 왜 못 뜨다 확실하다 알다 준 영화',\n",
              " '보다 진자 부럽다',\n",
              " '오다 번 보다 재밌다',\n",
              " '솔직하다 아니다 아니다',\n",
              " '스페인 영화 기도 하다 맨 마지막 씬 결코 잊다 없다',\n",
              " '감독 상상력 작품 우수하다 작품 생각 되다 현실 환상 세계 헤엄 치다 미스터리 다시 한번 재 감상 통해 미스터리 작품 세계 빠져들다 싶다',\n",
              " '거 감독 출연 배우 빼다 아무 끝 보다 유명하다 영화',\n",
              " '거 거쟎 요',\n",
              " '감동 살다',\n",
              " '케이블 하다 봄 쉬 하트넷 멋있다',\n",
              " '좋다 다시 보고 싶다 영화',\n",
              " '정말 정말 하다 없다 시간 때우다 재미없다',\n",
              " '재미없다 보다',\n",
              " '스토리 스릴 있다 훈훈하다',\n",
              " '지루하다 차 대전 화려하다 전투씬 기대하다 동네 아줌마 친목 도모 임팩트 감동 없다 이렇다 내용 좋아하다 있다 땡 점',\n",
              " '오늘 엘지 유플러스 장화 홍련 영화 보다 떄 무섭다 감동 적다',\n",
              " '색다르다 코난 시리즈 인 듯',\n",
              " '지금 쭈욱 넘다 재다 오늘 강우 창 넘다 나쁘다 순금 우짜 꼬',\n",
              " '정화 전생 나라 구 하다 정화 좋아하다 요즘 부럽다 크다',\n",
              " '좋다 소재 연출 망',\n",
              " '망하다 싸다',\n",
              " '티비 방영 해주다 보다 돼다 평점 왜 점 되다 않다 의문 요 스토리 진행 되다 느껴지다 쾌락 슬픔 사회 풍자 요소 정말 재밌다 보다',\n",
              " '이건 영화 아니다 포르노 수준',\n",
              " '감동 첸카이거 감독 작품 역시',\n",
              " '진행자 방청객 오버 하다 보기 안좋다 휘성 편 정말 재미있다 보다',\n",
              " '시대 아버지 모습 자다 표현 하다 영화 아버지 세월 가도 아버지 이다',\n",
              " '하다 출연자 어필 송은희 끼어들다 그치다 신동엽 역시 프로',\n",
              " '아주 크다 교훈 얻다 야하다 장면 보고 싶다 야동 보라',\n",
              " '어리다 보다 지금 생각나다 인상 깊다 영화 오늘 따르다 다시 보다',\n",
              " '굳다',\n",
              " '초반 엘베 안 공효진 이선균 기습 볼뽀뽀 하다 왜 좋다 이선균 공효진 두다 표정 재밌다 런가 달달 하다 새벽 몰다 보다 꿀잼졸잼 잼',\n",
              " '',\n",
              " '유머 기 막히다',\n",
              " '재미있다 보다 음 추천',\n",
              " '내 알다 박찬욱 감독 모습',\n",
              " '모르다 대중 선동 하다 선동 버스',\n",
              " '한마디 하다 핵 노 잼',\n",
              " '드라마 좋다 아니다 액션 좋다 아니다',\n",
              " '김청기 감독 이제일 좋다',\n",
              " '드니 방 소름 돋다 봉준호 괜찮다 미셸 공 드리다 별로',\n",
              " '간만 괜찮다 스릴러물 만나다',\n",
              " '지루하다 죽다 알다 유우 때문 끝 보다 영화',\n",
              " '아이 좋아하다 어른 보다 재미있다',\n",
              " '개도 아깝다 쓰레기 영화',\n",
              " '위로 필요하다 위로 되다 드라마 무',\n",
              " '재미있다 내 용이하다 되다',\n",
              " '어리다 적 우주비행사 꿈꾸다 않다 없다 이제 보다 다행',\n",
              " '왜 받다 진짜 지루하다 끝 보다 욕 나오다 보다 암',\n",
              " '재미없다 옹박 오리 지나다 편 빼다 만들다 말다 하다',\n",
              " '만 영화 운영 보다 좋다 써다 안보 후회 하다',\n",
              " '세익스피어 차별 주의 이다',\n",
              " '상당하다 답 잖다 어설프다',\n",
              " '평점 왜 낮다 끄다 소재 신선하다 중간 중간 웃다',\n",
              " '로맨틱 지구 종말 잔잔하다 마지막 장면 여운 무크 재난 블록버스터 이렇다 오다 닿다 현실 무섭다 슬프다 같다 보다 소소하다 웃음 있다 감동 있다 배우 사랑스럽다 나다 종말 맞이 하다',\n",
              " '바이오 표절',\n",
              " '정도 평점 끌다 올리다 보다 배급사 알바 자다 뽑다 거 같다 아니다 보험 들어가다 정 직원',\n",
              " '평점 왜 높다 볼 하다 참나',\n",
              " '진짜 희다 대의 망작 시간 황금 귀하다 절실 하다 느껴지다',\n",
              " '딸 재미있다 보다 영화 보다 뒤 딸 도라애몽 같다 주머니 있다 하다',\n",
              " '영화 월요일 국군 방송 졸리다',\n",
              " '우연 심해',\n",
              " '모든 걸 떠나다 공포영화 지루하다 수도 있다 하다 생각 들다',\n",
              " '놓다 진짜 네이버 영화 스포 하다',\n",
              " '다시 보고 싶다 정말 재미 있다',\n",
              " '포스터 영화 진짜 하다 잃다',\n",
              " '실화 더 재미있다',\n",
              " '영화 때문 화보 눈 높아지다 제외 거의 재미없다 영화로 만들다 걸작 영화관 나오다 꼭 허전하다 있다 이건 채우다 나오다 느낌 영화관 보다 정말 신의한수 진짜 생애 최고 영화',\n",
              " '샘 들다 영화 별로 듯 재다 보다 하나 없다',\n",
              " '샌프란시스코 쟈니',\n",
              " '액션 볼 하다',\n",
              " '왜케 광고 멋지다 하다 정말 실망',\n",
              " '게뭐 빨갱이 영화',\n",
              " '재미있다',\n",
              " '이승환 편 진짜 울면 듣다 보고 최고 얍',\n",
              " '간만 재밌다 영화봔 찰스 그로 딘 때문 배꼽',\n",
              " '지브리스튜디오 비교 하다 손색 없다 명작 애니 탄생',\n",
              " '정말 좋다 영화 또 보다',\n",
              " '주말 예능 재미없다',\n",
              " '많다 무비 꼴 쥬 유일하다 좌석 꽉차다 영화 어르신 정말 많다 영화 많다 장면 저 포스터 배위 선우 스님 진심 어리다 위로 해주다 장면 좋다 스님 또 다른 모습 보다',\n",
              " '왜 마지막 장면 눈물 나다',\n",
              " '시원 통쾌하다 복수',\n",
              " '재미없다 감독 때리다 치다',\n",
              " '진부 마음속 사랑 유쾌하다 남다 강추 이다',\n",
              " '다시 보다 그립다 영화',\n",
              " '감동 재미있다',\n",
              " '생각 실망하다 영화 언터쳐블 감동 생각 하다',\n",
              " '연기 완전 어색하다 재미없다 베컴 나오다 점주 늘다 고맙다 여기다',\n",
              " '슈퍼스타 허각 보다 유일하다 온몸 소름 돋다 닭살 돋다 허각 뿐이다',\n",
              " '답 없다 문제 내놓다 관객 헛 고생 시키다 영화 염정아 연기 살리다',\n",
              " '최고 바이올린 영화 소장 싶다 찾다 다시 보고 싶다',\n",
              " '스릴러 영화 교과서 보다 되다 이상 이하 없다 요즘 보기 지루하다 영화 공포영화 역사 궁금하다 하다 궂 보다 예상 하다 그대로 보다 되다 임',\n",
              " '점 스파 키 움 만 짜증나다 영화',\n",
              " '같다 값 머리 좀 써다 예산 타령 하다',\n",
              " '신의 존재 필연 죽음 관 질문 종교 구원 사후세계 대해 진지하다 묻다 있다 영화 영화 충분하다 철학 도구 되다 있다 음 증명 하다 불후 걸작',\n",
              " '시간 아깝다 뭐 이렇다 거지같다 영화 있다 뭘 전하 싶다 건지다',\n",
              " '이렇다 드라마 또 없다 정말 람사 얘기',\n",
              " '마지막 장면 평생 잊혀지다 않다 같다 눈물',\n",
              " '내 보다 최고 만화',\n",
              " '예전 재밌다 보다 내용 알다 좀',\n",
              " '동방불패 오다 같다 졸작 수박 겉 핥다 식 영화',\n",
              " '누구 하다 번 들다 보다 그레이스 켈리 대한 영화 왕비 여배우 로서 주인공 느끼다 갈등 모나코 프랑스 간의 문제 사이 중심 잡지 못 하다 채 난잡하다 진행 되다',\n",
              " '개 쩐다 나오다 않다',\n",
              " '감동 깊다 영화',\n",
              " '간만 영화 보다 원 졸다 스릴러 좋아하다',\n",
              " '감동 있다 영화 굿',\n",
              " '주인공 하나 하나 알 가다 장면 주인공 시점 관점 하나 달라지다 마다 대단하다 장면 아니다 정말 기분 좋다 소름 느끼다 있다 소설 써다 정말 명작',\n",
              " '거 후속작 나오다 또 나오다 같다 느낌',\n",
              " '토 하다',\n",
              " '진짜 명품 드라마',\n",
              " '마지막 어째서 소지섭 가다 하다 생각 계속 생각 해봤다 은 배우 로써 재미 보다 이제 조폭 인생 마감 하고프다 생각 그렇다 생각 되다 자기 자신 끝 그렇다 모습 가다 나다 같다 생각',\n",
              " '영화 참으로 매력 있다 컨셉 영화',\n",
              " '주말 영화 영화 최고 이다 젠 보지',\n",
              " '평점 점',\n",
              " '수상한',\n",
              " '편 보다 보다 편 점 만점 주다 모자라다',\n",
              " '힘 없다 편이 가르다 못 짓다 세기 별 다르다 없다',\n",
              " '도식 이다 한계 없다 뿐더러 이현우 영화 몰입 하다 없다',\n",
              " '간만 보다 한국영 중 수작 수작',\n",
              " '견자단 데리 만들다 진짜 게다가 머리스타일 끼다 정말',\n",
              " '열왕기하 읽다 보다',\n",
              " '감동',\n",
              " '막다 들다 군 바리 어떻다 괴롭히다',\n",
              " '니 이제 아주 막다',\n",
              " '내 인생 영화 해주다 있다 무인도 가져가다 단 한편 영화',\n",
              " '지나치다 비현실적 괴리감 크다 결정 방 대체 언제 하다 끝나다',\n",
              " '선정 거나 자극 내용 아니다 가슴 따뜻하다 정감 가다 드라마 좋다',\n",
              " '편 수준 기대하다 보다 스토리 난잡하다 재미 없다 결정 다음 편 보다',\n",
              " '돌리다 액션 보다 되다 스케일 크다 없다',\n",
              " '숨기다 명화',\n",
              " '점 점 줌 재밌다 봄',\n",
              " '거 어리다 보고 오늘 사서 엄마 보다 역시 명화 덥다',\n",
              " '외치다 갓 토르 그냥 노잼 이어도 점 주다',\n",
              " '어거지 빠뜨리다 마무리 짓다 한심하다 역량 작품',\n",
              " '보다 뭐 하다',\n",
              " '다큐멘터리 줄 알다 영화 정말 자다 보다 눈물 멈추다 않다',\n",
              " '어른 보기 좀 잔잔하다 아들 재미있다 집 돌아오다 인형 까맣다 칠하다 블랭키 만들다 자다 역시 아이 상상력 어른 차이 있다 느끼다',\n",
              " '어떻다 오락 영화 던 이상 보여주다 그것',\n",
              " '소장 하다 비디오테잎 누가 빌리다 가다 행불 보다',\n",
              " '감동',\n",
              " '그렇다',\n",
              " '재밌다 마음 훈훈하다 영화',\n",
              " '뭐라다 은 가족 랄 끄다 감동 안타깝다 기도 아릿하다 느낌',\n",
              " '정도 물 빨다 교만하다 나태하다 런던 올림픽 죽 쑤다 버리다 대한민국 대표팀 미달 팬 관심 사랑 부담스럽다 그렇다 김연아 어째서 팬 관심 사랑 즐기다 알다 거지 뭐 부담스럽다 누님 정신 문제',\n",
              " '평점 낮다 왠만하다 올려주다 하다 이건 아니다',\n",
              " '보다 어떻다 찍다 생각',\n",
              " '제 보다 최고 액션영화 다섯손가락 들어가다 액션영화 하다 영화 먼저 생각나다 최고 영화',\n",
              " '획기 영화',\n",
              " '호화 캐스팅 지루하다 전개 한마디 루 루 이다',\n",
              " '홍보 되다 인기 능가 하다 껀데',\n",
              " '감동 있다 자다 봣습니',\n",
              " '모 재밌다 건지다',\n",
              " '점수 높다',\n",
              " '최악',\n",
              " '정말 소름끼치다',\n",
              " '청춘 시트콤 표본 이자 스타 등용문 서막',\n",
              " '로빈 윌리엄스 역시 명품 배우다',\n",
              " '좋다 나다 재미없다 유치 찬란하다 모르다 보다 짜증나다 채널 돌리다',\n",
              " '한숨',\n",
              " '누군가 잔인하다 느낌 다가오다 좋다 오늘 방송',\n",
              " '피 마르 소가 아니다 평점 점 짜다 영화',\n",
              " '빈약하다 스토리 빈약하다 각본 빈약하다 연출 빈약하다 그래픽 보다 정신 빈약',\n",
              " '징편 단편 스럽다 생명 가지 장난',\n",
              " '최고다 배트맨 비긴즈 바교 아니다 배트맨 내 알다 론 크다 늘다 없다 는걸 알다 케릭 터 하나 하나 쨋 베트맨 잼슴',\n",
              " '성우 어린이 게 쉬다 리얼리티 살리다 위해 건아',\n",
              " '시간 아깝다 지루함 극치 절대 보지 말다 점도 아깝다',\n",
              " '정말 소름끼치다 영화 강추',\n",
              " '제이크 질렌할 몰입 되다 봄',\n",
              " '아이엠 그렇다 내 좋아하다 가수 보다 케이팝 함덕 소름 정말 쫙쫙 돋다 감동 적다 다큐멘터리 식이 상영 관 별로 없다 보기 좋다 걸 도 돈버는건 젠 뭐라다 할기다 없다 난 좋다 셈 봉사',\n",
              " '점 헤헤 시내 헤세 헤',\n",
              " '산티아고 만 시 보다 짜릿하다 영화',\n",
              " '가슴 따뜻하다 영화',\n",
              " '주인공 매력 않다 스토리 듯',\n",
              " '약간 비약 있다 정말 좋다 영화 이다',\n",
              " '잊혀지다 하다 떠오르다 영화 분명 영화 날 홀린 게 분명하다 볼 동안 여운 갈다 않다',\n",
              " '거 정글 법칙 탐험 다니다 거 내 보고 있다 이제 무슨 먹방 찍다 집밥 먹다 돌아다니다 재미없다',\n",
              " '오래되다 낡다 공포 기법 조악하다 새 룰 적용 해봤다',\n",
              " '짐 캐리 영화',\n",
              " '아바타 아래 안되다 나다 당시 광고 보다 땐 류 작다 알다 지금 마케팅 업체 엉망 듯 싶다 비슷하다 영화 아바타 전개 억지스럽다 있다 영화 짜임새 치밀하다 적극 추천',\n",
              " '뻔하다 악당 뻔하다 결과 대체 왜 아버지 친구 항상 배신자 거지 슈레더 그냥 인간 이상하다 쎄다 뿐',\n",
              " '당시 세대 좋다 향수 일으키다 있다 추억 남다 기념',\n",
              " '내용 진부하다 참고 보기 힘들다 그냥 감독 만들다 영화 같다 한마디 내용 없다 뜻',\n",
              " '점도 아깝다 네이버 평점 사기 위로 꼽 싶다 영화 류 순정만화 더 허다 접 영화',\n",
              " '재미있다 영화 소소하다 감동 있다 영화',\n",
              " '김정훈 연기 진짜 새다',\n",
              " '완전 쓰레기 영화 이다 스릴러 초 절정 예산 허다 접 시나리오 영화 정말 시간 아깝다',\n",
              " '',\n",
              " '한정 되다 공간 때문 비행기 선택 하다 뭘 건지다 위급하다 긴장감 개뿔 신사 다운 머피 후반 홀로 집 연상 시키다 결투 씬 머 저리 약하다 머피 제이슨 보다 같다 레이첼 정말 후반 부 개 웃기다',\n",
              " '진짜 영화 로안 좋아하다 티비 보다 없다 채널 돌리다 보다 댐 진짜 재밌다 보다 개쩌 영화',\n",
              " '내 인생 최악 두번째 있다 영화',\n",
              " '평점 조절 위원회',\n",
              " '미국 휴머니즘 세계 뻗다 나가다 시작 하다 증거 뻔하다 감동 없다',\n",
              " '따뜻하다 영화',\n",
              " '인내 필요하다 영화',\n",
              " '도공 끌 고간 아니다 도공 가르치다 가다 거기 남다',\n",
              " '일베 평점 억지로 높이다 영화 공통점 남자 평점 를 차지',\n",
              " '영화 진짜 재다 옛날 학교 보다 화표 값 아깝다 느껴지다',\n",
              " '놈놈놈 따위 비교 불허 하다 최고 서부 영화',\n",
              " '이은주 출연 영화 가장 해피엔딩 영화 따뜻하다 영화',\n",
              " '안타깝다 연출 조금 더 나다 나름 잔잔하다 명작 되다 있다',\n",
              " '베드씬 기억 남다 영화',\n",
              " '피해자 아픔 가해자 심리 묘사 남 같다 않다 감동 영화',\n",
              " '약간 병맛 만 재미있다 제목 걸 지다 더 인기 있다 같다',\n",
              " '놓다 쓰레기',\n",
              " '정말 킹왕짱 영화',\n",
              " '닭살 내용 없다 감동 없다',\n",
              " '헐다 걸 영화 장난 치',\n",
              " '재미 감동 멋지다 댄스',\n",
              " '천국',\n",
              " '쓰리다 디 보다 하다 영화 볼 만 해 동굴 안 벽화 생생하다 보이다',\n",
              " '영화',\n",
              " '쓰레기 만들다 고생 하다',\n",
              " '성인 점수 주다 없다 유치하다 다만 아이 눈높이 어떻다 모르다 난 순수하다 잃다 성인 입장 유치 뽕짝 영화 임',\n",
              " '낯선 자신',\n",
              " '다르다 모르다 연기 정말 하다 스텔론 형 못 않다',\n",
              " '정말 좋다 드라마 박시후 멋있다 박시후 나오다 거의 보다 청담동앨리스 게 같다',\n",
              " '꼭 보다 진짜 짱',\n",
              " '',\n",
              " '관객 조롱 영화 정말 기분 빳',\n",
              " '아이 아빠 잘봣어',\n",
              " '다문화 가족 바라보다 시선 바뀌다 하다 바꾸다 없다 유전자 가지다 가문 가정 아이 차갑다 눈 바라보다 서다 안되다 화보 내내 가슴 먹다 먹다 하다',\n",
              " '극장 보다 하다',\n",
              " '용이 지루하다',\n",
              " '노래 종',\n",
              " '더럽다 재미없다 드라마 언제 끝나다 배우 불쌍타',\n",
              " '세대 간의 이해만이 아니다 사랑 이해 가족 애등 아우르다',\n",
              " '설정 자체 황당하다 영화 어설프다 로맥 에스에프 영화',\n",
              " '나름 볼 하다',\n",
              " '삼',\n",
              " '잔잔하다 음악 후반 부 크다 재미 드러내다 영화 좋다',\n",
              " '장동민 젤 웃기다 같다',\n",
              " '별로',\n",
              " '명작',\n",
              " '시각 따르다 다르다 역겹다 혐오 영화 풍자 좋다 꼭 이렇다 식 수준 표현 되다 역겹다 인간 얼굴 절 대악 표현 성우 오버리엑팅 시도 나오다 노래 눈살 찌푸리다 만들다',\n",
              " '재밌다 보다 몸',\n",
              " '점도 많다 일본인 미국인 바뀌다 또 있다',\n",
              " '재미 업다 왜케 길다 상영 시간 길다 더 공포',\n",
              " '영화 다큐멘터리 아니다 이건 좀 아니다 감정 과잉 웃음 뭔가 집중 안 돼다 별 개 배우 때문 줌',\n",
              " '미스김 가다 박다 따라가다 당연하다 아니다 짱',\n",
              " '짧다 런닝타임 담기다 기다 여운',\n",
              " '사회 담다 노력 드라마',\n",
              " '그냥 답답하다 화보 내내 우울하다 분위기',\n",
              " '최고 최고 최고 최고 번만 더 틀어주다 삼',\n",
              " '힐링 받다 싶다 정주 행해',\n",
              " '좋다 코믹 있다 생각 해보다 되다 있다 편위점 알바 해보다 적다 공감 가다 있다',\n",
              " '이영화 보다 봣는데 쓰례기 멀다 갑자기 예언 치다 나오다 멀다 재난영화 욕 나오다 진짜 리뷰 처음 써다 보다',\n",
              " '웃기 재밌다 감동 와중 송승헌 잘생기다 엄정화 예쁘다',\n",
              " '머 이르다 우주선 안 중력 해제 되다 상태 빨갛다 불 나다 크다',\n",
              " '감독 진지하다 연출 배우 열연 플러스 되다 결말 자폭 김민준 카리스마 멋있다 허세 기운 조연 연기 깨알 같다 점 상승 영화 보다',\n",
              " '영화',\n",
              " '블랙코미디 존나 꿀잼 배우 완전 초 호화 캐스팅 임',\n",
              " '정말 어지간하다 좀 하다 자중 나서다 점점 보기 시르다 다른 방송사 드라마 정말 스토리 전개 뻔하다 무슨 미리 예상 데 보다 드라마',\n",
              " '딸 연기 오버 연기 어쩌 하다 분 뭐 난 진짜 실감 있다 정말 리얼 하다 연기 하다 생각 하다 당신 상황 놓이다 저러다 않다 생각 하나 더하다 더하다 덜하다 않다',\n",
              " '점 반개 아깝다 내용 없다 약간 중간 갈팡질팡 하다 그렇다 스릴 있다 저스틴 연기 부족하다 각본 연기 연출 망하다 영화',\n",
              " '톰크루즈 잭 니콜슨 명연기 잭니콜슨 내 범죄 자라다 나오다 내 부하 지키다 덕분 너희 편하다',\n",
              " '정말 의미 있다 영화 좋다 주제 자다 찍다',\n",
              " '대단하다 이렇다 영화 점',\n",
              " '이렇다 영화 최고 영화 이다',\n",
              " '총알 탄사 나이 재미 느끼다 힘들다',\n",
              " '완전 내 스타일 샤를 리즈 테론 여신 아름답다 스토리 아주 꿀잼 이다 왜 평가 낮다',\n",
              " '난 재미없다 여주 이쁘다',\n",
              " '넘어가다 남자 주인공 어리다 버리다 미그 거리 거 왜 화나다',\n",
              " '하나 아깝다 홍진호 때문 주다',\n",
              " '영화 왜 잡음 심하다 건지다 내용 비다 부실하다 하다',\n",
              " '불륜 싫다 영화 도대체 싫어하다 없다',\n",
              " '좋다 열자',\n",
              " '지나가다 여자 버스 잡다 아니다',\n",
              " '반전 만들다 관객 놀래다 키 려고 노력 하다 리얼리티 떨어지다',\n",
              " '우리나라 적국 이야기 아니다 전쟁 고통 알다 준 영화 생각 되다 중국군 이야기 아니다 그냥 군인 이야기 생각 되다',\n",
              " '사과 사과',\n",
              " '개연 없다 결말',\n",
              " '역시 아따 마마 진',\n",
              " '스토리 평이하다 자동차 씬 화려하다',\n",
              " '마이너스 점 왜 없다',\n",
              " '슬프다 쌀밥 찾다',\n",
              " '임 웃기다 감동',\n",
              " '감독 하다 하다 무엇 알 없다 영화 귀신 등장 하다 설정 산만하다',\n",
              " '점 주다 야하다 내 창피해',\n",
              " '캐릭터 처음 못자다 원작 따라가다 지경 아니다',\n",
              " '정말 불편하다 안좋다 면 다루다 불편하다',\n",
              " '좋다 마무리 조금 아쉽다 기분 좋아지다 영화',\n",
              " '돈',\n",
              " '투니버스 보다 만족하다',\n",
              " '액션 영화 지루하다 얘기 끝나다 아니다 도입 부 흥미롭다',\n",
              " '제목 때문 삼류 영화 타이틀 같다 내용 알차다 스릴러 물 요즘 덱스터 나오다 데스몬드 리즈시절 모습 보다 있다',\n",
              " '이건 아니다 딸 찾기 위해 버리다 미아 찾기 운동 하다 열성 엄마 딸도 보다 죽다 만들다 엄마 죽다 급 몰입도 떨어지다 범인 여기저기 여기다 단서 남기다 못자다 현실 떨어지다',\n",
              " '이렇다 애니 처음 반갑다 오인용 식구 목소리',\n",
              " '보다 약인 영화 이렇다 영화 보다 뭔가 알다 느끼다 싶다 않다 느끼다 속이다 울렁거리다 영화 내 보다 느낌 표현 하다 길가 많다 양 구토 물 보다 느낌 구토 뭘 먹다 궁금하다 않다',\n",
              " '',\n",
              " '평점 낮다 놀라다 개봉 당시 영화관 번 보고 소장 작품 영화로 김지운 감독 주목 받다 헐리우드 진출 하다 대작 이다 한국 이렇다 영화 나오다 감사하다 작품',\n",
              " '잠도 아깝다 제대로 되다 하나 없다 기대다 하다 정도 뭐 대체 피시 셍긱 잇다 건지다 심 김대희 분량 없다 병풍 하다 분 계시다 전 김대희 주먹 쥐 몇번 손가락 올리다 모르다 욕 하다 막말 모습 싫엇어',\n",
              " '전작 보고 기대하다 실망 가득하다 영화',\n",
              " '어리다 애 나오다 공포물 거의 재미 없다',\n",
              " '명작 이다 꼭 보다 공백 자',\n",
              " '정말 영화 만들다 색 지도 영화감독 어디가 떠들다 다니다 평점 최소 점 주다 이건 정말 쓰레기 도 쓴다 에이 퉤퉤',\n",
              " '게 영화',\n",
              " '이영화 점 대가 적정하다 생각 하다 연기 좋다 스토리 좋다 몰입 감 떨어지다 뭔가 억지 끌다 느낌 이다',\n",
              " '평점 보고 보다 정말 큰코다치다 최고 지루함',\n",
              " '생각 나서다 처음 네이버 영화 평 올리다 정말 어리다 배우 유명 세 기대다 흥행 하다 모르다 나중 친구 연기 대해 눈 조금 뜨다 되어다 자신 흑역사 기억 하다 영화 아니다 싶다',\n",
              " '재다',\n",
              " '영화 야동',\n",
              " '영화 끝 난후 텅 비어 버리다 가슴 진실 왜곡 되다 정치 이념 송가',\n",
              " '이렇다 영화 그냥 점임 저 위 포스터 도대체 누가 만들다 파스텔 톤 사랑 영화 아니다',\n",
              " '이렇다 영화 만들다 이유 모르다',\n",
              " '결론 뭐',\n",
              " '누구 겪다 삶 대한 많다 이슈 일상 이면 유머러스하다 전개 편안하다 감동 만들다 영화 같다 기분 좋아지다',\n",
              " '행복 아메바 단순화 시킴 또한 여행 작위',\n",
              " '최고 연기력 기획 이영애 최고',\n",
              " '용이 없다',\n",
              " '자토이치 짝퉁 이군 어이 없다',\n",
              " '쓰레 영화 전작 제대로 먹다 칠',\n",
              " '호주 살다 만들다 영화',\n",
              " '보고 느끼다 점수',\n",
              " '비디오 보지 그냥 오씨 보다 나다',\n",
              " '지금 보다 웃음 격 세지 감',\n",
              " '심심하다 볼',\n",
              " '우리나라 영화 후진국 이다 어떻다 저런 연기 동시 나오다 영화 이다 로',\n",
              " '평점 조작 단아 장난 치 말다',\n",
              " '볼 땐 다슬 차다 사랑스럽다 두번째 볼땐 다슬 가족 차다 좋다 분 세번 볼땐 내 가족 있다 그대로 모습 보다 생각 들다 다슬이 계속 보다',\n",
              " '시작 좋다 끝 흐리다 멍텅 반전 집착 하다 샤말란',\n",
              " '숨막히다 사랑 정말 슬프다 아름답다',\n",
              " '왜 박하선 복수 하다 이해 안되다 오히려 권상우 더 피해자 같다 남편 믿음 없다 생각 드네',\n",
              " '이르다 저러다 않다 오락가락 스릴러',\n",
              " '후세 걸작 재 조명 시키다',\n",
              " '난 보다 에로영화 줄 알다 게 네이버 올라오다',\n",
              " '감정 골 패 생기다 마음속 주름 세월 흔적 보이다 얼굴 위 주름 과 하다 인위 펴다 부자연스럽다 움 피 하다 없다',\n",
              " '대감 크다 타다 명성 먹다 영화',\n",
              " '최고',\n",
              " '',\n",
              " '내 왜 걸 더 지나다 보다 되다 걸다 땐 초등학교 학년었 차다',\n",
              " '진짜 추억 돋다',\n",
              " '',\n",
              " '영국영화 상당하다 독특하다 스토리 있다 영화 로서 재미 장편 독립영화 아니다',\n",
              " '쓰레기',\n",
              " '정의 위해 일단 보다 신선하다 충격 이렇다 영화 평생 보기 힘들다',\n",
              " '정말 인생 최고 영화',\n",
              " '거 다운 받다 세기 반대 영화인 줄',\n",
              " '평 남기다 보다 영화 똑같다 알바 좀 티 안나 하자',\n",
              " '산뜻하다 반란 빵 필요하다 장미 원하다',\n",
              " '더 필요하다 믿다 보다 일본 애니 아니다',\n",
              " '영화 내 검색 이유 감독 또 만들다 데이트 때문',\n",
              " '야구 란 거 하다',\n",
              " '무엇 쇼킹 건 이영화 네이버 평점 아버지 원수 아버지 같다 마음 품다 되다 영화 전반 부의 암스테르담 고뇌 참으로 훌륭하다 심리전 영화 전체 지루하다 않다 화전 스케일 고루 만족스럽다 영화',\n",
              " '홍번구 비다 액션 약하다 성룡 역시 즐겁다 해주다',\n",
              " '정말 재밌다 자',\n",
              " '서정 세계 빠져들다 싶다',\n",
              " '고스 터 버스터 느낌 수작',\n",
              " '좋다',\n",
              " '죽음 통한 소녀 성장 다루다 블랙 코미디',\n",
              " '진심 거지 나라 개봉 왜 거임',\n",
              " '영화 이보 더 자다 만들다 있다 않다 유덜 캐롤 성격 더 이상 해보다 참신하다 없다 흔하다 빠지다 로맨스 물 평점 높이 주다',\n",
              " '감독 연출 부재 좋다 소재 아버 린다',\n",
              " '',\n",
              " '상 받다 좋다 하다 하다 같다 압박 감 벗어나다 없다',\n",
              " '별로 무섭다',\n",
              " '',\n",
              " '영구 맹구 람보 코만도 를 만들다 게 더 낫다',\n",
              " '어설프다 스릴러 어설프다 코 메다 어설프다 데미 무어',\n",
              " '어린이 채널 용 드라마 같다 응응씬 남발 하다',\n",
              " '',\n",
              " '평이하다 로맨틱 코 메다 행크스 늙다',\n",
              " '끄다 끄다 울면 보다 영화 정말 다시 한번 보고 싶다 정말 진심 다시 한번',\n",
              " '닥터 호의 아픔 절실 느껴지다 영화 이다',\n",
              " '무법자 천상천 유아 독쫑 이란 제목 더 어울리다 영화',\n",
              " '괴상하다 심심하다 영화 갑자기 뭐 이하 뭐 하나 제대로 하다 없다 영화 베네치아 풍경 볼 함',\n",
              " '지금 보다 한국 공포영화 내용 꽤 신선하다 재미있다 영화 이다 참고 내용 이해 하다 싫어하다 무조건 피터지다 때리다 잡다 좀비 영화 같다 좋아하다 별로 좋아하다 스토리 위주 영화 보시 분 재미있다 같다',\n",
              " '뭐 허다 접다',\n",
              " '장정일 원작 로티 즘 가득',\n",
              " '만화 보다 유치하다 하다 차다 재미있다 보다 드라마 이기',\n",
              " '궁극 러브 스토리 내 생애 최고 드라마 다모 폐인 영원하다 잊다 않다 이다',\n",
              " '쓸데없다 대사 개연 없다 시퀀스 콘티 촬영 하다 짜다',\n",
              " '평점 점 짜다 개 알바 좀 가라',\n",
              " '음악 쌤 보여주다 진짜 짱 영화',\n",
              " '만 감동 화이자 부모 이기심 섞이다 되다 사랑 대해 다시 생각 해보다 꼭 자신 낳다 아이 아니다 아이 원하다 부모 사랑 주다 정말 감동',\n",
              " '쓰레기 영화 이다',\n",
              " '백인 우월 주의 떄문 중간 보다 껏 미국 꼭 이렇다 성향 있다',\n",
              " '정말 재미있다 학교 보다 가족 모두 보여주다 싶다',\n",
              " '영화 보다 중간 끄다 버리다 건 처음 온갖 흥행 요소 짜깁다 기해 난잡하다 내용 없다',\n",
              " '점 짜다 영화',\n",
              " '이렇다 영화 있다 사실 감사하다',\n",
              " '재 밋엇 오오오오 몽',\n",
              " '그렇다 점',\n",
              " '만발',\n",
              " '쇼 밉다 더 멀다 왜 하다 가요 힙합 보여주다 하다 아니다 롹 롹 힙합 아니다 자다 점점 더 산 가다 쇼 밉다 더 멀다',\n",
              " '좋다 저 밑 우리나라 사형제 폐지 돼다 하다 폐지 된거 아니다 다만 형 집행 계속 시행 하다 않다 있다 뿐',\n",
              " '좋다 우마 소 사랑스럽다',\n",
              " '진짜 문채원 이렇다 연기 맘 에드 영화 한편 더 찍다 뭉클하다 영화 이다',\n",
              " '넘다 재밌다',\n",
              " '화려하다 휴가 웃기다',\n",
              " '독일 왕실 보석 둘러싸다 소소하다 두뇌 싸움',\n",
              " '동화 같다 내용 트리스탄 멋있다 난 개인 셰익스피어 선장 굉장하다 좋다',\n",
              " '아니다 왜 우리나라 얘기 없다',\n",
              " '진짜 내용 유치하다 작가 발 쓰다 연기자 대본 보고 손발 오그라들다 초반 스토리 가면 갈수록 진부하다',\n",
              " '최오 재다 애니 이예',\n",
              " '원작 비다 캐릭터 이야기 따뜻하다 가슴 모두 부족하다',\n",
              " '꿀잼 진짜 개잼 꿀잼 핵잼',\n",
              " '바보 연기 정말 리얼 하다 해내다 홍금보 박수',\n",
              " '송지효 짱',\n",
              " '예전 지금 별로 영화 신선하다 좋다 음향 엉망 볼륨 조절 실패 송학 림 얘기 하다 땐 볼륨 최대로 맞추다 변희봉 장량 하다 땐 볼륨 프로 되다 사운드 볼륨 크다 한국영 한국말 자막 필요하다 실패 작',\n",
              " '흐 하하 재밌다 제시카 알바 왜 예쁘다',\n",
              " '소재 신선하다 연출 연기 각본 모두 이하 맥 아리 없다 영화',\n",
              " '달 가치 가업',\n",
              " '상상 공간 별다르다 없다',\n",
              " '진짜 김신 아나운서 미래 엮지 주랑 미래 엮이 해주다',\n",
              " '시간 아깝다',\n",
              " '로 환타 무슨 난쟁이 똥 자루 여배우 나나 서다 울다 눌 반의 도안 섹시',\n",
              " '꼭 한번 쯤 보다 하다 영화인 듯 현 나라 상황 보다 오버 랩 되다',\n",
              " '부활 마니아 이렇다 많다 그거 비다 재방송 거의 하다 듯 살 인생 전무후무 최고 걸작',\n",
              " '진짜 손가락 안 들다 영화',\n",
              " '긴장감 떨어지다 반전 힘 약하다 듯',\n",
              " '잘만 드라마',\n",
              " '약하다 주제 의식 반전 법정씬 더 스릴 있다 하다',\n",
              " '',\n",
              " '과장 되다 연기 장황하다 서술 점점 지치다 만가 여정',\n",
              " '작가 돌아가다 친구 뜻 작품 이다 받다 쓰다 계시다 취지 높다 살다 작품 통해 다시 한번 깨달 건 남 작품 받다 쓰다 아니다 거 대부분 다망 치다 버리다 아예 드라마 되다 끝 갈수록 뭘말 하다 모르다 재미 없어지다',\n",
              " '키티 사소설 영화 편견 강하다 만들다 준 영화 들다 쉬다 긍정 변하다 쉬다 희망 찾다 희망 강요 받다 괴롭다 하다',\n",
              " '결말 침몰 하다 점 주다',\n",
              " '외계인 바보 나오다 기술 종 좋다 머리 멍청이',\n",
              " '어떻다 영화 쇼크 이다 일생 동안 번 다시 보고 싶다 않다 저주 받다 걸작',\n",
              " '최고',\n",
              " '보다 언제 개봉',\n",
              " '평점 았음 그냥 점 정도 애니',\n",
              " '현실 있다 영화 자신 알라',\n",
              " '동심 따윈 없다',\n",
              " '이준기 실컷 보다 좋다',\n",
              " '이다 박치기',\n",
              " '볼 코미디 영화 싸다 티나 포스터 제목 때문 안보 돼다',\n",
              " '명화 평점 점 제 점 올려주다 가다',\n",
              " '상미 여자 성장 크리스마스',\n",
              " '뭐 끝 조금 지루하다 곧 절정 재밌다 하다 절정 없다',\n",
              " '재미있다',\n",
              " '영화 나쁘다 않다',\n",
              " '나오다 신기하다 영화 볼때 자다 수년 나다 이정 도급 영활 만들다 믿다 보다 베이 감독 나쁘다 녀석 같다 영환 알라 줫만 초딩',\n",
              " '예전 우울하다 힘들다 새벽 영화 보다 정말 마음 따다 해지 완전 힐링 되다 느끼다 뜻밖 장소 뜻밖 인연 대리 만족 제대로 하다 아주 재밌다 영화',\n",
              " '찰리채플린 생각나다 하다 영화',\n",
              " '이건 뭐 생략 심하다 영화인 같다',\n",
              " '재밋 보다 자기 주관 매 기다 평점 따라가다 아니다',\n",
              " '지금 내용 몰다 여자 섹시하다 과격하다 싸우다 뿐',\n",
              " '영화 를 따라가다',\n",
              " '진짜 개 졸작 뭐 영화 있다 이야기 허무맹랑 하다 하다 뿐',\n",
              " '음 안습 무플',\n",
              " '무간도 신세계 각각 장점 있다 뭘 무간도 비 하다 쓰레기 찌끄레기 난리 치다 보다 대부 비 하다 역시 찌꺼기 불과하다 점 주다 간다 영화 최대 단점 삼합회 덜 떨어지다 빠들 양산',\n",
              " '안습',\n",
              " '다시 한번 되새기다 하다 여전하다 좋다 쿠보즈카 눈빛',\n",
              " '솔직하다 쓰다 호러 공포 매니아 보다 거의 없다 점 대가 맞다 같다 우선 흔하다 소재 흔하다 귀신 흔하다 구성 색다르다 전혀 없다 귀신 찍다 귀신 귓 바람 한번 불다 패닉 빠지다 허둥대다 꼴 망',\n",
              " '영화 옛날 비디오 영화 비슷하다 연기 꽝 필름 아깝다 제대로 만들다 언플 좀 해 짜증 눈 버리다',\n",
              " '익숙하다 걸 잊다 살다 보여주다 야하다 영화',\n",
              " '더빙 배우 써다 괜찮다 영화 망치다',\n",
              " '극장 보다 꼭 이번 나오다 네 압니 일판 사다 보실 위해 스포일러 자제 하다 극장 꼭 보다',\n",
              " '보다 되다 영화 부모님 사랑 이만 기적 보다 누구 꼭꼭 보다 하다 짱짱',\n",
              " '정말 재밌다 보다',\n",
              " '두번째 에피소드 약간 부족함',\n",
              " '어리다 적 추억 담기다 만화 어느새다 어리다 적 꿈 실어 준 추억 되다 버리다',\n",
              " '문모 감독 의도 영 재미 느끼다 없다',\n",
              " '웬만하다 선 점 주다',\n",
              " '교복 찢다 하다 너무하다 고 차다 살 하얗다 애',\n",
              " '편 비 하다 위엄 떨어지다 편 간지 좔좔 이다 편 개그 영화 같다',\n",
              " '비틀 쥬스 보다 느낌 영화 좋다',\n",
              " '마음 따뜻하다 영화 강추',\n",
              " '점도 아깝다',\n",
              " '웃다 웃다 아니다 아니다 웃 없다 영화 역시 킬 리언',\n",
              " '재미없다 별로',\n",
              " '왠만하다 재주 영화 명함 못 내미다',\n",
              " '근래 영화 제일 자다 만들다 같다 그래픽 화려하다 내용 탄탄하다',\n",
              " '정말 지루하다 쉬다 만들다 영화',\n",
              " '난 재밌다',\n",
              " '객관 관련 없다 감동 받다 만들다 이건 도통 잔치',\n",
              " '베컴 지단 피구 볼 있다 즐겁다 두번째 이야기 나오다 여자 축구선수 정말 아름답다 여성 실제 축구선수 이다 로 기억 하다 평점 바셀팬 깍 간 걸다',\n",
              " '장난 끄다 동네 아치 고삐 리 비디오 카메라 주다 영화 하나 찍다 오다 거 나다 영화 영화',\n",
              " '긴박하다 래서 자살 택하 걸 알다 무게 견디다 스스로 목숨 끊다 않다 주인공 대단하다 생각 마저 들다 나다 어땟을까 생각 들다 몰입 되다 있다 잘만 세기 마지막 하다 영화',\n",
              " '어색 유치 소재 좋다 결정 재미 없다',\n",
              " '디젤 개똥폼 잡고 디아블로 란 존재도 멋지다 않다',\n",
              " '밋밋하다 하다 없다',\n",
              " '용 못 쓰다 영화',\n",
              " ...]"
            ]
          },
          "metadata": {},
          "execution_count": 194
        }
      ]
    },
    {
      "cell_type": "code",
      "source": [
        "train_data['document']"
      ],
      "metadata": {
        "colab": {
          "base_uri": "https://localhost:8080/"
        },
        "id": "V9t-UgtkGHEn",
        "outputId": "084985e7-3146-4098-c87f-c1b5a518aa21"
      },
      "execution_count": 190,
      "outputs": [
        {
          "output_type": "execute_result",
          "data": {
            "text/plain": [
              "0                                                     굳 ㅋ\n",
              "1                                    GDNTOPCLASSINTHECLUB\n",
              "2                  뭐야 이 평점들은.... 나쁘진 않지만 10점 짜리는 더더욱 아니잖아\n",
              "3                        지루하지는 않은데 완전 막장임... 돈주고 보기에는....\n",
              "4       3D만 아니었어도 별 다섯 개 줬을텐데.. 왜 3D로 나와서 제 심기를 불편하게 하죠??\n",
              "                              ...                        \n",
              "9995              공항 셔틀버스 출입로는 cctv 다 있고 등록제인데, 안들킨게 비현실적\n",
              "9996    뜬금없는 좀비의 출현... 개연성 없는 스토리... 좀비 영화의 바이블이라기에는 개...\n",
              "9997                                           개노잼1111222\n",
              "9998                                         평론가평점에 맞춰보자자\n",
              "9999    유재석도 유재석이지만 애니영화 중 이렇게 강한 메시지를 줄수있는 영화가 있을까? 솔...\n",
              "Name: document, Length: 10000, dtype: object"
            ]
          },
          "metadata": {},
          "execution_count": 190
        }
      ]
    },
    {
      "cell_type": "code",
      "source": [
        "# train_X : (input_ids, attention_masks, token_type_ids), train_y : data_labels\n",
        "train_X, train_y = convert_examples_to_features(X_train_se, train_data['label'],\n",
        "                                                max_seq_len=max_seq_len, tokenizer=tokenizer)"
      ],
      "metadata": {
        "colab": {
          "base_uri": "https://localhost:8080/"
        },
        "id": "gQIpU-B7BJ6E",
        "outputId": "b3839785-eb12-40ca-810d-726a37ad1182"
      },
      "execution_count": 197,
      "outputs": [
        {
          "output_type": "stream",
          "name": "stderr",
          "text": [
            "  0%|          | 0/10000 [00:00<?, ?it/s]/usr/local/lib/python3.10/dist-packages/transformers/tokenization_utils_base.py:2393: FutureWarning: The `pad_to_max_length` argument is deprecated and will be removed in a future version, use `padding=True` or `padding='longest'` to pad to the longest sequence in the batch, or use `padding='max_length'` to pad to a max length. In this case, you can give a specific length with `max_length` (e.g. `max_length=45`) or leave max_length to None to pad to the maximal input size of the model (e.g. 512 for Bert).\n",
            "  warnings.warn(\n",
            "100%|██████████| 10000/10000 [00:16<00:00, 615.28it/s]\n"
          ]
        }
      ]
    },
    {
      "cell_type": "code",
      "source": [
        "test_X, test_y = convert_examples_to_features(X_test_se, test_data['label'], max_seq_len=max_seq_len, tokenizer=tokenizer)"
      ],
      "metadata": {
        "colab": {
          "base_uri": "https://localhost:8080/"
        },
        "id": "mULM9iAUBLSc",
        "outputId": "8e8c48a7-604a-41f7-fce5-c5e17035f241"
      },
      "execution_count": 121,
      "outputs": [
        {
          "output_type": "stream",
          "name": "stderr",
          "text": [
            "100%|██████████| 3000/3000 [00:02<00:00, 1250.15it/s]\n"
          ]
        }
      ]
    },
    {
      "cell_type": "code",
      "source": [
        "train_X[0][0] # 단어 인코딩\n",
        "train_X[1][0] # 어탠션 마스크\n",
        "train_X[2][0] # 세그먼트 인코딩\n",
        "train_y[0] # 레이블"
      ],
      "metadata": {
        "colab": {
          "base_uri": "https://localhost:8080/"
        },
        "id": "YcdIhFRbBNeN",
        "outputId": "b5914eae-18f1-4cba-cc07-0953672378a9"
      },
      "execution_count": 209,
      "outputs": [
        {
          "output_type": "execute_result",
          "data": {
            "text/plain": [
              "1"
            ]
          },
          "metadata": {},
          "execution_count": 209
        }
      ]
    },
    {
      "cell_type": "code",
      "source": [
        "train_data['document'][0]"
      ],
      "metadata": {
        "colab": {
          "base_uri": "https://localhost:8080/",
          "height": 35
        },
        "id": "_VRjXYVnBODu",
        "outputId": "15a993e3-046d-4d10-afd6-aae653b1d9ea"
      },
      "execution_count": 210,
      "outputs": [
        {
          "output_type": "execute_result",
          "data": {
            "text/plain": [
              "'굳 ㅋ'"
            ],
            "application/vnd.google.colaboratory.intrinsic+json": {
              "type": "string"
            }
          },
          "metadata": {},
          "execution_count": 210
        }
      ]
    },
    {
      "cell_type": "code",
      "source": [
        "# BERT 출력구조 이해 : 한국어 BERT 모델을 로드\n",
        "model = TFBertModel.from_pretrained(\"klue/bert-base\", from_pt=True)"
      ],
      "metadata": {
        "colab": {
          "base_uri": "https://localhost:8080/",
          "height": 160,
          "referenced_widgets": [
            "8eae1090d20e45748ac9eb5992c76fd5",
            "4598ec43d32b45678359196f2e1c7425",
            "23695eb0bd2c4c25b297dfaf2fdb4a05",
            "0459880285474b16924b37f7fbd8a64e",
            "0f81195c9d344a3fa5354c42bba07098",
            "c477db7ac6bc4a839121ec098f259410",
            "24ae5099394246088fe518e105bfb2c0",
            "af353280407c439f8176afd09b32579b",
            "5de38398f4f14700a8c714d8a277740e",
            "002d841c7b514fbc882bd857489371fe",
            "908ed59c4124459089dcdccd4e639846"
          ]
        },
        "id": "WPUMKjHIHjGC",
        "outputId": "89fba9c8-fa9a-4f8b-f648-b3a667891b2b"
      },
      "execution_count": 214,
      "outputs": [
        {
          "output_type": "display_data",
          "data": {
            "text/plain": [
              "Downloading pytorch_model.bin:   0%|          | 0.00/445M [00:00<?, ?B/s]"
            ],
            "application/vnd.jupyter.widget-view+json": {
              "version_major": 2,
              "version_minor": 0,
              "model_id": "8eae1090d20e45748ac9eb5992c76fd5"
            }
          },
          "metadata": {}
        },
        {
          "output_type": "stream",
          "name": "stderr",
          "text": [
            "Some weights of the PyTorch model were not used when initializing the TF 2.0 model TFBertModel: ['cls.predictions.transform.dense.bias', 'cls.seq_relationship.weight', 'cls.predictions.transform.LayerNorm.bias', 'bert.embeddings.position_ids', 'cls.seq_relationship.bias', 'cls.predictions.bias', 'cls.predictions.transform.LayerNorm.weight', 'cls.predictions.transform.dense.weight', 'cls.predictions.decoder.bias', 'cls.predictions.decoder.weight']\n",
            "- This IS expected if you are initializing TFBertModel from a PyTorch model trained on another task or with another architecture (e.g. initializing a TFBertForSequenceClassification model from a BertForPreTraining model).\n",
            "- This IS NOT expected if you are initializing TFBertModel from a PyTorch model that you expect to be exactly identical (e.g. initializing a TFBertForSequenceClassification model from a BertForSequenceClassification model).\n",
            "All the weights of TFBertModel were initialized from the PyTorch model.\n",
            "If your task is similar to the task the model of the checkpoint was trained on, you can already use TFBertModel for predictions without further training.\n"
          ]
        }
      ]
    },
    {
      "cell_type": "code",
      "source": [
        "max_seq_len = 128"
      ],
      "metadata": {
        "id": "Dj1GJa9iBQ3H"
      },
      "execution_count": 215,
      "outputs": []
    },
    {
      "cell_type": "code",
      "source": [
        "# keras input class이용\n",
        "input_ids_layer = tf.keras.layers.Input(shape=(max_seq_len,), dtype=tf.int32)"
      ],
      "metadata": {
        "id": "S7DFjn7ZBPax"
      },
      "execution_count": 216,
      "outputs": []
    },
    {
      "cell_type": "code",
      "source": [
        "attention_masks_layer = tf.keras.layers.Input(shape=(max_seq_len,), dtype=tf.int32)"
      ],
      "metadata": {
        "id": "WOP0kQdOBSex"
      },
      "execution_count": 217,
      "outputs": []
    },
    {
      "cell_type": "code",
      "source": [
        "token_type_ids_layer = tf.keras.layers.Input(shape=(max_seq_len,), dtype=tf.int32)"
      ],
      "metadata": {
        "id": "437qWWX5BSai"
      },
      "execution_count": 218,
      "outputs": []
    },
    {
      "cell_type": "code",
      "source": [
        "outputs = model([input_ids_layer, attention_masks_layer,token_type_ids_layer])"
      ],
      "metadata": {
        "id": "tLwYDKxBBSWC"
      },
      "execution_count": 219,
      "outputs": []
    },
    {
      "cell_type": "code",
      "source": [
        "print(outputs[0])\n",
        "# (None, 128, 768) : (배치크기, 128, 768) # 768차원 벡터가 128개 있다. 즉, 문장 길이(128)만큼 출력이 된다.\n",
        "# bert를 이용하여 다 : 다 문제를 해결하고자 할때 위 구조를 사용\n",
        "# 다:다 문제의 유형. 객체명인식 => 홍길동은 이번 카카오 코딩 테스트에 합격했다."
      ],
      "metadata": {
        "colab": {
          "base_uri": "https://localhost:8080/"
        },
        "id": "i5y9-qP2BSSy",
        "outputId": "ec50c4e8-b064-4303-8ef4-3a51c7d3ec01"
      },
      "execution_count": 220,
      "outputs": [
        {
          "output_type": "stream",
          "name": "stdout",
          "text": [
            "KerasTensor(type_spec=TensorSpec(shape=(None, 128, 768), dtype=tf.float32, name=None), name='tf_bert_model/bert/encoder/layer_._11/output/LayerNorm/batchnorm/add_1:0', description=\"created by layer 'tf_bert_model'\")\n"
          ]
        }
      ]
    },
    {
      "cell_type": "code",
      "source": [
        "print(outputs[1])\n",
        "#(None, 768) : (배치크기, 768) 다:1문제, 감성분류"
      ],
      "metadata": {
        "colab": {
          "base_uri": "https://localhost:8080/"
        },
        "id": "190LooXGBSKG",
        "outputId": "cdf8b73b-c37a-47df-8d4b-507673d7d9e1"
      },
      "execution_count": 221,
      "outputs": [
        {
          "output_type": "stream",
          "name": "stdout",
          "text": [
            "KerasTensor(type_spec=TensorSpec(shape=(None, 768), dtype=tf.float32, name=None), name='tf_bert_model/bert/pooler/dense/Tanh:0', description=\"created by layer 'tf_bert_model'\")\n"
          ]
        }
      ]
    },
    {
      "cell_type": "code",
      "source": [
        "class TFBertForSequenceClassification(tf.keras.Model):\n",
        "    def __init__(self, model_name): # 클래스 -> 객체를 생성하는 시점에 무조건 호출됨(생성자 함수)\n",
        "        super(TFBertForSequenceClassification, self).__init__() # 초기화\n",
        "        self.bert = TFBertModel.from_pretrained(model_name, from_pt=True)\n",
        "        self.classifier = tf.keras.layers.Dense(1,\n",
        "                                                kernel_initializer=tf.keras.initializers.TruncatedNormal(0.02),\n",
        "                                                activation='sigmoid',\n",
        "                                                name='classifier')\n",
        "    def call(self, inputs):\n",
        "        input_ids, attention_mask, token_type_ids = inputs\n",
        "        outputs = self.bert(input_ids=input_ids, attention_mask=attention_mask, token_type_ids=token_type_ids)\n",
        "        cls_token = outputs[1] # 다:1문제 유형. 만약 다:다 문제인 경우에는 outputs[0]을 참조함\n",
        "        prediction = self.classifier(cls_token)\n",
        "\n",
        "        return prediction"
      ],
      "metadata": {
        "id": "QBqfNzPQHtjK"
      },
      "execution_count": 222,
      "outputs": []
    },
    {
      "cell_type": "code",
      "source": [
        "with strategy.scope():\n",
        "  model = TFBertForSequenceClassification(\"bert-base-multilingual-cased\") # 객체가 만들어짐 , 안에 값이 재료\n",
        "  optimizer = tf.keras.optimizers.Adam(learning_rate=5e-5)\n",
        "  loss = tf.keras.losses.BinaryCrossentropy()\n",
        "  model.compile(optimizer=optimizer, loss=loss, metrics = ['accuracy'])"
      ],
      "metadata": {
        "colab": {
          "base_uri": "https://localhost:8080/",
          "height": 160,
          "referenced_widgets": [
            "36ec688f507f45388ba4cbbc4703842d",
            "08fc2ad01b304caeb659fe56801a65e9",
            "a7044db062114468b1158f98c47d06d3",
            "2f192d602b2c4570a1c7815b985131d7",
            "674c19785b6348a0b01bc8678d4145a3",
            "6a2f5d74bb4943c7aa6e3c0f351de2cb",
            "71f3092a261b4844bebf63ba22cc1290",
            "373416adefe64db39d241c20a9be77cc",
            "6bf76547513e45bbbc12df0b06de2d73",
            "b1bad7f4f3d94e27aa671e4f4c4b5d23",
            "25b45c6d46804cc19f6560046bc569da"
          ]
        },
        "id": "LIziVWCDH3cp",
        "outputId": "b765cd01-ac36-4c37-bf29-0b0fe89b3c44"
      },
      "execution_count": 224,
      "outputs": [
        {
          "output_type": "display_data",
          "data": {
            "text/plain": [
              "Downloading pytorch_model.bin:   0%|          | 0.00/714M [00:00<?, ?B/s]"
            ],
            "application/vnd.jupyter.widget-view+json": {
              "version_major": 2,
              "version_minor": 0,
              "model_id": "36ec688f507f45388ba4cbbc4703842d"
            }
          },
          "metadata": {}
        },
        {
          "output_type": "stream",
          "name": "stderr",
          "text": [
            "Some weights of the PyTorch model were not used when initializing the TF 2.0 model TFBertModel: ['cls.predictions.transform.dense.bias', 'cls.seq_relationship.weight', 'cls.predictions.transform.LayerNorm.bias', 'cls.seq_relationship.bias', 'cls.predictions.bias', 'cls.predictions.transform.LayerNorm.weight', 'cls.predictions.transform.dense.weight', 'cls.predictions.decoder.weight']\n",
            "- This IS expected if you are initializing TFBertModel from a PyTorch model trained on another task or with another architecture (e.g. initializing a TFBertForSequenceClassification model from a BertForPreTraining model).\n",
            "- This IS NOT expected if you are initializing TFBertModel from a PyTorch model that you expect to be exactly identical (e.g. initializing a TFBertForSequenceClassification model from a BertForSequenceClassification model).\n",
            "All the weights of TFBertModel were initialized from the PyTorch model.\n",
            "If your task is similar to the task the model of the checkpoint was trained on, you can already use TFBertModel for predictions without further training.\n"
          ]
        }
      ]
    },
    {
      "cell_type": "code",
      "source": [
        "# 기존 bert모델에 새로운 데이터(댓글 데이터) 추가 학습(fine tuning)\n",
        "model.fit(train_X, train_y, epochs=2, batch_size=64, validation_split=0.2)"
      ],
      "metadata": {
        "colab": {
          "base_uri": "https://localhost:8080/"
        },
        "id": "ublOOCSXHwou",
        "outputId": "d66ea184-5209-465d-b8f0-17ccdc1e6081"
      },
      "execution_count": 225,
      "outputs": [
        {
          "output_type": "stream",
          "name": "stdout",
          "text": [
            "Epoch 1/2\n",
            "125/125 [==============================] - 111s 246ms/step - loss: 0.6178 - accuracy: 0.6435 - val_loss: 0.5226 - val_accuracy: 0.7450\n",
            "Epoch 2/2\n",
            "125/125 [==============================] - 15s 120ms/step - loss: 0.4513 - accuracy: 0.7887 - val_loss: 0.4937 - val_accuracy: 0.7530\n"
          ]
        },
        {
          "output_type": "execute_result",
          "data": {
            "text/plain": [
              "<keras.callbacks.History at 0x7c490f7a2260>"
            ]
          },
          "metadata": {},
          "execution_count": 225
        }
      ]
    },
    {
      "cell_type": "code",
      "source": [
        "results = model.evaluate(test_X, test_y, batch_size=1024)\n",
        "print(results)"
      ],
      "metadata": {
        "colab": {
          "base_uri": "https://localhost:8080/"
        },
        "id": "QmnpupsLH0Eu",
        "outputId": "a8a50070-7d02-4fa2-d648-fff1e357a844"
      },
      "execution_count": 226,
      "outputs": [
        {
          "output_type": "stream",
          "name": "stdout",
          "text": [
            "3/3 [==============================] - 13s 3s/step - loss: 0.4193 - accuracy: 0.8080\n",
            "[0.4192945659160614, 0.8080000281333923]\n"
          ]
        }
      ]
    },
    {
      "cell_type": "code",
      "source": [
        "def sentiment_predict(new_sentence):\n",
        "    #긍정/부정 분류\n",
        "    #input_id :  encoding된 문장이 들어감\n",
        "  input_id = tokenizer.encode(new_sentence, max_length=max_seq_len, pad_to_max_length=True)\n",
        "\n",
        "  padding_count = input_id.count(tokenizer.pad_token_id)\n",
        "  attention_mask = [1] * (max_seq_len - padding_count) + [0] * padding_count\n",
        "  token_type_id = [0] * max_seq_len\n",
        "\n",
        "  # array 변환\n",
        "  input_ids = np.array([input_id])\n",
        "  attention_masks = np.array([attention_mask])\n",
        "  token_type_ids = np.array([token_type_id])\n",
        "\n",
        "  encoded_input = [input_ids, attention_masks, token_type_ids]\n",
        "  score = model.predict(encoded_input)[0][0]\n",
        "  print(score)\n",
        "\n",
        "  if(score > 0.5):\n",
        "    print(\"{:.2f}% 확률로 긍정 리뷰입니다.\\n\".format(score * 100))\n",
        "  else:\n",
        "    print(\"{:.2f}% 확률로 부정 리뷰입니다.\\n\".format((1 - score) * 100))"
      ],
      "metadata": {
        "id": "5Mi6QaY2IIXm"
      },
      "execution_count": 227,
      "outputs": []
    },
    {
      "cell_type": "code",
      "source": [
        "print(sentiment_predict('아 정말 개짜증 재미 없어'))\n",
        "print(sentiment_predict('이딴게 영화라고...'))\n",
        "print(sentiment_predict('개꿀잼 왕추천'))"
      ],
      "metadata": {
        "colab": {
          "base_uri": "https://localhost:8080/"
        },
        "id": "o9yCsDCpIIR4",
        "outputId": "2604fb9b-b678-4cc6-8607-0926f38dd53a"
      },
      "execution_count": 228,
      "outputs": [
        {
          "output_type": "stream",
          "name": "stderr",
          "text": [
            "/usr/local/lib/python3.10/dist-packages/transformers/tokenization_utils_base.py:2393: FutureWarning: The `pad_to_max_length` argument is deprecated and will be removed in a future version, use `padding=True` or `padding='longest'` to pad to the longest sequence in the batch, or use `padding='max_length'` to pad to a max length. In this case, you can give a specific length with `max_length` (e.g. `max_length=45`) or leave max_length to None to pad to the maximal input size of the model (e.g. 512 for Bert).\n",
            "  warnings.warn(\n"
          ]
        },
        {
          "output_type": "stream",
          "name": "stdout",
          "text": [
            "1/1 [==============================] - 11s 11s/step\n",
            "0.038311988\n",
            "96.17% 확률로 부정 리뷰입니다.\n",
            "\n",
            "None\n",
            "1/1 [==============================] - 1s 611ms/step\n",
            "0.19034758\n",
            "80.97% 확률로 부정 리뷰입니다.\n",
            "\n",
            "None\n",
            "1/1 [==============================] - 1s 624ms/step\n",
            "0.65774924\n",
            "65.77% 확률로 긍정 리뷰입니다.\n",
            "\n",
            "None\n"
          ]
        }
      ]
    },
    {
      "cell_type": "markdown",
      "source": [
        "##2. KoBERT를 이용하여 KorNLI 문제 해결"
      ],
      "metadata": {
        "id": "t7mLDHP7JMC1"
      }
    },
    {
      "cell_type": "code",
      "source": [
        "### KoBERT를 이용하여 KorNLI 문제 해결\n",
        "\n",
        "import os\n",
        "import pandas as pd\n",
        "import numpy as np\n",
        "from tqdm import tqdm\n",
        "import urllib.request\n",
        "from sklearn import preprocessing\n",
        "import tensorflow as tf\n",
        "from transformers import BertTokenizer, TFBertModel\n",
        "from tensorflow.keras.callbacks import EarlyStopping, ModelCheckpoint"
      ],
      "metadata": {
        "id": "5e3WPGZfIIId"
      },
      "execution_count": 229,
      "outputs": []
    },
    {
      "cell_type": "code",
      "source": [
        "# 훈련 데이터 다운로드\n",
        "urllib.request.urlretrieve(\"https://raw.githubusercontent.com/kakaobrain/KorNLUDatasets/master/KorNLI/multinli.train.ko.tsv\", filename=\"multinli.train.ko.tsv\")\n",
        "urllib.request.urlretrieve(\"https://raw.githubusercontent.com/kakaobrain/KorNLUDatasets/master/KorNLI/snli_1.0_train.ko.tsv\", filename=\"snli_1.0_train.ko.tsv\")"
      ],
      "metadata": {
        "colab": {
          "base_uri": "https://localhost:8080/"
        },
        "id": "GdNYaISBJVJI",
        "outputId": "b34a8a5d-3728-4149-a407-99225ca29214"
      },
      "execution_count": 230,
      "outputs": [
        {
          "output_type": "execute_result",
          "data": {
            "text/plain": [
              "('snli_1.0_train.ko.tsv', <http.client.HTTPMessage at 0x7c49049b2e60>)"
            ]
          },
          "metadata": {},
          "execution_count": 230
        }
      ]
    },
    {
      "cell_type": "code",
      "source": [
        "# 검증데이터\n",
        "urllib.request.urlretrieve(\"https://raw.githubusercontent.com/kakaobrain/KorNLUDatasets/master/KorNLI/xnli.dev.ko.tsv\", filename=\"xnli.dev.ko.tsv\")"
      ],
      "metadata": {
        "colab": {
          "base_uri": "https://localhost:8080/"
        },
        "id": "b2ANqX8dJW3-",
        "outputId": "c8484b8f-8aeb-4592-c9b8-09974f1e7546"
      },
      "execution_count": 231,
      "outputs": [
        {
          "output_type": "execute_result",
          "data": {
            "text/plain": [
              "('xnli.dev.ko.tsv', <http.client.HTTPMessage at 0x7c49049b2b00>)"
            ]
          },
          "metadata": {},
          "execution_count": 231
        }
      ]
    },
    {
      "cell_type": "code",
      "source": [
        "# 테스트 데이터 다운로드\n",
        "urllib.request.urlretrieve(\"https://raw.githubusercontent.com/kakaobrain/KorNLUDatasets/master/KorNLI/xnli.test.ko.tsv\", filename=\"xnli.test.ko.tsv\")"
      ],
      "metadata": {
        "colab": {
          "base_uri": "https://localhost:8080/"
        },
        "id": "2dXvrsXWJWL3",
        "outputId": "542a72e6-9cbe-4d45-e8af-f67c827c5bde"
      },
      "execution_count": 232,
      "outputs": [
        {
          "output_type": "execute_result",
          "data": {
            "text/plain": [
              "('xnli.test.ko.tsv', <http.client.HTTPMessage at 0x7c49049b2a40>)"
            ]
          },
          "metadata": {},
          "execution_count": 232
        }
      ]
    },
    {
      "cell_type": "code",
      "source": [
        "train_snli = pd.read_csv(\"snli_1.0_train.ko.tsv\", sep='\\t', quoting=3) # quoting : 인용부호('') 제거\n",
        "train_xnli = pd.read_csv(\"multinli.train.ko.tsv\", sep='\\t', quoting=3)\n",
        "val_data = pd.read_csv(\"xnli.dev.ko.tsv\", sep='\\t', quoting=3)\n",
        "test_data = pd.read_csv(\"xnli.test.ko.tsv\", sep='\\t', quoting=3)"
      ],
      "metadata": {
        "id": "_d1b6TXJJYLF"
      },
      "execution_count": 233,
      "outputs": []
    },
    {
      "cell_type": "markdown",
      "source": [
        "### 크기 줄이기"
      ],
      "metadata": {
        "id": "uvgTZ81ZJaKm"
      }
    },
    {
      "cell_type": "code",
      "source": [
        "train_snli.shape"
      ],
      "metadata": {
        "colab": {
          "base_uri": "https://localhost:8080/"
        },
        "id": "9ap_Mk8JJZA_",
        "outputId": "8dda8cbe-2d01-4d8b-a250-2291aba36690"
      },
      "execution_count": 234,
      "outputs": [
        {
          "output_type": "execute_result",
          "data": {
            "text/plain": [
              "(550152, 3)"
            ]
          },
          "metadata": {},
          "execution_count": 234
        }
      ]
    },
    {
      "cell_type": "code",
      "source": [
        "train_snli =  train_snli.head(10000)"
      ],
      "metadata": {
        "id": "NBrqG8gpJcax"
      },
      "execution_count": 235,
      "outputs": []
    },
    {
      "cell_type": "code",
      "source": [
        "train_xnli.shape"
      ],
      "metadata": {
        "colab": {
          "base_uri": "https://localhost:8080/"
        },
        "id": "RqGg-wZqJdT0",
        "outputId": "68becece-b272-41f4-f75f-0779364dbae7"
      },
      "execution_count": 236,
      "outputs": [
        {
          "output_type": "execute_result",
          "data": {
            "text/plain": [
              "(392702, 3)"
            ]
          },
          "metadata": {},
          "execution_count": 236
        }
      ]
    },
    {
      "cell_type": "code",
      "source": [
        "train_xnli = train_xnli.head(7000)"
      ],
      "metadata": {
        "id": "G6KcVpQMJeTR"
      },
      "execution_count": 237,
      "outputs": []
    },
    {
      "cell_type": "code",
      "source": [
        "# 두 데이터 합치기\n",
        "train_data = train_snli.append(train_xnli)"
      ],
      "metadata": {
        "colab": {
          "base_uri": "https://localhost:8080/"
        },
        "id": "hNhux-gDJfQD",
        "outputId": "ce0b0384-3a36-410c-fe7d-a8dce71627ac"
      },
      "execution_count": 238,
      "outputs": [
        {
          "output_type": "stream",
          "name": "stderr",
          "text": [
            "<ipython-input-238-bdda52f60acd>:2: FutureWarning: The frame.append method is deprecated and will be removed from pandas in a future version. Use pandas.concat instead.\n",
            "  train_data = train_snli.append(train_xnli)\n"
          ]
        }
      ]
    },
    {
      "cell_type": "code",
      "source": [
        "train_data.shape # (942854, 3)"
      ],
      "metadata": {
        "colab": {
          "base_uri": "https://localhost:8080/"
        },
        "id": "9SbAs03PJgGs",
        "outputId": "d15aee28-77b6-4dee-f572-69dbb6de7c73"
      },
      "execution_count": 239,
      "outputs": [
        {
          "output_type": "execute_result",
          "data": {
            "text/plain": [
              "(17000, 3)"
            ]
          },
          "metadata": {},
          "execution_count": 239
        }
      ]
    },
    {
      "cell_type": "code",
      "source": [
        "# 100% 데이터를 뒤섞어라\n",
        "train_data = train_data.sample(frac=1)"
      ],
      "metadata": {
        "id": "jpTQ-6CiJhL8"
      },
      "execution_count": 240,
      "outputs": []
    },
    {
      "cell_type": "code",
      "source": [
        "train_data.head()"
      ],
      "metadata": {
        "colab": {
          "base_uri": "https://localhost:8080/",
          "height": 285
        },
        "id": "MNLU9rXkJiWP",
        "outputId": "187dd711-bad1-471f-cdbe-4f79e9b2d864"
      },
      "execution_count": 241,
      "outputs": [
        {
          "output_type": "execute_result",
          "data": {
            "text/plain": [
              "                                              sentence1  \\\n",
              "4078                              한 무리의 사람들이 붐비는 곳에 있다.   \n",
              "1442                         해적 한 마리가 보도 아래로 공주를 쫓고 있다.   \n",
              "6384  그의 이전 작품은 세탁기 사이클을 통해 책을 넣고 전갈, 뱀, 곤충과 같은 살아있는...   \n",
              "5526          한 아프리카계 미국인 소년이 손을 얼굴에 대고 우리에 갇힌 곳에 서 있다.   \n",
              "5638                   파란 셔츠를 입은 남자가 두 손을 엉덩이에 얹고 서 있다.   \n",
              "\n",
              "                                              sentence2     gold_label  \n",
              "4078                            한 무리의 사람들이 조용한 골목에 있었다.  contradiction  \n",
              "1442                                           보도 위의 해적     entailment  \n",
              "6384  인클로저에 있는 다양한 유형의 중국 예술품은 살아있는 동물과 곤충을 전투에서 더욱 ...        neutral  \n",
              "5526                                 소년이 양손으로 공을 잡고 있다.  contradiction  \n",
              "5638                                      남자가 똑바로 서 있다.     entailment  "
            ],
            "text/html": [
              "\n",
              "\n",
              "  <div id=\"df-311a821f-88a4-4130-bd6b-bdcdf52cf95f\">\n",
              "    <div class=\"colab-df-container\">\n",
              "      <div>\n",
              "<style scoped>\n",
              "    .dataframe tbody tr th:only-of-type {\n",
              "        vertical-align: middle;\n",
              "    }\n",
              "\n",
              "    .dataframe tbody tr th {\n",
              "        vertical-align: top;\n",
              "    }\n",
              "\n",
              "    .dataframe thead th {\n",
              "        text-align: right;\n",
              "    }\n",
              "</style>\n",
              "<table border=\"1\" class=\"dataframe\">\n",
              "  <thead>\n",
              "    <tr style=\"text-align: right;\">\n",
              "      <th></th>\n",
              "      <th>sentence1</th>\n",
              "      <th>sentence2</th>\n",
              "      <th>gold_label</th>\n",
              "    </tr>\n",
              "  </thead>\n",
              "  <tbody>\n",
              "    <tr>\n",
              "      <th>4078</th>\n",
              "      <td>한 무리의 사람들이 붐비는 곳에 있다.</td>\n",
              "      <td>한 무리의 사람들이 조용한 골목에 있었다.</td>\n",
              "      <td>contradiction</td>\n",
              "    </tr>\n",
              "    <tr>\n",
              "      <th>1442</th>\n",
              "      <td>해적 한 마리가 보도 아래로 공주를 쫓고 있다.</td>\n",
              "      <td>보도 위의 해적</td>\n",
              "      <td>entailment</td>\n",
              "    </tr>\n",
              "    <tr>\n",
              "      <th>6384</th>\n",
              "      <td>그의 이전 작품은 세탁기 사이클을 통해 책을 넣고 전갈, 뱀, 곤충과 같은 살아있는...</td>\n",
              "      <td>인클로저에 있는 다양한 유형의 중국 예술품은 살아있는 동물과 곤충을 전투에서 더욱 ...</td>\n",
              "      <td>neutral</td>\n",
              "    </tr>\n",
              "    <tr>\n",
              "      <th>5526</th>\n",
              "      <td>한 아프리카계 미국인 소년이 손을 얼굴에 대고 우리에 갇힌 곳에 서 있다.</td>\n",
              "      <td>소년이 양손으로 공을 잡고 있다.</td>\n",
              "      <td>contradiction</td>\n",
              "    </tr>\n",
              "    <tr>\n",
              "      <th>5638</th>\n",
              "      <td>파란 셔츠를 입은 남자가 두 손을 엉덩이에 얹고 서 있다.</td>\n",
              "      <td>남자가 똑바로 서 있다.</td>\n",
              "      <td>entailment</td>\n",
              "    </tr>\n",
              "  </tbody>\n",
              "</table>\n",
              "</div>\n",
              "      <button class=\"colab-df-convert\" onclick=\"convertToInteractive('df-311a821f-88a4-4130-bd6b-bdcdf52cf95f')\"\n",
              "              title=\"Convert this dataframe to an interactive table.\"\n",
              "              style=\"display:none;\">\n",
              "\n",
              "  <svg xmlns=\"http://www.w3.org/2000/svg\" height=\"24px\"viewBox=\"0 0 24 24\"\n",
              "       width=\"24px\">\n",
              "    <path d=\"M0 0h24v24H0V0z\" fill=\"none\"/>\n",
              "    <path d=\"M18.56 5.44l.94 2.06.94-2.06 2.06-.94-2.06-.94-.94-2.06-.94 2.06-2.06.94zm-11 1L8.5 8.5l.94-2.06 2.06-.94-2.06-.94L8.5 2.5l-.94 2.06-2.06.94zm10 10l.94 2.06.94-2.06 2.06-.94-2.06-.94-.94-2.06-.94 2.06-2.06.94z\"/><path d=\"M17.41 7.96l-1.37-1.37c-.4-.4-.92-.59-1.43-.59-.52 0-1.04.2-1.43.59L10.3 9.45l-7.72 7.72c-.78.78-.78 2.05 0 2.83L4 21.41c.39.39.9.59 1.41.59.51 0 1.02-.2 1.41-.59l7.78-7.78 2.81-2.81c.8-.78.8-2.07 0-2.86zM5.41 20L4 18.59l7.72-7.72 1.47 1.35L5.41 20z\"/>\n",
              "  </svg>\n",
              "      </button>\n",
              "\n",
              "\n",
              "\n",
              "    <div id=\"df-4a6bcfe0-b63d-473b-9baf-c2140f73c9e1\">\n",
              "      <button class=\"colab-df-quickchart\" onclick=\"quickchart('df-4a6bcfe0-b63d-473b-9baf-c2140f73c9e1')\"\n",
              "              title=\"Suggest charts.\"\n",
              "              style=\"display:none;\">\n",
              "\n",
              "<svg xmlns=\"http://www.w3.org/2000/svg\" height=\"24px\"viewBox=\"0 0 24 24\"\n",
              "     width=\"24px\">\n",
              "    <g>\n",
              "        <path d=\"M19 3H5c-1.1 0-2 .9-2 2v14c0 1.1.9 2 2 2h14c1.1 0 2-.9 2-2V5c0-1.1-.9-2-2-2zM9 17H7v-7h2v7zm4 0h-2V7h2v10zm4 0h-2v-4h2v4z\"/>\n",
              "    </g>\n",
              "</svg>\n",
              "      </button>\n",
              "    </div>\n",
              "\n",
              "<style>\n",
              "  .colab-df-quickchart {\n",
              "    background-color: #E8F0FE;\n",
              "    border: none;\n",
              "    border-radius: 50%;\n",
              "    cursor: pointer;\n",
              "    display: none;\n",
              "    fill: #1967D2;\n",
              "    height: 32px;\n",
              "    padding: 0 0 0 0;\n",
              "    width: 32px;\n",
              "  }\n",
              "\n",
              "  .colab-df-quickchart:hover {\n",
              "    background-color: #E2EBFA;\n",
              "    box-shadow: 0px 1px 2px rgba(60, 64, 67, 0.3), 0px 1px 3px 1px rgba(60, 64, 67, 0.15);\n",
              "    fill: #174EA6;\n",
              "  }\n",
              "\n",
              "  [theme=dark] .colab-df-quickchart {\n",
              "    background-color: #3B4455;\n",
              "    fill: #D2E3FC;\n",
              "  }\n",
              "\n",
              "  [theme=dark] .colab-df-quickchart:hover {\n",
              "    background-color: #434B5C;\n",
              "    box-shadow: 0px 1px 3px 1px rgba(0, 0, 0, 0.15);\n",
              "    filter: drop-shadow(0px 1px 2px rgba(0, 0, 0, 0.3));\n",
              "    fill: #FFFFFF;\n",
              "  }\n",
              "</style>\n",
              "\n",
              "    <script>\n",
              "      async function quickchart(key) {\n",
              "        const containerElement = document.querySelector('#' + key);\n",
              "        const charts = await google.colab.kernel.invokeFunction(\n",
              "            'suggestCharts', [key], {});\n",
              "      }\n",
              "    </script>\n",
              "\n",
              "      <script>\n",
              "\n",
              "function displayQuickchartButton(domScope) {\n",
              "  let quickchartButtonEl =\n",
              "    domScope.querySelector('#df-4a6bcfe0-b63d-473b-9baf-c2140f73c9e1 button.colab-df-quickchart');\n",
              "  quickchartButtonEl.style.display =\n",
              "    google.colab.kernel.accessAllowed ? 'block' : 'none';\n",
              "}\n",
              "\n",
              "        displayQuickchartButton(document);\n",
              "      </script>\n",
              "      <style>\n",
              "    .colab-df-container {\n",
              "      display:flex;\n",
              "      flex-wrap:wrap;\n",
              "      gap: 12px;\n",
              "    }\n",
              "\n",
              "    .colab-df-convert {\n",
              "      background-color: #E8F0FE;\n",
              "      border: none;\n",
              "      border-radius: 50%;\n",
              "      cursor: pointer;\n",
              "      display: none;\n",
              "      fill: #1967D2;\n",
              "      height: 32px;\n",
              "      padding: 0 0 0 0;\n",
              "      width: 32px;\n",
              "    }\n",
              "\n",
              "    .colab-df-convert:hover {\n",
              "      background-color: #E2EBFA;\n",
              "      box-shadow: 0px 1px 2px rgba(60, 64, 67, 0.3), 0px 1px 3px 1px rgba(60, 64, 67, 0.15);\n",
              "      fill: #174EA6;\n",
              "    }\n",
              "\n",
              "    [theme=dark] .colab-df-convert {\n",
              "      background-color: #3B4455;\n",
              "      fill: #D2E3FC;\n",
              "    }\n",
              "\n",
              "    [theme=dark] .colab-df-convert:hover {\n",
              "      background-color: #434B5C;\n",
              "      box-shadow: 0px 1px 3px 1px rgba(0, 0, 0, 0.15);\n",
              "      filter: drop-shadow(0px 1px 2px rgba(0, 0, 0, 0.3));\n",
              "      fill: #FFFFFF;\n",
              "    }\n",
              "  </style>\n",
              "\n",
              "      <script>\n",
              "        const buttonEl =\n",
              "          document.querySelector('#df-311a821f-88a4-4130-bd6b-bdcdf52cf95f button.colab-df-convert');\n",
              "        buttonEl.style.display =\n",
              "          google.colab.kernel.accessAllowed ? 'block' : 'none';\n",
              "\n",
              "        async function convertToInteractive(key) {\n",
              "          const element = document.querySelector('#df-311a821f-88a4-4130-bd6b-bdcdf52cf95f');\n",
              "          const dataTable =\n",
              "            await google.colab.kernel.invokeFunction('convertToInteractive',\n",
              "                                                     [key], {});\n",
              "          if (!dataTable) return;\n",
              "\n",
              "          const docLinkHtml = 'Like what you see? Visit the ' +\n",
              "            '<a target=\"_blank\" href=https://colab.research.google.com/notebooks/data_table.ipynb>data table notebook</a>'\n",
              "            + ' to learn more about interactive tables.';\n",
              "          element.innerHTML = '';\n",
              "          dataTable['output_type'] = 'display_data';\n",
              "          await google.colab.output.renderOutput(dataTable, element);\n",
              "          const docLink = document.createElement('div');\n",
              "          docLink.innerHTML = docLinkHtml;\n",
              "          element.appendChild(docLink);\n",
              "        }\n",
              "      </script>\n",
              "    </div>\n",
              "  </div>\n"
            ]
          },
          "metadata": {},
          "execution_count": 241
        }
      ]
    },
    {
      "cell_type": "code",
      "source": [
        "# 결측값, 중복 제거 함수\n",
        "def drop_na_and_duplciates(df):\n",
        "  df = df.dropna() # 결측값\n",
        "  df = df.drop_duplicates() # 중복값 제거\n",
        "  df = df.reset_index(drop=True)\n",
        "  return df"
      ],
      "metadata": {
        "id": "Dzx4uh9nJjc1"
      },
      "execution_count": 242,
      "outputs": []
    },
    {
      "cell_type": "code",
      "source": [
        "# 결측값 및 중복 샘플 제거\n",
        "train_data = drop_na_and_duplciates(train_data)\n",
        "val_data = drop_na_and_duplciates(val_data)\n",
        "test_data = drop_na_and_duplciates(test_data)"
      ],
      "metadata": {
        "id": "3TV8VCfHJkZF"
      },
      "execution_count": 243,
      "outputs": []
    },
    {
      "cell_type": "code",
      "source": [
        "print('훈련용 샘플 개수 :',len(train_data))\n",
        "print('검증용 샘플 개수 :',len(val_data))\n",
        "print('테스트용 샘플 개수 :',len(test_data))"
      ],
      "metadata": {
        "colab": {
          "base_uri": "https://localhost:8080/"
        },
        "id": "mJxqM4CXJlU5",
        "outputId": "0ca5d12d-5ee3-4859-b06d-571124a2d725"
      },
      "execution_count": 244,
      "outputs": [
        {
          "output_type": "stream",
          "name": "stdout",
          "text": [
            "훈련용 샘플 개수 : 16982\n",
            "검증용 샘플 개수 : 2490\n",
            "테스트용 샘플 개수 : 5010\n"
          ]
        }
      ]
    },
    {
      "cell_type": "code",
      "source": [
        "# BERT 모델 가져오기\n",
        "tokenizer = BertTokenizer.from_pretrained(\"klue/bert-base\")"
      ],
      "metadata": {
        "id": "66M79hOVJmMm"
      },
      "execution_count": 245,
      "outputs": []
    },
    {
      "cell_type": "code",
      "source": [
        "sent1 = train_data['sentence1'].iloc[0]\n",
        "sent2 = train_data['sentence2'].iloc[0]\n",
        "print(sent1)\n",
        "print(sent2)"
      ],
      "metadata": {
        "colab": {
          "base_uri": "https://localhost:8080/"
        },
        "id": "rx-fFcjsJnZA",
        "outputId": "891be783-d141-4250-a394-99913c56dc08"
      },
      "execution_count": 246,
      "outputs": [
        {
          "output_type": "stream",
          "name": "stdout",
          "text": [
            "한 무리의 사람들이 붐비는 곳에 있다.\n",
            "한 무리의 사람들이 조용한 골목에 있었다.\n"
          ]
        }
      ]
    },
    {
      "cell_type": "code",
      "source": [
        "max_seq_len = 128"
      ],
      "metadata": {
        "id": "muhvNkauJoXj"
      },
      "execution_count": 247,
      "outputs": []
    },
    {
      "cell_type": "code",
      "source": [
        "# 토크나이징 작업\n",
        "encoding_result = tokenizer.encode_plus(sent1, sent2, max_length=max_seq_len, pad_to_max_length=True)"
      ],
      "metadata": {
        "colab": {
          "base_uri": "https://localhost:8080/"
        },
        "id": "qOb2yL_0JpiH",
        "outputId": "4c7a7f07-42ef-4087-9943-364ee89559a0"
      },
      "execution_count": 248,
      "outputs": [
        {
          "output_type": "stream",
          "name": "stderr",
          "text": [
            "Truncation was not explicitly activated but `max_length` is provided a specific value, please use `truncation=True` to explicitly truncate examples to max length. Defaulting to 'longest_first' truncation strategy. If you encode pairs of sequences (GLUE-style) with the tokenizer you can select this strategy more precisely by providing a specific strategy to `truncation`.\n",
            "/usr/local/lib/python3.10/dist-packages/transformers/tokenization_utils_base.py:2393: FutureWarning: The `pad_to_max_length` argument is deprecated and will be removed in a future version, use `padding=True` or `padding='longest'` to pad to the longest sequence in the batch, or use `padding='max_length'` to pad to a max length. In this case, you can give a specific length with `max_length` (e.g. `max_length=45`) or leave max_length to None to pad to the maximal input size of the model (e.g. 512 for Bert).\n",
            "  warnings.warn(\n"
          ]
        }
      ]
    },
    {
      "cell_type": "code",
      "source": [
        "encoding_result"
      ],
      "metadata": {
        "colab": {
          "base_uri": "https://localhost:8080/"
        },
        "id": "NFiuPX0YJqiQ",
        "outputId": "d47cd73b-21f3-4aef-befd-eec08acbeb09"
      },
      "execution_count": 249,
      "outputs": [
        {
          "output_type": "execute_result",
          "data": {
            "text/plain": [
              "{'input_ids': [2, 1891, 5316, 2079, 3611, 7285, 26576, 2259, 601, 2170, 1513, 2062, 18, 3, 1891, 5316, 2079, 3611, 7285, 5574, 2470, 6996, 2170, 1513, 2359, 2062, 18, 3, 0, 0, 0, 0, 0, 0, 0, 0, 0, 0, 0, 0, 0, 0, 0, 0, 0, 0, 0, 0, 0, 0, 0, 0, 0, 0, 0, 0, 0, 0, 0, 0, 0, 0, 0, 0, 0, 0, 0, 0, 0, 0, 0, 0, 0, 0, 0, 0, 0, 0, 0, 0, 0, 0, 0, 0, 0, 0, 0, 0, 0, 0, 0, 0, 0, 0, 0, 0, 0, 0, 0, 0, 0, 0, 0, 0, 0, 0, 0, 0, 0, 0, 0, 0, 0, 0, 0, 0, 0, 0, 0, 0, 0, 0, 0, 0, 0, 0, 0, 0], 'token_type_ids': [0, 0, 0, 0, 0, 0, 0, 0, 0, 0, 0, 0, 0, 0, 1, 1, 1, 1, 1, 1, 1, 1, 1, 1, 1, 1, 1, 1, 0, 0, 0, 0, 0, 0, 0, 0, 0, 0, 0, 0, 0, 0, 0, 0, 0, 0, 0, 0, 0, 0, 0, 0, 0, 0, 0, 0, 0, 0, 0, 0, 0, 0, 0, 0, 0, 0, 0, 0, 0, 0, 0, 0, 0, 0, 0, 0, 0, 0, 0, 0, 0, 0, 0, 0, 0, 0, 0, 0, 0, 0, 0, 0, 0, 0, 0, 0, 0, 0, 0, 0, 0, 0, 0, 0, 0, 0, 0, 0, 0, 0, 0, 0, 0, 0, 0, 0, 0, 0, 0, 0, 0, 0, 0, 0, 0, 0, 0, 0], 'attention_mask': [1, 1, 1, 1, 1, 1, 1, 1, 1, 1, 1, 1, 1, 1, 1, 1, 1, 1, 1, 1, 1, 1, 1, 1, 1, 1, 1, 1, 0, 0, 0, 0, 0, 0, 0, 0, 0, 0, 0, 0, 0, 0, 0, 0, 0, 0, 0, 0, 0, 0, 0, 0, 0, 0, 0, 0, 0, 0, 0, 0, 0, 0, 0, 0, 0, 0, 0, 0, 0, 0, 0, 0, 0, 0, 0, 0, 0, 0, 0, 0, 0, 0, 0, 0, 0, 0, 0, 0, 0, 0, 0, 0, 0, 0, 0, 0, 0, 0, 0, 0, 0, 0, 0, 0, 0, 0, 0, 0, 0, 0, 0, 0, 0, 0, 0, 0, 0, 0, 0, 0, 0, 0, 0, 0, 0, 0, 0, 0]}"
            ]
          },
          "metadata": {},
          "execution_count": 249
        }
      ]
    },
    {
      "cell_type": "code",
      "source": [
        "def convert_examples_to_features(sent_list1, sent_list2, max_seq_len, tokenizer):\n",
        "    input_ids, attention_masks, token_type_ids = [], [], []\n",
        "    for sent1, sent2 in tqdm(zip(sent_list1, sent_list2), total=len(sent_list1)):\n",
        "        encoding_result = tokenizer.encode_plus(sent1, sent2, max_length=max_seq_len, pad_to_max_length=True)\n",
        "\n",
        "        input_ids.append(encoding_result['input_ids'])\n",
        "        attention_masks.append(encoding_result['attention_mask'])\n",
        "        token_type_ids.append(encoding_result['token_type_ids'])\n",
        "\n",
        "    input_ids = np.array(input_ids, dtype=int)\n",
        "    attention_masks = np.array(attention_masks, dtype=int)\n",
        "    token_type_ids = np.array(token_type_ids, dtype=int)\n",
        "\n",
        "    return (input_ids, attention_masks, token_type_ids)"
      ],
      "metadata": {
        "id": "TjOoDfTaJr16"
      },
      "execution_count": 250,
      "outputs": []
    },
    {
      "cell_type": "code",
      "source": [
        "X_train = convert_examples_to_features(train_data['sentence1'], train_data['sentence2'], max_seq_len=max_seq_len, tokenizer=tokenizer)"
      ],
      "metadata": {
        "colab": {
          "base_uri": "https://localhost:8080/"
        },
        "id": "fwxeNXpOJtM0",
        "outputId": "f2600a31-d52e-49fa-f9ba-018841b8250a"
      },
      "execution_count": 251,
      "outputs": [
        {
          "output_type": "stream",
          "name": "stderr",
          "text": [
            "  8%|▊         | 1347/16982 [00:01<00:25, 622.12it/s]Be aware, overflowing tokens are not returned for the setting you have chosen, i.e. sequence pairs with the 'longest_first' truncation strategy. So the returned list will always be empty even if some tokens have been removed.\n",
            "  9%|▉         | 1576/16982 [00:02<00:22, 699.61it/s]Be aware, overflowing tokens are not returned for the setting you have chosen, i.e. sequence pairs with the 'longest_first' truncation strategy. So the returned list will always be empty even if some tokens have been removed.\n",
            " 19%|█▊        | 3144/16982 [00:04<00:21, 630.98it/s]Be aware, overflowing tokens are not returned for the setting you have chosen, i.e. sequence pairs with the 'longest_first' truncation strategy. So the returned list will always be empty even if some tokens have been removed.\n",
            " 20%|██        | 3416/16982 [00:05<00:35, 385.46it/s]Be aware, overflowing tokens are not returned for the setting you have chosen, i.e. sequence pairs with the 'longest_first' truncation strategy. So the returned list will always be empty even if some tokens have been removed.\n",
            " 27%|██▋       | 4542/16982 [00:08<00:33, 376.31it/s]Be aware, overflowing tokens are not returned for the setting you have chosen, i.e. sequence pairs with the 'longest_first' truncation strategy. So the returned list will always be empty even if some tokens have been removed.\n",
            " 34%|███▎      | 5721/16982 [00:11<00:28, 401.66it/s]Be aware, overflowing tokens are not returned for the setting you have chosen, i.e. sequence pairs with the 'longest_first' truncation strategy. So the returned list will always be empty even if some tokens have been removed.\n",
            " 34%|███▍      | 5762/16982 [00:11<00:29, 375.47it/s]Be aware, overflowing tokens are not returned for the setting you have chosen, i.e. sequence pairs with the 'longest_first' truncation strategy. So the returned list will always be empty even if some tokens have been removed.\n",
            " 36%|███▌      | 6130/16982 [00:12<00:24, 444.18it/s]Be aware, overflowing tokens are not returned for the setting you have chosen, i.e. sequence pairs with the 'longest_first' truncation strategy. So the returned list will always be empty even if some tokens have been removed.\n",
            " 38%|███▊      | 6469/16982 [00:13<00:22, 465.90it/s]Be aware, overflowing tokens are not returned for the setting you have chosen, i.e. sequence pairs with the 'longest_first' truncation strategy. So the returned list will always be empty even if some tokens have been removed.\n",
            " 40%|████      | 6855/16982 [00:13<00:23, 428.47it/s]Be aware, overflowing tokens are not returned for the setting you have chosen, i.e. sequence pairs with the 'longest_first' truncation strategy. So the returned list will always be empty even if some tokens have been removed.\n",
            " 42%|████▏     | 7119/16982 [00:14<00:15, 648.72it/s]Be aware, overflowing tokens are not returned for the setting you have chosen, i.e. sequence pairs with the 'longest_first' truncation strategy. So the returned list will always be empty even if some tokens have been removed.\n",
            " 43%|████▎     | 7352/16982 [00:14<00:14, 644.30it/s]Be aware, overflowing tokens are not returned for the setting you have chosen, i.e. sequence pairs with the 'longest_first' truncation strategy. So the returned list will always be empty even if some tokens have been removed.\n",
            " 44%|████▍     | 7433/16982 [00:14<00:13, 686.75it/s]Be aware, overflowing tokens are not returned for the setting you have chosen, i.e. sequence pairs with the 'longest_first' truncation strategy. So the returned list will always be empty even if some tokens have been removed.\n",
            " 45%|████▌     | 7723/16982 [00:15<00:16, 567.01it/s]Be aware, overflowing tokens are not returned for the setting you have chosen, i.e. sequence pairs with the 'longest_first' truncation strategy. So the returned list will always be empty even if some tokens have been removed.\n",
            " 52%|█████▏    | 8892/16982 [00:16<00:10, 737.03it/s]Be aware, overflowing tokens are not returned for the setting you have chosen, i.e. sequence pairs with the 'longest_first' truncation strategy. So the returned list will always be empty even if some tokens have been removed.\n",
            " 57%|█████▋    | 9618/16982 [00:17<00:07, 1045.34it/s]Be aware, overflowing tokens are not returned for the setting you have chosen, i.e. sequence pairs with the 'longest_first' truncation strategy. So the returned list will always be empty even if some tokens have been removed.\n",
            " 58%|█████▊    | 9827/16982 [00:17<00:07, 1001.84it/s]Be aware, overflowing tokens are not returned for the setting you have chosen, i.e. sequence pairs with the 'longest_first' truncation strategy. So the returned list will always be empty even if some tokens have been removed.\n",
            " 63%|██████▎   | 10723/16982 [00:19<00:07, 845.04it/s]Be aware, overflowing tokens are not returned for the setting you have chosen, i.e. sequence pairs with the 'longest_first' truncation strategy. So the returned list will always be empty even if some tokens have been removed.\n",
            " 65%|██████▍   | 11030/16982 [00:19<00:06, 935.96it/s]Be aware, overflowing tokens are not returned for the setting you have chosen, i.e. sequence pairs with the 'longest_first' truncation strategy. So the returned list will always be empty even if some tokens have been removed.\n",
            " 68%|██████▊   | 11560/16982 [00:19<00:05, 994.68it/s]Be aware, overflowing tokens are not returned for the setting you have chosen, i.e. sequence pairs with the 'longest_first' truncation strategy. So the returned list will always be empty even if some tokens have been removed.\n",
            " 73%|███████▎  | 12341/16982 [00:20<00:04, 1039.33it/s]Be aware, overflowing tokens are not returned for the setting you have chosen, i.e. sequence pairs with the 'longest_first' truncation strategy. So the returned list will always be empty even if some tokens have been removed.\n",
            " 73%|███████▎  | 12452/16982 [00:20<00:04, 1056.78it/s]Be aware, overflowing tokens are not returned for the setting you have chosen, i.e. sequence pairs with the 'longest_first' truncation strategy. So the returned list will always be empty even if some tokens have been removed.\n",
            " 74%|███████▍  | 12566/16982 [00:20<00:04, 1076.97it/s]Be aware, overflowing tokens are not returned for the setting you have chosen, i.e. sequence pairs with the 'longest_first' truncation strategy. So the returned list will always be empty even if some tokens have been removed.\n",
            " 78%|███████▊  | 13254/16982 [00:21<00:03, 1065.03it/s]Be aware, overflowing tokens are not returned for the setting you have chosen, i.e. sequence pairs with the 'longest_first' truncation strategy. So the returned list will always be empty even if some tokens have been removed.\n",
            " 79%|███████▊  | 13361/16982 [00:21<00:03, 1049.97it/s]Be aware, overflowing tokens are not returned for the setting you have chosen, i.e. sequence pairs with the 'longest_first' truncation strategy. So the returned list will always be empty even if some tokens have been removed.\n",
            " 81%|████████▏ | 13812/16982 [00:22<00:02, 1108.24it/s]Be aware, overflowing tokens are not returned for the setting you have chosen, i.e. sequence pairs with the 'longest_first' truncation strategy. So the returned list will always be empty even if some tokens have been removed.\n",
            " 84%|████████▍ | 14295/16982 [00:22<00:02, 1140.04it/s]Be aware, overflowing tokens are not returned for the setting you have chosen, i.e. sequence pairs with the 'longest_first' truncation strategy. So the returned list will always be empty even if some tokens have been removed.\n",
            "Be aware, overflowing tokens are not returned for the setting you have chosen, i.e. sequence pairs with the 'longest_first' truncation strategy. So the returned list will always be empty even if some tokens have been removed.\n",
            " 86%|████████▌ | 14646/16982 [00:22<00:02, 1129.08it/s]Be aware, overflowing tokens are not returned for the setting you have chosen, i.e. sequence pairs with the 'longest_first' truncation strategy. So the returned list will always be empty even if some tokens have been removed.\n",
            " 93%|█████████▎| 15802/16982 [00:23<00:01, 1075.77it/s]Be aware, overflowing tokens are not returned for the setting you have chosen, i.e. sequence pairs with the 'longest_first' truncation strategy. So the returned list will always be empty even if some tokens have been removed.\n",
            " 95%|█████████▍| 16122/16982 [00:24<00:00, 1021.23it/s]Be aware, overflowing tokens are not returned for the setting you have chosen, i.e. sequence pairs with the 'longest_first' truncation strategy. So the returned list will always be empty even if some tokens have been removed.\n",
            " 98%|█████████▊| 16699/16982 [00:25<00:00, 630.91it/s]Be aware, overflowing tokens are not returned for the setting you have chosen, i.e. sequence pairs with the 'longest_first' truncation strategy. So the returned list will always be empty even if some tokens have been removed.\n",
            "100%|██████████| 16982/16982 [00:25<00:00, 664.15it/s]\n"
          ]
        }
      ]
    },
    {
      "cell_type": "code",
      "source": [
        "# 최대 길이: 128\n",
        "input_id = X_train[0][0]\n",
        "attention_mask = X_train[1][0]\n",
        "token_type_id = X_train[2][0]"
      ],
      "metadata": {
        "id": "fbGeND4WJvOP"
      },
      "execution_count": 252,
      "outputs": []
    },
    {
      "cell_type": "code",
      "source": [
        "print('단어에 대한 정수 인코딩 :',input_id)\n",
        "print('어텐션 마스크 :',attention_mask)\n",
        "print('세그먼트 인코딩 :',token_type_id)\n",
        "print('각 인코딩의 길이 :', len(input_id))\n",
        "print('정수 인코딩 복원 :',tokenizer.decode(input_id))"
      ],
      "metadata": {
        "colab": {
          "base_uri": "https://localhost:8080/"
        },
        "id": "kWVJrKP_Jwqg",
        "outputId": "2ea88acd-9d7d-40df-acf6-6fa2c9b88b69"
      },
      "execution_count": 253,
      "outputs": [
        {
          "output_type": "stream",
          "name": "stdout",
          "text": [
            "단어에 대한 정수 인코딩 : [    2  1891  5316  2079  3611  7285 26576  2259   601  2170  1513  2062\n",
            "    18     3  1891  5316  2079  3611  7285  5574  2470  6996  2170  1513\n",
            "  2359  2062    18     3     0     0     0     0     0     0     0     0\n",
            "     0     0     0     0     0     0     0     0     0     0     0     0\n",
            "     0     0     0     0     0     0     0     0     0     0     0     0\n",
            "     0     0     0     0     0     0     0     0     0     0     0     0\n",
            "     0     0     0     0     0     0     0     0     0     0     0     0\n",
            "     0     0     0     0     0     0     0     0     0     0     0     0\n",
            "     0     0     0     0     0     0     0     0     0     0     0     0\n",
            "     0     0     0     0     0     0     0     0     0     0     0     0\n",
            "     0     0     0     0     0     0     0     0]\n",
            "어텐션 마스크 : [1 1 1 1 1 1 1 1 1 1 1 1 1 1 1 1 1 1 1 1 1 1 1 1 1 1 1 1 0 0 0 0 0 0 0 0 0\n",
            " 0 0 0 0 0 0 0 0 0 0 0 0 0 0 0 0 0 0 0 0 0 0 0 0 0 0 0 0 0 0 0 0 0 0 0 0 0\n",
            " 0 0 0 0 0 0 0 0 0 0 0 0 0 0 0 0 0 0 0 0 0 0 0 0 0 0 0 0 0 0 0 0 0 0 0 0 0\n",
            " 0 0 0 0 0 0 0 0 0 0 0 0 0 0 0 0 0]\n",
            "세그먼트 인코딩 : [0 0 0 0 0 0 0 0 0 0 0 0 0 0 1 1 1 1 1 1 1 1 1 1 1 1 1 1 0 0 0 0 0 0 0 0 0\n",
            " 0 0 0 0 0 0 0 0 0 0 0 0 0 0 0 0 0 0 0 0 0 0 0 0 0 0 0 0 0 0 0 0 0 0 0 0 0\n",
            " 0 0 0 0 0 0 0 0 0 0 0 0 0 0 0 0 0 0 0 0 0 0 0 0 0 0 0 0 0 0 0 0 0 0 0 0 0\n",
            " 0 0 0 0 0 0 0 0 0 0 0 0 0 0 0 0 0]\n",
            "각 인코딩의 길이 : 128\n",
            "정수 인코딩 복원 : [CLS] 한 무리의 사람들이 붐비는 곳에 있다. [SEP] 한 무리의 사람들이 조용한 골목에 있었다. [SEP] [PAD] [PAD] [PAD] [PAD] [PAD] [PAD] [PAD] [PAD] [PAD] [PAD] [PAD] [PAD] [PAD] [PAD] [PAD] [PAD] [PAD] [PAD] [PAD] [PAD] [PAD] [PAD] [PAD] [PAD] [PAD] [PAD] [PAD] [PAD] [PAD] [PAD] [PAD] [PAD] [PAD] [PAD] [PAD] [PAD] [PAD] [PAD] [PAD] [PAD] [PAD] [PAD] [PAD] [PAD] [PAD] [PAD] [PAD] [PAD] [PAD] [PAD] [PAD] [PAD] [PAD] [PAD] [PAD] [PAD] [PAD] [PAD] [PAD] [PAD] [PAD] [PAD] [PAD] [PAD] [PAD] [PAD] [PAD] [PAD] [PAD] [PAD] [PAD] [PAD] [PAD] [PAD] [PAD] [PAD] [PAD] [PAD] [PAD] [PAD] [PAD] [PAD] [PAD] [PAD] [PAD] [PAD] [PAD] [PAD] [PAD] [PAD] [PAD] [PAD] [PAD] [PAD] [PAD] [PAD] [PAD] [PAD] [PAD] [PAD]\n"
          ]
        }
      ]
    },
    {
      "cell_type": "code",
      "source": [
        "X_val = convert_examples_to_features(val_data['sentence1'], val_data['sentence2'], max_seq_len=max_seq_len, tokenizer=tokenizer)"
      ],
      "metadata": {
        "colab": {
          "base_uri": "https://localhost:8080/"
        },
        "id": "gOXXAooLJxsL",
        "outputId": "a8620e09-ef5e-4962-99bc-fab21ff95f9b"
      },
      "execution_count": 254,
      "outputs": [
        {
          "output_type": "stream",
          "name": "stderr",
          "text": [
            "100%|██████████| 2490/2490 [00:05<00:00, 473.05it/s]\n"
          ]
        }
      ]
    },
    {
      "cell_type": "code",
      "source": [
        "# 최대 길이: 128\n",
        "input_id = X_val[0][0]\n",
        "attention_mask = X_val[1][0]\n",
        "token_type_id = X_val[2][0]\n",
        "print('단어에 대한 정수 인코딩 :',input_id)\n",
        "print('어텐션 마스크 :',attention_mask)\n",
        "print('세그먼트 인코딩 :',token_type_id)\n",
        "print('각 인코딩의 길이 :', len(input_id))\n",
        "print('정수 인코딩 복원 :',tokenizer.decode(input_id))"
      ],
      "metadata": {
        "colab": {
          "base_uri": "https://localhost:8080/"
        },
        "id": "ZuR_jcWoJzfR",
        "outputId": "bd26d268-c92d-4940-a087-251ec2820911"
      },
      "execution_count": 255,
      "outputs": [
        {
          "output_type": "stream",
          "name": "stdout",
          "text": [
            "단어에 대한 정수 인코딩 : [    2  3673   636  2116  1041  2371  2062    16     6  4122    16  1535\n",
            "  1458 10283    18     6     3   636  2259  3741  4942  2116   636  2138\n",
            "  4105  2223  2155  6000  4122  2170  2318  4117  2138   572  2359  2062\n",
            "    18     3     0     0     0     0     0     0     0     0     0     0\n",
            "     0     0     0     0     0     0     0     0     0     0     0     0\n",
            "     0     0     0     0     0     0     0     0     0     0     0     0\n",
            "     0     0     0     0     0     0     0     0     0     0     0     0\n",
            "     0     0     0     0     0     0     0     0     0     0     0     0\n",
            "     0     0     0     0     0     0     0     0     0     0     0     0\n",
            "     0     0     0     0     0     0     0     0     0     0     0     0\n",
            "     0     0     0     0     0     0     0     0]\n",
            "어텐션 마스크 : [1 1 1 1 1 1 1 1 1 1 1 1 1 1 1 1 1 1 1 1 1 1 1 1 1 1 1 1 1 1 1 1 1 1 1 1 1\n",
            " 1 0 0 0 0 0 0 0 0 0 0 0 0 0 0 0 0 0 0 0 0 0 0 0 0 0 0 0 0 0 0 0 0 0 0 0 0\n",
            " 0 0 0 0 0 0 0 0 0 0 0 0 0 0 0 0 0 0 0 0 0 0 0 0 0 0 0 0 0 0 0 0 0 0 0 0 0\n",
            " 0 0 0 0 0 0 0 0 0 0 0 0 0 0 0 0 0]\n",
            "세그먼트 인코딩 : [0 0 0 0 0 0 0 0 0 0 0 0 0 0 0 0 0 1 1 1 1 1 1 1 1 1 1 1 1 1 1 1 1 1 1 1 1\n",
            " 1 0 0 0 0 0 0 0 0 0 0 0 0 0 0 0 0 0 0 0 0 0 0 0 0 0 0 0 0 0 0 0 0 0 0 0 0\n",
            " 0 0 0 0 0 0 0 0 0 0 0 0 0 0 0 0 0 0 0 0 0 0 0 0 0 0 0 0 0 0 0 0 0 0 0 0 0\n",
            " 0 0 0 0 0 0 0 0 0 0 0 0 0 0 0 0 0]\n",
            "각 인코딩의 길이 : 128\n",
            "정수 인코딩 복원 : [CLS] 그리고 그가 말했다, \" 엄마, 저 왔어요. \" [SEP] 그는 학교 버스가 그를 내려주자마자 엄마에게 전화를 걸었다. [SEP] [PAD] [PAD] [PAD] [PAD] [PAD] [PAD] [PAD] [PAD] [PAD] [PAD] [PAD] [PAD] [PAD] [PAD] [PAD] [PAD] [PAD] [PAD] [PAD] [PAD] [PAD] [PAD] [PAD] [PAD] [PAD] [PAD] [PAD] [PAD] [PAD] [PAD] [PAD] [PAD] [PAD] [PAD] [PAD] [PAD] [PAD] [PAD] [PAD] [PAD] [PAD] [PAD] [PAD] [PAD] [PAD] [PAD] [PAD] [PAD] [PAD] [PAD] [PAD] [PAD] [PAD] [PAD] [PAD] [PAD] [PAD] [PAD] [PAD] [PAD] [PAD] [PAD] [PAD] [PAD] [PAD] [PAD] [PAD] [PAD] [PAD] [PAD] [PAD] [PAD] [PAD] [PAD] [PAD] [PAD] [PAD] [PAD] [PAD] [PAD] [PAD] [PAD] [PAD] [PAD] [PAD] [PAD] [PAD] [PAD] [PAD] [PAD]\n"
          ]
        }
      ]
    },
    {
      "cell_type": "code",
      "source": [
        "X_test = convert_examples_to_features(test_data['sentence1'], test_data['sentence2'], max_seq_len=max_seq_len, tokenizer=tokenizer)"
      ],
      "metadata": {
        "colab": {
          "base_uri": "https://localhost:8080/"
        },
        "id": "a3KBoGSvJ2Wj",
        "outputId": "dbddda0b-792a-47ba-891c-c0f1bc0acbbd"
      },
      "execution_count": 256,
      "outputs": [
        {
          "output_type": "stream",
          "name": "stderr",
          "text": [
            "100%|██████████| 5010/5010 [00:05<00:00, 989.32it/s]\n"
          ]
        }
      ]
    },
    {
      "cell_type": "code",
      "source": [
        "train_label = train_data['gold_label'].tolist()\n",
        "val_label = val_data['gold_label'].tolist()\n",
        "test_label = test_data['gold_label'].tolist()"
      ],
      "metadata": {
        "id": "slZkpKFUJ4JD"
      },
      "execution_count": 257,
      "outputs": []
    },
    {
      "cell_type": "code",
      "source": [
        "# 문자 → 카테고리화 - pd.get_dummies() , LabelEncoder()\n",
        "idx_encode = preprocessing.LabelEncoder()\n",
        "idx_encode.fit(train_label)\n",
        "y_train = idx_encode.transform(train_label) # 주어진 고유한 정수로 변환\n",
        "y_val = idx_encode.transform(val_label) # 고유한 정수로 변환\n",
        "y_test = idx_encode.transform(test_label) # 고유한 정수로 변환"
      ],
      "metadata": {
        "id": "3A4fjdheJ5K0"
      },
      "execution_count": 258,
      "outputs": []
    },
    {
      "cell_type": "code",
      "source": [
        "label_idx = dict(zip(list(idx_encode.classes_), idx_encode.transform(list(idx_encode.classes_))))"
      ],
      "metadata": {
        "id": "D-WZdjF0J57g"
      },
      "execution_count": 259,
      "outputs": []
    },
    {
      "cell_type": "code",
      "source": [
        "idx_label = {value: key for key, value in label_idx.items()}"
      ],
      "metadata": {
        "id": "-Bdw8mlsJ7Gq"
      },
      "execution_count": 260,
      "outputs": []
    },
    {
      "cell_type": "code",
      "source": [
        "print(label_idx)\n",
        "print(idx_label)"
      ],
      "metadata": {
        "colab": {
          "base_uri": "https://localhost:8080/"
        },
        "id": "zKBGn3BRJ8Ny",
        "outputId": "6c99a0e3-29fc-4471-aab0-0254cb8981b2"
      },
      "execution_count": 261,
      "outputs": [
        {
          "output_type": "stream",
          "name": "stdout",
          "text": [
            "{'contradiction': 0, 'entailment': 1, 'neutral': 2}\n",
            "{0: 'contradiction', 1: 'entailment', 2: 'neutral'}\n"
          ]
        }
      ]
    },
    {
      "cell_type": "code",
      "source": [
        "class TFBertForSequenceClassification(tf.keras.Model):\n",
        "    def __init__(self, model_name, num_labels):\n",
        "        super(TFBertForSequenceClassification, self).__init__()\n",
        "        self.bert = TFBertModel.from_pretrained(model_name, from_pt=True)\n",
        "        self.classifier = tf.keras.layers.Dense(num_labels,\n",
        "                                                kernel_initializer=tf.keras.initializers.TruncatedNormal(0.02),\n",
        "                                                activation='softmax',\n",
        "                                                name='classifier')\n",
        "    def call(self, inputs):\n",
        "        input_ids, attention_mask, token_type_ids = inputs\n",
        "        outputs = self.bert(input_ids=input_ids, attention_mask=attention_mask, token_type_ids=token_type_ids)\n",
        "        cls_token = outputs[1]\n",
        "        prediction = self.classifier(cls_token)\n",
        "        return prediction"
      ],
      "metadata": {
        "id": "wxZwGCWRJ9C-"
      },
      "execution_count": 262,
      "outputs": []
    },
    {
      "cell_type": "code",
      "source": [
        "# TPU 작동을 위한 코드 TPU 작동을 위한 코드\n",
        "resolver = tf.distribute.cluster_resolver.TPUClusterResolver(tpu='grpc://' + os.environ['COLAB_TPU_ADDR'])\n",
        "tf.config.experimental_connect_to_cluster(resolver)\n",
        "tf.tpu.experimental.initialize_tpu_system(resolver)"
      ],
      "metadata": {
        "colab": {
          "base_uri": "https://localhost:8080/"
        },
        "id": "UNM0aSgWJ90K",
        "outputId": "8453eba6-b81e-4aa2-c7dc-eb802100dddc"
      },
      "execution_count": 263,
      "outputs": [
        {
          "output_type": "stream",
          "name": "stderr",
          "text": [
            "WARNING:tensorflow:TPU system grpc://10.67.200.58:8470 has already been initialized. Reinitializing the TPU can cause previously created variables on TPU to be lost.\n"
          ]
        },
        {
          "output_type": "execute_result",
          "data": {
            "text/plain": [
              "<tensorflow.python.tpu.topology.Topology at 0x7c49065cba90>"
            ]
          },
          "metadata": {},
          "execution_count": 263
        }
      ]
    },
    {
      "cell_type": "code",
      "source": [
        "strategy = tf.distribute.experimental.TPUStrategy(resolver)"
      ],
      "metadata": {
        "colab": {
          "base_uri": "https://localhost:8080/"
        },
        "id": "HFyaPSflJ_HF",
        "outputId": "1c17e1d5-df9b-42a0-d697-515f606030f7"
      },
      "execution_count": 264,
      "outputs": [
        {
          "output_type": "stream",
          "name": "stderr",
          "text": [
            "WARNING:absl:`tf.distribute.experimental.TPUStrategy` is deprecated, please use  the non experimental symbol `tf.distribute.TPUStrategy` instead.\n"
          ]
        }
      ]
    },
    {
      "cell_type": "code",
      "source": [
        "with strategy.scope():\n",
        "  model = TFBertForSequenceClassification(\"klue/bert-base\", num_labels=3)\n",
        "  optimizer = tf.keras.optimizers.Adam(learning_rate=5e-5)\n",
        "  loss = tf.keras.losses.SparseCategoricalCrossentropy()\n",
        "  model.compile(optimizer=optimizer, loss=loss, metrics = ['accuracy'])"
      ],
      "metadata": {
        "colab": {
          "base_uri": "https://localhost:8080/"
        },
        "id": "6EAS-4G2KAHW",
        "outputId": "b47f7680-b6dc-4fb3-8797-faf82f186537"
      },
      "execution_count": 265,
      "outputs": [
        {
          "output_type": "stream",
          "name": "stderr",
          "text": [
            "Some weights of the PyTorch model were not used when initializing the TF 2.0 model TFBertModel: ['cls.predictions.transform.dense.bias', 'cls.seq_relationship.weight', 'cls.predictions.transform.LayerNorm.bias', 'bert.embeddings.position_ids', 'cls.seq_relationship.bias', 'cls.predictions.bias', 'cls.predictions.transform.LayerNorm.weight', 'cls.predictions.transform.dense.weight', 'cls.predictions.decoder.bias', 'cls.predictions.decoder.weight']\n",
            "- This IS expected if you are initializing TFBertModel from a PyTorch model trained on another task or with another architecture (e.g. initializing a TFBertForSequenceClassification model from a BertForPreTraining model).\n",
            "- This IS NOT expected if you are initializing TFBertModel from a PyTorch model that you expect to be exactly identical (e.g. initializing a TFBertForSequenceClassification model from a BertForSequenceClassification model).\n",
            "All the weights of TFBertModel were initialized from the PyTorch model.\n",
            "If your task is similar to the task the model of the checkpoint was trained on, you can already use TFBertModel for predictions without further training.\n"
          ]
        }
      ]
    },
    {
      "cell_type": "code",
      "source": [
        "# ram 부족으로 중단됨 -> data 줄여서 다시 실행\n",
        "early_stopping = EarlyStopping(\n",
        "    monitor=\"val_accuracy\",\n",
        "    min_delta=0.001,\n",
        "    patience=2)\n",
        "model.fit(\n",
        "    X_train, y_train, epochs=5, batch_size=32, validation_data = (X_val, y_val),\n",
        "    callbacks = [early_stopping]\n",
        ")"
      ],
      "metadata": {
        "colab": {
          "base_uri": "https://localhost:8080/"
        },
        "id": "Lc7ctYjFKBCt",
        "outputId": "956898c6-ff24-482b-a8c9-a899923ac3b4"
      },
      "execution_count": 266,
      "outputs": [
        {
          "output_type": "stream",
          "name": "stdout",
          "text": [
            "Epoch 1/5\n",
            "531/531 [==============================] - 181s 179ms/step - loss: 0.7809 - accuracy: 0.6510 - val_loss: 0.7353 - val_accuracy: 0.6888\n",
            "Epoch 2/5\n",
            "531/531 [==============================] - 44s 84ms/step - loss: 0.4927 - accuracy: 0.8078 - val_loss: 0.7288 - val_accuracy: 0.7036\n",
            "Epoch 3/5\n",
            "531/531 [==============================] - 46s 87ms/step - loss: 0.2785 - accuracy: 0.9008 - val_loss: 1.0212 - val_accuracy: 0.6554\n",
            "Epoch 4/5\n",
            "531/531 [==============================] - 44s 83ms/step - loss: 0.1624 - accuracy: 0.9434 - val_loss: 1.1765 - val_accuracy: 0.6799\n"
          ]
        },
        {
          "output_type": "execute_result",
          "data": {
            "text/plain": [
              "<keras.callbacks.History at 0x7c49066d7040>"
            ]
          },
          "metadata": {},
          "execution_count": 266
        }
      ]
    },
    {
      "cell_type": "code",
      "source": [
        "print(\"\\n 테스트 정확도: %.4f\" % (model.evaluate(X_test, y_test, batch_size=1024)[1]))"
      ],
      "metadata": {
        "colab": {
          "base_uri": "https://localhost:8080/"
        },
        "id": "IkQwi1YvKCHE",
        "outputId": "3579a9a9-3858-4f4e-d275-571557147d6e"
      },
      "execution_count": 267,
      "outputs": [
        {
          "output_type": "stream",
          "name": "stdout",
          "text": [
            "5/5 [==============================] - 13s 2s/step - loss: 1.1560 - accuracy: 0.6822\n",
            "\n",
            " 테스트 정확도: 0.6822\n"
          ]
        }
      ]
    },
    {
      "cell_type": "code",
      "source": [],
      "metadata": {
        "id": "h15Seyf_KDN3"
      },
      "execution_count": null,
      "outputs": []
    }
  ]
}